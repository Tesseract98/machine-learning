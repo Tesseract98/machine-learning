{
 "cells": [
  {
   "cell_type": "code",
   "execution_count": 0,
   "metadata": {
    "colab": {},
    "colab_type": "code",
    "id": "alpCZCf3HIjR"
   },
   "outputs": [],
   "source": [
    "# !pip install tensorflow==1.14."
   ]
  },
  {
   "cell_type": "code",
   "execution_count": 0,
   "metadata": {
    "colab": {},
    "colab_type": "code",
    "id": "OHs4lYe2916z"
   },
   "outputs": [],
   "source": [
    "import pandas as pd\n",
    "from glob import glob\n",
    "import os\n",
    "from PIL import Image\n",
    "import numpy as np\n",
    "import random"
   ]
  },
  {
   "cell_type": "code",
   "execution_count": 3,
   "metadata": {
    "colab": {
     "base_uri": "https://localhost:8080/",
     "height": 35
    },
    "colab_type": "code",
    "id": "CTJpJAyB9169",
    "outputId": "57b4d821-6989-4872-e7e7-2a53a093437a"
   },
   "outputs": [
    {
     "name": "stderr",
     "output_type": "stream",
     "text": [
      "Using TensorFlow backend.\n"
     ]
    }
   ],
   "source": [
    "%tensorflow_version 2.x\n",
    "from keras.applications.resnet50 import ResNet50\n",
    "from keras.preprocessing import image\n",
    "from keras.applications.resnet50 import preprocess_input, decode_predictions\n",
    "from xgboost import XGBClassifier\n",
    "from sklearn.model_selection import train_test_split\n",
    "from sklearn.metrics import accuracy_score\n",
    "\n",
    "random.seed(34)"
   ]
  },
  {
   "cell_type": "code",
   "execution_count": null,
   "metadata": {
    "colab_type": "raw",
    "id": "y2RWYr5Y917G"
   },
   "outputs": [],
   "source": [
    "# Скачайте полные данные отсюда https://www.kaggle.com/c/dogs-vs-cats/data (примерно 820мб)\n",
    "# У вас должно быть две папки train и test. Однако в данном задании мы не будем использвать test выборку\n",
    "# Функцию для чтения данных мы реализовали за вас\n",
    "\n",
    "# def read_dataset(path):\n",
    "#     X = []\n",
    "#     y = []\n",
    "    \n",
    "#     image_paths_list = glob(os.path.join(path, 'train', '*.jpg'))\n",
    "#     print(path)\n",
    "#     image_paths_sample = random.sample(image_paths_list, 100)\n",
    "\n",
    "#     for image_path in image_paths_sample:\n",
    "#         image_name = os.path.basename(image_path)\n",
    "#         image_name_parts = image_name.split('.')\n",
    "#         label = image_name_parts[0] if len(image_name_parts) == 3 else None\n",
    "\n",
    "#         if label:\n",
    "#             y.append(int(label == 'cat'))\n",
    "            \n",
    "#         x = image.img_to_array(image.load_img(image_path, target_size=(224, 224)))\n",
    "#         x = preprocess_input(x)\n",
    "            \n",
    "#         X.append(x)\n",
    "            \n",
    "#     return np.array(X), y"
   ]
  },
  {
   "cell_type": "code",
   "execution_count": 4,
   "metadata": {
    "colab": {
     "base_uri": "https://localhost:8080/",
     "height": 35
    },
    "colab_type": "code",
    "id": "MuNymOX9_uDc",
    "outputId": "e356c0a2-59a4-4760-8ccc-6437942c4add"
   },
   "outputs": [
    {
     "name": "stdout",
     "output_type": "stream",
     "text": [
      "Drive already mounted at /content/drive; to attempt to forcibly remount, call drive.mount(\"/content/drive\", force_remount=True).\n"
     ]
    }
   ],
   "source": [
    "from google.colab import drive\n",
    "drive.mount('/content/drive')"
   ]
  },
  {
   "cell_type": "markdown",
   "metadata": {
    "colab_type": "text",
    "id": "3l9KlFS_917I"
   },
   "source": [
    "Перепишите код read_dataset() таким образом чтобы читать изображения пачками по 1000 и сразу применять предобученный ResNet на них, сохраняя только полученные вектора как множество X. Примените эту функцию на всём датасете 25000 изображений."
   ]
  },
  {
   "cell_type": "code",
   "execution_count": 0,
   "metadata": {
    "colab": {},
    "colab_type": "code",
    "id": "nEVD3uLZ917L"
   },
   "outputs": [],
   "source": [
    "from random import shuffle\n",
    "from tqdm import tqdm_notebook\n",
    "\n",
    "def read_dataset(path, batch_size = 1000, n = 2):\n",
    "    X = np.array([])\n",
    "    y = []\n",
    "    image_paths_list = glob(os.path.join(path, '*.jpg'))\n",
    "    \n",
    "    assert(batch_size <= len(image_paths_list))\n",
    "    assert(n <= len(image_paths_list) / batch_size)\n",
    "    \n",
    "    shuffle(image_paths_list)\n",
    "    bot, top = 0, batch_size\n",
    "    \n",
    "    for i in tqdm_notebook(range(n)):\n",
    "        x_var = []\n",
    "        y_var = []\n",
    "        image_paths_sample = image_paths_list[bot:top]\n",
    "        for image_path in tqdm_notebook(image_paths_sample, leave=False):\n",
    "            image_name = os.path.basename(image_path)\n",
    "            image_name_parts = image_name.split('.')\n",
    "            label = image_name_parts[0] if len(image_name_parts) == 3 else None\n",
    "            if label:\n",
    "                y_var.append(int(label == 'cat'))\n",
    "\n",
    "            x = image.img_to_array(image.load_img(image_path, target_size=(224, 224)))\n",
    "            x_var.append(x)\n",
    "        \n",
    "        # x_var = np.expand_dims(x_var, axis=0)\n",
    "        x_var = preprocess_input(np.array(x_var), mode=y_var)   \n",
    "\n",
    "        if X.size == 0 and len(y) == 0:            \n",
    "          X = x_var\n",
    "          y = y_var\n",
    "        else:\n",
    "          X = np.vstack((X, x_var))\n",
    "          y += y_var\n",
    "                      \n",
    "        bot = top\n",
    "        top += batch_size\n",
    "    return X, np.array(y)"
   ]
  },
  {
   "cell_type": "code",
   "execution_count": 6,
   "metadata": {
    "colab": {
     "base_uri": "https://localhost:8080/",
     "height": 178,
     "referenced_widgets": [
      "b8fb77bae6a447e29f63ac95114ba946",
      "a0fece720b0a4bb2af3351fcad01d68f",
      "e5a9445b017e4d62b204a87b1f9728ec",
      "79fd2e754f6144018b282cc85cb32175",
      "ee95c4d9804840369dceab70aafc6987",
      "db19ec1c0ddd49b7940431ac34345ce6",
      "47aa6fcf4abe4e269493adb6215a3401",
      "bfa70c0b3a334a21afee4266d2e3f692",
      "bb4f53f31c8542458fa59e4aee6536fe",
      "6c5b6d8d6c00442683cacd4693b11919",
      "70ecaab216c24f1490c5f72e6e1a3f52",
      "c0c59c9f41f34592be4aa0c3a24b7108",
      "eafc22152edf462aacadcd99284de16e",
      "bf806a025e9841478422414e10a963a3",
      "8f55b7b656c24aa9bb9628ce0d579d50",
      "3b05525c76b1402f9de0f4a9388dde7e",
      "e70d0a6ce9e3440b985c6198b762721c",
      "25e0285619a343199e95dbd9a6bbfd51",
      "624f1fcecaa943c089fb67cf79c4cabc",
      "06e69848a7b94d7a91076e628414e532",
      "55ba7911ecd94950afe7fb5bb2a3be48",
      "020c52019d3a4474a01d6e9457e7d684",
      "9729fb2d05f34f97ad5d97547978f724",
      "685df856a6d949dca5f9f4a018349551"
     ]
    },
    "colab_type": "code",
    "id": "F1vlzfgx917V",
    "outputId": "d2b55ca8-6579-4dfd-bf40-cb6b2227f319"
   },
   "outputs": [
    {
     "name": "stderr",
     "output_type": "stream",
     "text": [
      "/usr/local/lib/python3.6/dist-packages/ipykernel_launcher.py:15: TqdmDeprecationWarning: This function will be removed in tqdm==5.0.0\n",
      "Please use `tqdm.notebook.tqdm` instead of `tqdm.tqdm_notebook`\n",
      "  from ipykernel import kernelapp as app\n"
     ]
    },
    {
     "data": {
      "application/vnd.jupyter.widget-view+json": {
       "model_id": "b8fb77bae6a447e29f63ac95114ba946",
       "version_major": 2,
       "version_minor": 0
      },
      "text/plain": [
       "HBox(children=(IntProgress(value=0, max=2), HTML(value='')))"
      ]
     },
     "metadata": {
      "tags": []
     },
     "output_type": "display_data"
    },
    {
     "name": "stderr",
     "output_type": "stream",
     "text": [
      "/usr/local/lib/python3.6/dist-packages/ipykernel_launcher.py:19: TqdmDeprecationWarning: This function will be removed in tqdm==5.0.0\n",
      "Please use `tqdm.notebook.tqdm` instead of `tqdm.tqdm_notebook`\n"
     ]
    },
    {
     "data": {
      "application/vnd.jupyter.widget-view+json": {
       "model_id": "bb4f53f31c8542458fa59e4aee6536fe",
       "version_major": 2,
       "version_minor": 0
      },
      "text/plain": [
       "HBox(children=(IntProgress(value=0, max=1000), HTML(value='')))"
      ]
     },
     "metadata": {
      "tags": []
     },
     "output_type": "display_data"
    },
    {
     "data": {
      "application/vnd.jupyter.widget-view+json": {
       "model_id": "e70d0a6ce9e3440b985c6198b762721c",
       "version_major": 2,
       "version_minor": 0
      },
      "text/plain": [
       "HBox(children=(IntProgress(value=0, max=1000), HTML(value='')))"
      ]
     },
     "metadata": {
      "tags": []
     },
     "output_type": "display_data"
    },
    {
     "name": "stdout",
     "output_type": "stream",
     "text": [
      "\n",
      "(2000, 224, 224, 3) (2000,)\n"
     ]
    }
   ],
   "source": [
    "# Используйте функцию read_dataset чтобы получить обучающую выборку\n",
    "\n",
    "train_directory = '/content/drive/My Drive/data/train'\n",
    "\n",
    "x_set, y_set = read_dataset(train_directory)\n",
    "\n",
    "# Проверьте размерности загруженных данных\n",
    "print(x_set.shape, y_set.shape)"
   ]
  },
  {
   "cell_type": "code",
   "execution_count": 7,
   "metadata": {
    "colab": {
     "base_uri": "https://localhost:8080/",
     "height": 35
    },
    "colab_type": "code",
    "id": "Wth2wUdb917b",
    "outputId": "1069845b-3005-4a89-b31b-167827626d1c"
   },
   "outputs": [
    {
     "name": "stdout",
     "output_type": "stream",
     "text": [
      "(1400, 224, 224, 3) (600, 224, 224, 3) (1400,) (600,)\n"
     ]
    }
   ],
   "source": [
    "# с помощью функции train_test_split поделите выборку на train и test в отношении 70/30\n",
    "# В качестве признаков используйте эмбеддинги, полученные на предыдущем шаге\n",
    "x_ftrs, y_ftrs, x_lbls, y_lbls = train_test_split(x_set, y_set, train_size=0.7, test_size=0.3)\n",
    "print(x_ftrs.shape, y_ftrs.shape, x_lbls.shape, y_lbls.shape)"
   ]
  },
  {
   "cell_type": "code",
   "execution_count": 0,
   "metadata": {
    "colab": {},
    "colab_type": "code",
    "id": "itE3Lp_o917g"
   },
   "outputs": [],
   "source": [
    "# Создаём модель для получения эмбеддингов\n",
    "model = ResNet50(weights='imagenet')"
   ]
  },
  {
   "cell_type": "code",
   "execution_count": 9,
   "metadata": {
    "colab": {
     "base_uri": "https://localhost:8080/",
     "height": 256
    },
    "colab_type": "code",
    "id": "HTGgaNxI0YfJ",
    "outputId": "d27c89f0-077d-4641-da5b-b1402a260c46"
   },
   "outputs": [
    {
     "name": "stdout",
     "output_type": "stream",
     "text": [
      "[[4.5497379e-07 5.7428324e-06 2.9949149e-07 ... 1.7181530e-07\n",
      "  7.0203332e-06 1.6194627e-03]\n",
      " [3.5918185e-06 9.4963416e-06 6.5699242e-06 ... 1.9180989e-06\n",
      "  3.2100431e-04 4.9715227e-04]\n",
      " [1.1968648e-07 1.0047628e-06 3.1431117e-08 ... 7.5480312e-07\n",
      "  1.5107339e-05 2.7924068e-05]\n",
      " ...\n",
      " [1.2821022e-06 8.5460642e-06 6.8753531e-07 ... 7.1617954e-08\n",
      "  1.4076164e-05 2.3110183e-03]\n",
      " [7.0062185e-07 7.5356138e-06 9.4543873e-07 ... 9.4759878e-07\n",
      "  3.3775097e-04 4.9330719e-04]\n",
      " [4.9742663e-08 1.9041844e-08 2.8401648e-09 ... 3.3018157e-08\n",
      "  1.9196536e-06 2.2696513e-06]]\n"
     ]
    }
   ],
   "source": [
    "# Используя объект model постройте эмбеддинги для обучающей выборки\n",
    "# print(help(model))\n",
    "embedding_trn = model.predict(x_ftrs)\n",
    "embedding_tst = model.predict(y_ftrs)\n",
    "print(embedding_trn)"
   ]
  },
  {
   "cell_type": "markdown",
   "metadata": {
    "colab_type": "text",
    "id": "lbUZyRzx917m"
   },
   "source": [
    "Создайте объект XGBClassifier со стандартными параметрами\n",
    "\n",
    "https://xgboost.readthedocs.io/en/latest/python/python_api.html#xgboost.XGBClassifier\n",
    "\n",
    "Обучите его"
   ]
  },
  {
   "cell_type": "code",
   "execution_count": 0,
   "metadata": {
    "colab": {},
    "colab_type": "code",
    "id": "toRHpS0Q917n"
   },
   "outputs": [],
   "source": [
    "from xgboost import XGBClassifier\n",
    "# Получите предсказания на тестовом и на обучающем множестве\n",
    "cls = XGBClassifier()\n",
    "cls.fit(embedding_trn, x_lbls)\n",
    "predicted = cls.predict(embedding_tst)"
   ]
  },
  {
   "cell_type": "code",
   "execution_count": 11,
   "metadata": {
    "colab": {
     "base_uri": "https://localhost:8080/",
     "height": 35
    },
    "colab_type": "code",
    "id": "Gxp2wEn9917t",
    "outputId": "3674c40c-41a9-498a-edd4-c0a020f611a2"
   },
   "outputs": [
    {
     "name": "stdout",
     "output_type": "stream",
     "text": [
      "0.9716666666666667\n"
     ]
    }
   ],
   "source": [
    "# С помощью функции accuracy_score оцените результаты\n",
    "print(accuracy_score(y_lbls, predicted))"
   ]
  },
  {
   "cell_type": "code",
   "execution_count": 12,
   "metadata": {
    "colab": {
     "base_uri": "https://localhost:8080/",
     "height": 35
    },
    "colab_type": "code",
    "id": "5fqON6NbG_Z5",
    "outputId": "21a31ff2-94a6-4719-fc5e-119ed5ece0c3"
   },
   "outputs": [
    {
     "name": "stdout",
     "output_type": "stream",
     "text": [
      "0.9716666666666667\n"
     ]
    }
   ],
   "source": [
    "hyper_cls = XGBClassifier(n_jobs=-1, n_estimators=150)\n",
    "\n",
    "e_set = [(embedding_trn, x_lbls), (embedding_tst, y_lbls)]\n",
    "\n",
    "hyper_cls.fit(embedding_trn, x_lbls, eval_set=e_set, verbose=0)\n",
    "hyper_predicted = hyper_cls.predict(embedding_tst)\n",
    "print(accuracy_score(y_lbls, hyper_predicted))"
   ]
  },
  {
   "cell_type": "markdown",
   "metadata": {
    "colab_type": "text",
    "id": "4tU4CzK6917z"
   },
   "source": [
    "Почитайте про параметры XGBoost здесь: https://sites.google.com/view/lauraepp/parameters\n",
    "Сделайте тюнинг гиперпараметров для XGBoost:\n",
    "1. Подберите максимальный num_iterations при котором скор на валидации близок к максимальному, а скорость обучения ещё приемлимая\n",
    "2. Для заданного num_iterations подберите подходящий learning rate\n",
    "3. С помощью библиотеки hyperopt подберите остальные гиперпараметры при фиксимрованных num_iterations и learning_rate. Не подбирайте параметр early_stopping"
   ]
  },
  {
   "cell_type": "code",
   "execution_count": 13,
   "metadata": {
    "colab": {
     "base_uri": "https://localhost:8080/",
     "height": 439
    },
    "colab_type": "code",
    "id": "xbsu9O3Z9170",
    "outputId": "cec17185-fba6-4bd8-ecdc-5d219181fba8"
   },
   "outputs": [
    {
     "name": "stdout",
     "output_type": "stream",
     "text": [
      "0.9835724329341703\n",
      "{'learning_rate': 0.064, 'max_depth': 5, 'n_estimators': 228}\n",
      "0.9821433494775343\n",
      "{'learning_rate': 0.033, 'max_depth': 3, 'n_estimators': 226}\n",
      "0.9728566045712291\n",
      "{'learning_rate': 0.006, 'max_depth': 8, 'n_estimators': 215}\n",
      "0.9835724329341703\n",
      "{'learning_rate': 0.07200000000000001, 'max_depth': 6, 'n_estimators': 162}\n",
      "0.9849999846829212\n",
      "{'learning_rate': 0.064, 'max_depth': 4, 'n_estimators': 221}\n",
      "0.9750009956101252\n",
      "{'learning_rate': 0.013000000000000001, 'max_depth': 5, 'n_estimators': 174}\n",
      "0.9807157977287835\n",
      "{'learning_rate': 0.028, 'max_depth': 3, 'n_estimators': 137}\n",
      "0.9842846771006607\n",
      "{'learning_rate': 0.085, 'max_depth': 3, 'n_estimators': 165}\n",
      "0.9842862088085457\n",
      "{'learning_rate': 0.079, 'max_depth': 6, 'n_estimators': 240}\n",
      "0.9835724329341703\n",
      "{'learning_rate': 0.066, 'max_depth': 8, 'n_estimators': 196}\n",
      "100%|██████████| 10/10 [06:01<00:00, 36.17s/it, best loss: -0.9849999846829212]\n",
      "\n",
      "best:  {'learning_rate': 0.064, 'max_depth': 1, 'n_estimators': 91}\n"
     ]
    }
   ],
   "source": [
    "from hyperopt import hp, tpe\n",
    "from hyperopt.fmin import fmin\n",
    "from sklearn.model_selection import cross_val_score\n",
    "\n",
    "def hyperopt_xgb_score(params):\n",
    "    clf = XGBClassifier(**params, n_jobs=-1)\n",
    "    current_score = cross_val_score(clf, embedding_trn, x_lbls, cv=3).mean()\n",
    "    print(current_score, params)\n",
    "    return -current_score\n",
    " \n",
    " \n",
    "simple_space_xgb = {\n",
    "            'learning_rate': hp.quniform('learning_rate', 0.001, 0.1, 0.001),\n",
    "            'max_depth':  hp.choice('max_depth', np.arange(3, 10, dtype=int)),\n",
    "            'n_estimators': hp.choice('n_estimators', np.arange(130, 250, dtype=int)),\n",
    "}\n",
    " \n",
    "best = fmin(fn=hyperopt_xgb_score, space=simple_space_xgb, algo=tpe.suggest, max_evals=10)\n",
    "print(\"\\nbest: \", best)"
   ]
  },
  {
   "cell_type": "code",
   "execution_count": 14,
   "metadata": {
    "colab": {
     "base_uri": "https://localhost:8080/",
     "height": 164
    },
    "colab_type": "code",
    "id": "tk3limLsPsnG",
    "outputId": "91a59126-82ee-448f-ddd1-74be7cc03a35"
   },
   "outputs": [
    {
     "name": "stdout",
     "output_type": "stream",
     "text": [
      "XGBClassifier(base_score=0.5, booster='gbtree', colsample_bylevel=1,\n",
      "              colsample_bynode=1, colsample_bytree=1, gamma=0,\n",
      "              learning_rate=0.064, max_delta_step=0, max_depth=1,\n",
      "              min_child_weight=1, missing=None, n_estimators=91, n_jobs=-1,\n",
      "              nthread=None, objective='binary:logistic', random_state=0,\n",
      "              reg_alpha=0, reg_lambda=1, scale_pos_weight=1, seed=None,\n",
      "              silent=None, subsample=1, verbosity=1)\n",
      "0.9633333333333334\n"
     ]
    }
   ],
   "source": [
    "optimized_model = XGBClassifier(**best, n_jobs=-1)\n",
    "optimized_model.fit(embedding_trn, x_lbls)\n",
    "opt_predicted = optimized_model.predict(embedding_tst)\n",
    "print(optimized_model)\n",
    "print(accuracy_score(y_lbls, opt_predicted))"
   ]
  },
  {
   "cell_type": "markdown",
   "metadata": {
    "colab_type": "text",
    "id": "esKIDLaa9174"
   },
   "source": [
    "Оцените важность признаков с помощью поля feature_importances_\n",
    "\n",
    "Пользуясь списком https://gist.github.com/yrevar/942d3a0ac09ec9e5eb3a посмотрите, какие классы оказались наиболее важными (со значениями importance больше 0)\n",
    "    \n",
    "Изменяйте параметры, чтобы оставить только действительно важные признаки"
   ]
  },
  {
   "cell_type": "code",
   "execution_count": 15,
   "metadata": {
    "colab": {
     "base_uri": "https://localhost:8080/",
     "height": 72
    },
    "colab_type": "code",
    "id": "MgjXwnmneb1F",
    "outputId": "647258a9-9814-4f50-ac34-d138628363e1"
   },
   "outputs": [
    {
     "name": "stdout",
     "output_type": "stream",
     "text": [
      "Requirement already satisfied: lxml in /usr/local/lib/python3.6/dist-packages (4.2.6)\n",
      "Requirement already satisfied: bs4 in /usr/local/lib/python3.6/dist-packages (0.0.1)\n",
      "Requirement already satisfied: beautifulsoup4 in /usr/local/lib/python3.6/dist-packages (from bs4) (4.6.3)\n"
     ]
    }
   ],
   "source": [
    "!pip install lxml\n",
    "!pip install bs4"
   ]
  },
  {
   "cell_type": "code",
   "execution_count": 20,
   "metadata": {
    "colab": {
     "base_uri": "https://localhost:8080/",
     "height": 384
    },
    "colab_type": "code",
    "id": "6emxEyjv9175",
    "outputId": "44a7400f-51d2-4fdb-be9e-e41deaac133b"
   },
   "outputs": [
    {
     "name": "stdout",
     "output_type": "stream",
     "text": [
      "285 Egyptian cat\n",
      "281 tabby, tabby cat\n",
      "243 bull mastiff\n",
      "234 Rottweiler\n",
      "283 Persian cat\n",
      "25 European fire salamander, Salamandra salamandra\n",
      "161 basset, basset hound\n",
      "575 golfcart, golf cart\n",
      "33 loggerhead, loggerhead turtle, Caretta caretta\n",
      "244 Tibetan mastiff\n",
      "332 Angora, Angora rabbit\n",
      "458 brass, memorial tablet, plaque\n",
      "500 cliff dwelling\n",
      "284 Siamese cat, Siamese\n",
      "401 accordion, piano accordion, squeeze box\n",
      "170 Irish wolfhound\n",
      "174 Norwegian elkhound, elkhound\n",
      "118 Dungeness crab, Cancer magister\n",
      "613 joystick\n",
      "894 wardrobe, closet, press\n"
     ]
    }
   ],
   "source": [
    "from bs4 import BeautifulSoup\n",
    "import requests\n",
    "import re\n",
    "\n",
    "url = \"https://gist.github.com/yrevar/942d3a0ac09ec9e5eb3a\"\n",
    "req = requests.get(url)\n",
    "soup = BeautifulSoup(req.text, \"lxml\")\n",
    "\n",
    "pattern = re.compile(r\"(\\d+): (\\\"|\\')(\\D+)(\\'|\\\")\")\n",
    "model_class = dict()\n",
    "for i in range(1, 1000):\n",
    "  fs = soup.find(\"td\", {\"id\": f\"file-imagenet1000_clsidx_to_labels-txt-LC{i}\"})\n",
    "  value_of_tag = pattern.findall(fs.text)\n",
    "  model_class[int(value_of_tag[0][0])] = value_of_tag[0][2]\n",
    "\n",
    "feature_imp = hyper_cls.feature_importances_\n",
    "significant_feature = dict()\n",
    "for i in range(len(feature_imp)):\n",
    "  if feature_imp[i] > 1e-4:\n",
    "    significant_feature[i] = feature_imp[i]\n",
    "\n",
    "counter = 0\n",
    "for i, j in sorted(list(significant_feature.items()), key=lambda x: x[-1], reverse=True):\n",
    "  if counter > 19:\n",
    "    break\n",
    "  print(i, model_class[i])\n",
    "  # print(f'index: {i}, value = {j}')\n",
    "  counter += 1"
   ]
  }
 ],
 "metadata": {
  "colab": {
   "collapsed_sections": [],
   "name": "Практика 3. XGBoost.ipynb",
   "provenance": []
  },
  "kernelspec": {
   "display_name": "Python 3",
   "language": "python",
   "name": "python3"
  },
  "language_info": {
   "codemirror_mode": {
    "name": "ipython",
    "version": 3
   },
   "file_extension": ".py",
   "mimetype": "text/x-python",
   "name": "python",
   "nbconvert_exporter": "python",
   "pygments_lexer": "ipython3",
   "version": "3.7.3"
  },
  "widgets": {
   "application/vnd.jupyter.widget-state+json": {
    "020c52019d3a4474a01d6e9457e7d684": {
     "model_module": "@jupyter-widgets/base",
     "model_name": "LayoutModel",
     "state": {
      "_model_module": "@jupyter-widgets/base",
      "_model_module_version": "1.2.0",
      "_model_name": "LayoutModel",
      "_view_count": null,
      "_view_module": "@jupyter-widgets/base",
      "_view_module_version": "1.2.0",
      "_view_name": "LayoutView",
      "align_content": null,
      "align_items": null,
      "align_self": null,
      "border": null,
      "bottom": null,
      "display": null,
      "flex": null,
      "flex_flow": null,
      "grid_area": null,
      "grid_auto_columns": null,
      "grid_auto_flow": null,
      "grid_auto_rows": null,
      "grid_column": null,
      "grid_gap": null,
      "grid_row": null,
      "grid_template_areas": null,
      "grid_template_columns": null,
      "grid_template_rows": null,
      "height": null,
      "justify_content": null,
      "justify_items": null,
      "left": null,
      "margin": null,
      "max_height": null,
      "max_width": null,
      "min_height": null,
      "min_width": null,
      "object_fit": null,
      "object_position": null,
      "order": null,
      "overflow": null,
      "overflow_x": null,
      "overflow_y": null,
      "padding": null,
      "right": null,
      "top": null,
      "visibility": null,
      "width": null
     }
    },
    "06e69848a7b94d7a91076e628414e532": {
     "model_module": "@jupyter-widgets/controls",
     "model_name": "HTMLModel",
     "state": {
      "_dom_classes": [],
      "_model_module": "@jupyter-widgets/controls",
      "_model_module_version": "1.5.0",
      "_model_name": "HTMLModel",
      "_view_count": null,
      "_view_module": "@jupyter-widgets/controls",
      "_view_module_version": "1.5.0",
      "_view_name": "HTMLView",
      "description": "",
      "description_tooltip": null,
      "layout": "IPY_MODEL_685df856a6d949dca5f9f4a018349551",
      "placeholder": "​",
      "style": "IPY_MODEL_9729fb2d05f34f97ad5d97547978f724",
      "value": " 1000/1000 [00:06&lt;00:00, 162.95it/s]"
     }
    },
    "25e0285619a343199e95dbd9a6bbfd51": {
     "model_module": "@jupyter-widgets/base",
     "model_name": "LayoutModel",
     "state": {
      "_model_module": "@jupyter-widgets/base",
      "_model_module_version": "1.2.0",
      "_model_name": "LayoutModel",
      "_view_count": null,
      "_view_module": "@jupyter-widgets/base",
      "_view_module_version": "1.2.0",
      "_view_name": "LayoutView",
      "align_content": null,
      "align_items": null,
      "align_self": null,
      "border": null,
      "bottom": null,
      "display": null,
      "flex": null,
      "flex_flow": null,
      "grid_area": null,
      "grid_auto_columns": null,
      "grid_auto_flow": null,
      "grid_auto_rows": null,
      "grid_column": null,
      "grid_gap": null,
      "grid_row": null,
      "grid_template_areas": null,
      "grid_template_columns": null,
      "grid_template_rows": null,
      "height": null,
      "justify_content": null,
      "justify_items": null,
      "left": null,
      "margin": null,
      "max_height": null,
      "max_width": null,
      "min_height": null,
      "min_width": null,
      "object_fit": null,
      "object_position": null,
      "order": null,
      "overflow": null,
      "overflow_x": null,
      "overflow_y": null,
      "padding": null,
      "right": null,
      "top": null,
      "visibility": null,
      "width": null
     }
    },
    "3b05525c76b1402f9de0f4a9388dde7e": {
     "model_module": "@jupyter-widgets/base",
     "model_name": "LayoutModel",
     "state": {
      "_model_module": "@jupyter-widgets/base",
      "_model_module_version": "1.2.0",
      "_model_name": "LayoutModel",
      "_view_count": null,
      "_view_module": "@jupyter-widgets/base",
      "_view_module_version": "1.2.0",
      "_view_name": "LayoutView",
      "align_content": null,
      "align_items": null,
      "align_self": null,
      "border": null,
      "bottom": null,
      "display": null,
      "flex": null,
      "flex_flow": null,
      "grid_area": null,
      "grid_auto_columns": null,
      "grid_auto_flow": null,
      "grid_auto_rows": null,
      "grid_column": null,
      "grid_gap": null,
      "grid_row": null,
      "grid_template_areas": null,
      "grid_template_columns": null,
      "grid_template_rows": null,
      "height": null,
      "justify_content": null,
      "justify_items": null,
      "left": null,
      "margin": null,
      "max_height": null,
      "max_width": null,
      "min_height": null,
      "min_width": null,
      "object_fit": null,
      "object_position": null,
      "order": null,
      "overflow": null,
      "overflow_x": null,
      "overflow_y": null,
      "padding": null,
      "right": null,
      "top": null,
      "visibility": null,
      "width": null
     }
    },
    "47aa6fcf4abe4e269493adb6215a3401": {
     "model_module": "@jupyter-widgets/controls",
     "model_name": "DescriptionStyleModel",
     "state": {
      "_model_module": "@jupyter-widgets/controls",
      "_model_module_version": "1.5.0",
      "_model_name": "DescriptionStyleModel",
      "_view_count": null,
      "_view_module": "@jupyter-widgets/base",
      "_view_module_version": "1.2.0",
      "_view_name": "StyleView",
      "description_width": ""
     }
    },
    "55ba7911ecd94950afe7fb5bb2a3be48": {
     "model_module": "@jupyter-widgets/controls",
     "model_name": "ProgressStyleModel",
     "state": {
      "_model_module": "@jupyter-widgets/controls",
      "_model_module_version": "1.5.0",
      "_model_name": "ProgressStyleModel",
      "_view_count": null,
      "_view_module": "@jupyter-widgets/base",
      "_view_module_version": "1.2.0",
      "_view_name": "StyleView",
      "bar_color": null,
      "description_width": "initial"
     }
    },
    "624f1fcecaa943c089fb67cf79c4cabc": {
     "model_module": "@jupyter-widgets/controls",
     "model_name": "IntProgressModel",
     "state": {
      "_dom_classes": [],
      "_model_module": "@jupyter-widgets/controls",
      "_model_module_version": "1.5.0",
      "_model_name": "IntProgressModel",
      "_view_count": null,
      "_view_module": "@jupyter-widgets/controls",
      "_view_module_version": "1.5.0",
      "_view_name": "ProgressView",
      "bar_style": "",
      "description": "100%",
      "description_tooltip": null,
      "layout": "IPY_MODEL_020c52019d3a4474a01d6e9457e7d684",
      "max": 1000,
      "min": 0,
      "orientation": "horizontal",
      "style": "IPY_MODEL_55ba7911ecd94950afe7fb5bb2a3be48",
      "value": 1000
     }
    },
    "685df856a6d949dca5f9f4a018349551": {
     "model_module": "@jupyter-widgets/base",
     "model_name": "LayoutModel",
     "state": {
      "_model_module": "@jupyter-widgets/base",
      "_model_module_version": "1.2.0",
      "_model_name": "LayoutModel",
      "_view_count": null,
      "_view_module": "@jupyter-widgets/base",
      "_view_module_version": "1.2.0",
      "_view_name": "LayoutView",
      "align_content": null,
      "align_items": null,
      "align_self": null,
      "border": null,
      "bottom": null,
      "display": null,
      "flex": null,
      "flex_flow": null,
      "grid_area": null,
      "grid_auto_columns": null,
      "grid_auto_flow": null,
      "grid_auto_rows": null,
      "grid_column": null,
      "grid_gap": null,
      "grid_row": null,
      "grid_template_areas": null,
      "grid_template_columns": null,
      "grid_template_rows": null,
      "height": null,
      "justify_content": null,
      "justify_items": null,
      "left": null,
      "margin": null,
      "max_height": null,
      "max_width": null,
      "min_height": null,
      "min_width": null,
      "object_fit": null,
      "object_position": null,
      "order": null,
      "overflow": null,
      "overflow_x": null,
      "overflow_y": null,
      "padding": null,
      "right": null,
      "top": null,
      "visibility": null,
      "width": null
     }
    },
    "6c5b6d8d6c00442683cacd4693b11919": {
     "model_module": "@jupyter-widgets/base",
     "model_name": "LayoutModel",
     "state": {
      "_model_module": "@jupyter-widgets/base",
      "_model_module_version": "1.2.0",
      "_model_name": "LayoutModel",
      "_view_count": null,
      "_view_module": "@jupyter-widgets/base",
      "_view_module_version": "1.2.0",
      "_view_name": "LayoutView",
      "align_content": null,
      "align_items": null,
      "align_self": null,
      "border": null,
      "bottom": null,
      "display": null,
      "flex": null,
      "flex_flow": null,
      "grid_area": null,
      "grid_auto_columns": null,
      "grid_auto_flow": null,
      "grid_auto_rows": null,
      "grid_column": null,
      "grid_gap": null,
      "grid_row": null,
      "grid_template_areas": null,
      "grid_template_columns": null,
      "grid_template_rows": null,
      "height": null,
      "justify_content": null,
      "justify_items": null,
      "left": null,
      "margin": null,
      "max_height": null,
      "max_width": null,
      "min_height": null,
      "min_width": null,
      "object_fit": null,
      "object_position": null,
      "order": null,
      "overflow": null,
      "overflow_x": null,
      "overflow_y": null,
      "padding": null,
      "right": null,
      "top": null,
      "visibility": null,
      "width": null
     }
    },
    "70ecaab216c24f1490c5f72e6e1a3f52": {
     "model_module": "@jupyter-widgets/controls",
     "model_name": "IntProgressModel",
     "state": {
      "_dom_classes": [],
      "_model_module": "@jupyter-widgets/controls",
      "_model_module_version": "1.5.0",
      "_model_name": "IntProgressModel",
      "_view_count": null,
      "_view_module": "@jupyter-widgets/controls",
      "_view_module_version": "1.5.0",
      "_view_name": "ProgressView",
      "bar_style": "",
      "description": "100%",
      "description_tooltip": null,
      "layout": "IPY_MODEL_bf806a025e9841478422414e10a963a3",
      "max": 1000,
      "min": 0,
      "orientation": "horizontal",
      "style": "IPY_MODEL_eafc22152edf462aacadcd99284de16e",
      "value": 1000
     }
    },
    "79fd2e754f6144018b282cc85cb32175": {
     "model_module": "@jupyter-widgets/controls",
     "model_name": "HTMLModel",
     "state": {
      "_dom_classes": [],
      "_model_module": "@jupyter-widgets/controls",
      "_model_module_version": "1.5.0",
      "_model_name": "HTMLModel",
      "_view_count": null,
      "_view_module": "@jupyter-widgets/controls",
      "_view_module_version": "1.5.0",
      "_view_name": "HTMLView",
      "description": "",
      "description_tooltip": null,
      "layout": "IPY_MODEL_bfa70c0b3a334a21afee4266d2e3f692",
      "placeholder": "​",
      "style": "IPY_MODEL_47aa6fcf4abe4e269493adb6215a3401",
      "value": " 2/2 [00:18&lt;00:00,  9.10s/it]"
     }
    },
    "8f55b7b656c24aa9bb9628ce0d579d50": {
     "model_module": "@jupyter-widgets/controls",
     "model_name": "DescriptionStyleModel",
     "state": {
      "_model_module": "@jupyter-widgets/controls",
      "_model_module_version": "1.5.0",
      "_model_name": "DescriptionStyleModel",
      "_view_count": null,
      "_view_module": "@jupyter-widgets/base",
      "_view_module_version": "1.2.0",
      "_view_name": "StyleView",
      "description_width": ""
     }
    },
    "9729fb2d05f34f97ad5d97547978f724": {
     "model_module": "@jupyter-widgets/controls",
     "model_name": "DescriptionStyleModel",
     "state": {
      "_model_module": "@jupyter-widgets/controls",
      "_model_module_version": "1.5.0",
      "_model_name": "DescriptionStyleModel",
      "_view_count": null,
      "_view_module": "@jupyter-widgets/base",
      "_view_module_version": "1.2.0",
      "_view_name": "StyleView",
      "description_width": ""
     }
    },
    "a0fece720b0a4bb2af3351fcad01d68f": {
     "model_module": "@jupyter-widgets/base",
     "model_name": "LayoutModel",
     "state": {
      "_model_module": "@jupyter-widgets/base",
      "_model_module_version": "1.2.0",
      "_model_name": "LayoutModel",
      "_view_count": null,
      "_view_module": "@jupyter-widgets/base",
      "_view_module_version": "1.2.0",
      "_view_name": "LayoutView",
      "align_content": null,
      "align_items": null,
      "align_self": null,
      "border": null,
      "bottom": null,
      "display": null,
      "flex": null,
      "flex_flow": null,
      "grid_area": null,
      "grid_auto_columns": null,
      "grid_auto_flow": null,
      "grid_auto_rows": null,
      "grid_column": null,
      "grid_gap": null,
      "grid_row": null,
      "grid_template_areas": null,
      "grid_template_columns": null,
      "grid_template_rows": null,
      "height": null,
      "justify_content": null,
      "justify_items": null,
      "left": null,
      "margin": null,
      "max_height": null,
      "max_width": null,
      "min_height": null,
      "min_width": null,
      "object_fit": null,
      "object_position": null,
      "order": null,
      "overflow": null,
      "overflow_x": null,
      "overflow_y": null,
      "padding": null,
      "right": null,
      "top": null,
      "visibility": null,
      "width": null
     }
    },
    "b8fb77bae6a447e29f63ac95114ba946": {
     "model_module": "@jupyter-widgets/controls",
     "model_name": "HBoxModel",
     "state": {
      "_dom_classes": [],
      "_model_module": "@jupyter-widgets/controls",
      "_model_module_version": "1.5.0",
      "_model_name": "HBoxModel",
      "_view_count": null,
      "_view_module": "@jupyter-widgets/controls",
      "_view_module_version": "1.5.0",
      "_view_name": "HBoxView",
      "box_style": "",
      "children": [
       "IPY_MODEL_e5a9445b017e4d62b204a87b1f9728ec",
       "IPY_MODEL_79fd2e754f6144018b282cc85cb32175"
      ],
      "layout": "IPY_MODEL_a0fece720b0a4bb2af3351fcad01d68f"
     }
    },
    "bb4f53f31c8542458fa59e4aee6536fe": {
     "model_module": "@jupyter-widgets/controls",
     "model_name": "HBoxModel",
     "state": {
      "_dom_classes": [],
      "_model_module": "@jupyter-widgets/controls",
      "_model_module_version": "1.5.0",
      "_model_name": "HBoxModel",
      "_view_count": null,
      "_view_module": "@jupyter-widgets/controls",
      "_view_module_version": "1.5.0",
      "_view_name": "HBoxView",
      "box_style": "",
      "children": [
       "IPY_MODEL_70ecaab216c24f1490c5f72e6e1a3f52",
       "IPY_MODEL_c0c59c9f41f34592be4aa0c3a24b7108"
      ],
      "layout": "IPY_MODEL_6c5b6d8d6c00442683cacd4693b11919"
     }
    },
    "bf806a025e9841478422414e10a963a3": {
     "model_module": "@jupyter-widgets/base",
     "model_name": "LayoutModel",
     "state": {
      "_model_module": "@jupyter-widgets/base",
      "_model_module_version": "1.2.0",
      "_model_name": "LayoutModel",
      "_view_count": null,
      "_view_module": "@jupyter-widgets/base",
      "_view_module_version": "1.2.0",
      "_view_name": "LayoutView",
      "align_content": null,
      "align_items": null,
      "align_self": null,
      "border": null,
      "bottom": null,
      "display": null,
      "flex": null,
      "flex_flow": null,
      "grid_area": null,
      "grid_auto_columns": null,
      "grid_auto_flow": null,
      "grid_auto_rows": null,
      "grid_column": null,
      "grid_gap": null,
      "grid_row": null,
      "grid_template_areas": null,
      "grid_template_columns": null,
      "grid_template_rows": null,
      "height": null,
      "justify_content": null,
      "justify_items": null,
      "left": null,
      "margin": null,
      "max_height": null,
      "max_width": null,
      "min_height": null,
      "min_width": null,
      "object_fit": null,
      "object_position": null,
      "order": null,
      "overflow": null,
      "overflow_x": null,
      "overflow_y": null,
      "padding": null,
      "right": null,
      "top": null,
      "visibility": null,
      "width": null
     }
    },
    "bfa70c0b3a334a21afee4266d2e3f692": {
     "model_module": "@jupyter-widgets/base",
     "model_name": "LayoutModel",
     "state": {
      "_model_module": "@jupyter-widgets/base",
      "_model_module_version": "1.2.0",
      "_model_name": "LayoutModel",
      "_view_count": null,
      "_view_module": "@jupyter-widgets/base",
      "_view_module_version": "1.2.0",
      "_view_name": "LayoutView",
      "align_content": null,
      "align_items": null,
      "align_self": null,
      "border": null,
      "bottom": null,
      "display": null,
      "flex": null,
      "flex_flow": null,
      "grid_area": null,
      "grid_auto_columns": null,
      "grid_auto_flow": null,
      "grid_auto_rows": null,
      "grid_column": null,
      "grid_gap": null,
      "grid_row": null,
      "grid_template_areas": null,
      "grid_template_columns": null,
      "grid_template_rows": null,
      "height": null,
      "justify_content": null,
      "justify_items": null,
      "left": null,
      "margin": null,
      "max_height": null,
      "max_width": null,
      "min_height": null,
      "min_width": null,
      "object_fit": null,
      "object_position": null,
      "order": null,
      "overflow": null,
      "overflow_x": null,
      "overflow_y": null,
      "padding": null,
      "right": null,
      "top": null,
      "visibility": null,
      "width": null
     }
    },
    "c0c59c9f41f34592be4aa0c3a24b7108": {
     "model_module": "@jupyter-widgets/controls",
     "model_name": "HTMLModel",
     "state": {
      "_dom_classes": [],
      "_model_module": "@jupyter-widgets/controls",
      "_model_module_version": "1.5.0",
      "_model_name": "HTMLModel",
      "_view_count": null,
      "_view_module": "@jupyter-widgets/controls",
      "_view_module_version": "1.5.0",
      "_view_name": "HTMLView",
      "description": "",
      "description_tooltip": null,
      "layout": "IPY_MODEL_3b05525c76b1402f9de0f4a9388dde7e",
      "placeholder": "​",
      "style": "IPY_MODEL_8f55b7b656c24aa9bb9628ce0d579d50",
      "value": " 1000/1000 [00:06&lt;00:00, 153.45it/s]"
     }
    },
    "db19ec1c0ddd49b7940431ac34345ce6": {
     "model_module": "@jupyter-widgets/base",
     "model_name": "LayoutModel",
     "state": {
      "_model_module": "@jupyter-widgets/base",
      "_model_module_version": "1.2.0",
      "_model_name": "LayoutModel",
      "_view_count": null,
      "_view_module": "@jupyter-widgets/base",
      "_view_module_version": "1.2.0",
      "_view_name": "LayoutView",
      "align_content": null,
      "align_items": null,
      "align_self": null,
      "border": null,
      "bottom": null,
      "display": null,
      "flex": null,
      "flex_flow": null,
      "grid_area": null,
      "grid_auto_columns": null,
      "grid_auto_flow": null,
      "grid_auto_rows": null,
      "grid_column": null,
      "grid_gap": null,
      "grid_row": null,
      "grid_template_areas": null,
      "grid_template_columns": null,
      "grid_template_rows": null,
      "height": null,
      "justify_content": null,
      "justify_items": null,
      "left": null,
      "margin": null,
      "max_height": null,
      "max_width": null,
      "min_height": null,
      "min_width": null,
      "object_fit": null,
      "object_position": null,
      "order": null,
      "overflow": null,
      "overflow_x": null,
      "overflow_y": null,
      "padding": null,
      "right": null,
      "top": null,
      "visibility": null,
      "width": null
     }
    },
    "e5a9445b017e4d62b204a87b1f9728ec": {
     "model_module": "@jupyter-widgets/controls",
     "model_name": "IntProgressModel",
     "state": {
      "_dom_classes": [],
      "_model_module": "@jupyter-widgets/controls",
      "_model_module_version": "1.5.0",
      "_model_name": "IntProgressModel",
      "_view_count": null,
      "_view_module": "@jupyter-widgets/controls",
      "_view_module_version": "1.5.0",
      "_view_name": "ProgressView",
      "bar_style": "success",
      "description": "100%",
      "description_tooltip": null,
      "layout": "IPY_MODEL_db19ec1c0ddd49b7940431ac34345ce6",
      "max": 2,
      "min": 0,
      "orientation": "horizontal",
      "style": "IPY_MODEL_ee95c4d9804840369dceab70aafc6987",
      "value": 2
     }
    },
    "e70d0a6ce9e3440b985c6198b762721c": {
     "model_module": "@jupyter-widgets/controls",
     "model_name": "HBoxModel",
     "state": {
      "_dom_classes": [],
      "_model_module": "@jupyter-widgets/controls",
      "_model_module_version": "1.5.0",
      "_model_name": "HBoxModel",
      "_view_count": null,
      "_view_module": "@jupyter-widgets/controls",
      "_view_module_version": "1.5.0",
      "_view_name": "HBoxView",
      "box_style": "",
      "children": [
       "IPY_MODEL_624f1fcecaa943c089fb67cf79c4cabc",
       "IPY_MODEL_06e69848a7b94d7a91076e628414e532"
      ],
      "layout": "IPY_MODEL_25e0285619a343199e95dbd9a6bbfd51"
     }
    },
    "eafc22152edf462aacadcd99284de16e": {
     "model_module": "@jupyter-widgets/controls",
     "model_name": "ProgressStyleModel",
     "state": {
      "_model_module": "@jupyter-widgets/controls",
      "_model_module_version": "1.5.0",
      "_model_name": "ProgressStyleModel",
      "_view_count": null,
      "_view_module": "@jupyter-widgets/base",
      "_view_module_version": "1.2.0",
      "_view_name": "StyleView",
      "bar_color": null,
      "description_width": "initial"
     }
    },
    "ee95c4d9804840369dceab70aafc6987": {
     "model_module": "@jupyter-widgets/controls",
     "model_name": "ProgressStyleModel",
     "state": {
      "_model_module": "@jupyter-widgets/controls",
      "_model_module_version": "1.5.0",
      "_model_name": "ProgressStyleModel",
      "_view_count": null,
      "_view_module": "@jupyter-widgets/base",
      "_view_module_version": "1.2.0",
      "_view_name": "StyleView",
      "bar_color": null,
      "description_width": "initial"
     }
    }
   }
  }
 },
 "nbformat": 4,
 "nbformat_minor": 1
}
