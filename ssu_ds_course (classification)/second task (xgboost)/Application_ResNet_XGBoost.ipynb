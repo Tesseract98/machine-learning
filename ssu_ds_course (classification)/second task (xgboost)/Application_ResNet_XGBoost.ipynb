{
 "cells": [
  {
   "cell_type": "code",
   "execution_count": 0,
   "metadata": {
    "colab": {},
    "colab_type": "code",
    "id": "alpCZCf3HIjR"
   },
   "outputs": [],
   "source": [
    "# !pip install tensorflow==1.14."
   ]
  },
  {
   "cell_type": "code",
   "execution_count": 0,
   "metadata": {
    "colab": {},
    "colab_type": "code",
    "id": "OHs4lYe2916z"
   },
   "outputs": [],
   "source": [
    "import pandas as pd\n",
    "from glob import glob\n",
    "import os\n",
    "from PIL import Image\n",
    "import numpy as np\n",
    "import random"
   ]
  },
  {
   "cell_type": "code",
   "execution_count": 0,
   "metadata": {
    "colab": {
     "base_uri": "https://localhost:8080/",
     "height": 35
    },
    "colab_type": "code",
    "id": "CTJpJAyB9169",
    "outputId": "cacbd0c8-0da4-4759-a513-98d8e89a3cb6"
   },
   "outputs": [
    {
     "name": "stderr",
     "output_type": "stream",
     "text": [
      "Using TensorFlow backend.\n"
     ]
    }
   ],
   "source": [
    "%tensorflow_version 2.x\n",
    "from keras.applications.resnet50 import ResNet50\n",
    "from keras.preprocessing import image\n",
    "from keras.applications.resnet50 import preprocess_input, decode_predictions\n",
    "from xgboost import XGBClassifier\n",
    "from sklearn.model_selection import train_test_split\n",
    "from sklearn.metrics import accuracy_score\n",
    "\n",
    "random.seed(34)"
   ]
  },
  {
   "cell_type": "code",
   "execution_count": null,
   "metadata": {
    "colab_type": "raw",
    "id": "y2RWYr5Y917G"
   },
   "outputs": [],
   "source": [
    "# Скачайте полные данные отсюда https://www.kaggle.com/c/dogs-vs-cats/data (примерно 820мб)\n",
    "# У вас должно быть две папки train и test. Однако в данном задании мы не будем использвать test выборку\n",
    "# Функцию для чтения данных мы реализовали за вас\n",
    "\n",
    "# def read_dataset(path):\n",
    "#     X = []\n",
    "#     y = []\n",
    "    \n",
    "#     image_paths_list = glob(os.path.join(path, 'train', '*.jpg'))\n",
    "#     print(path)\n",
    "#     image_paths_sample = random.sample(image_paths_list, 100)\n",
    "\n",
    "#     for image_path in image_paths_sample:\n",
    "#         image_name = os.path.basename(image_path)\n",
    "#         image_name_parts = image_name.split('.')\n",
    "#         label = image_name_parts[0] if len(image_name_parts) == 3 else None\n",
    "\n",
    "#         if label:\n",
    "#             y.append(int(label == 'cat'))\n",
    "            \n",
    "#         x = image.img_to_array(image.load_img(image_path, target_size=(224, 224)))\n",
    "#         x = preprocess_input(x)\n",
    "            \n",
    "#         X.append(x)\n",
    "            \n",
    "#     return np.array(X), y"
   ]
  },
  {
   "cell_type": "code",
   "execution_count": 0,
   "metadata": {
    "colab": {
     "base_uri": "https://localhost:8080/",
     "height": 35
    },
    "colab_type": "code",
    "id": "MuNymOX9_uDc",
    "outputId": "f950c685-8184-4375-b379-9f98814616bc"
   },
   "outputs": [
    {
     "name": "stdout",
     "output_type": "stream",
     "text": [
      "Drive already mounted at /content/drive; to attempt to forcibly remount, call drive.mount(\"/content/drive\", force_remount=True).\n"
     ]
    }
   ],
   "source": [
    "from google.colab import drive\n",
    "drive.mount('/content/drive')"
   ]
  },
  {
   "cell_type": "markdown",
   "metadata": {
    "colab_type": "text",
    "id": "3l9KlFS_917I"
   },
   "source": [
    "Перепишите код read_dataset() таким образом чтобы читать изображения пачками по 1000 и сразу применять предобученный ResNet на них, сохраняя только полученные вектора как множество X. Примените эту функцию на всём датасете 25000 изображений."
   ]
  },
  {
   "cell_type": "code",
   "execution_count": 0,
   "metadata": {
    "colab": {},
    "colab_type": "code",
    "id": "nEVD3uLZ917L"
   },
   "outputs": [],
   "source": [
    "from random import shuffle\n",
    "from tqdm import tqdm_notebook\n",
    "\n",
    "def read_dataset(path, batch_size = 1000, n = 2):\n",
    "    X = np.array([])\n",
    "    y = []\n",
    "    image_paths_list = glob(os.path.join(path, '*.jpg'))\n",
    "    \n",
    "    assert(batch_size <= len(image_paths_list))\n",
    "    assert(n <= len(image_paths_list) / batch_size)\n",
    "    \n",
    "    shuffle(image_paths_list)\n",
    "    bot, top = 0, batch_size\n",
    "    \n",
    "    for i in tqdm_notebook(range(n)):\n",
    "        x_var = []\n",
    "        y_var = []\n",
    "        image_paths_sample = image_paths_list[bot:top]\n",
    "        for image_path in tqdm_notebook(image_paths_sample, leave=False):\n",
    "            image_name = os.path.basename(image_path)\n",
    "            image_name_parts = image_name.split('.')\n",
    "            label = image_name_parts[0] if len(image_name_parts) == 3 else None\n",
    "            if label:\n",
    "                y_var.append(int(label == 'cat'))\n",
    "\n",
    "            x = image.img_to_array(image.load_img(image_path, target_size=(224, 224)))\n",
    "            x_var.append(x)\n",
    "        \n",
    "        # x_var = np.expand_dims(x_var, axis=0)\n",
    "        x_var = preprocess_input(np.array(x_var), mode=y_var)   \n",
    "\n",
    "        if X.size == 0 and len(y) == 0:            \n",
    "          X = x_var\n",
    "          y = y_var\n",
    "        else:\n",
    "          X = np.vstack((X, x_var))\n",
    "          y += y_var\n",
    "                      \n",
    "        bot = top\n",
    "        top += batch_size\n",
    "    return X, np.array(y)"
   ]
  },
  {
   "cell_type": "code",
   "execution_count": 0,
   "metadata": {
    "colab": {
     "base_uri": "https://localhost:8080/",
     "height": 178,
     "referenced_widgets": [
      "e5e7d826692e40e1a5ac9cb75383c821",
      "af2202070ddd4893bca9d5d58c539a19",
      "3834146bfd4a4bb6866512e2f1d97353",
      "4f17b9644e004a408bfe55e794ddcb65",
      "5a3af4b4ac13439ca9122c2d83c5b1aa",
      "0731b3f64abc4c02ab92a71c35e313e5",
      "402e97be570d438791c7239d8574cdbb",
      "22377cd3f7f34ef4a8d016f466d6643e",
      "451bfd3cc20d40ec91a06e40c098be72",
      "b6764cdaec614b2daa45edfcbe67bb59",
      "abafc97a2c794e45a860d2f17ddcb35e",
      "dde44034a6bb476dba2cdd367e2e4436",
      "082515d9c99e47938f1a11aec7dc2e6f",
      "53912370e5ff4112b249948219b188ee",
      "a67ed1361f3f4bd581e2e91ca655543a",
      "7cecad9a9a5c4665911fa3c92d18eb86",
      "689334423fcb4f84ba67974a905de3d1",
      "3eee25fc72d14b07ab40b622b56fa799",
      "a89307f8662d4038991fcefd604f9fc1",
      "dabe87a9786d476898aa106c92f4baf3",
      "d18cb6e770064d0a96e253974b36f745",
      "f8ace14a2ee147a29495c91d136a8439",
      "9f4b8307087543c1906a90d404f7d301",
      "061062b00eee4b8c936b22c30c022e01"
     ]
    },
    "colab_type": "code",
    "id": "F1vlzfgx917V",
    "outputId": "f5df1fdf-b1ed-41e2-8a94-824583b3d5dc"
   },
   "outputs": [
    {
     "name": "stderr",
     "output_type": "stream",
     "text": [
      "/usr/local/lib/python3.6/dist-packages/ipykernel_launcher.py:15: TqdmDeprecationWarning: This function will be removed in tqdm==5.0.0\n",
      "Please use `tqdm.notebook.tqdm` instead of `tqdm.tqdm_notebook`\n",
      "  from ipykernel import kernelapp as app\n"
     ]
    },
    {
     "data": {
      "application/vnd.jupyter.widget-view+json": {
       "model_id": "e5e7d826692e40e1a5ac9cb75383c821",
       "version_major": 2,
       "version_minor": 0
      },
      "text/plain": [
       "HBox(children=(IntProgress(value=0, max=2), HTML(value='')))"
      ]
     },
     "metadata": {
      "tags": []
     },
     "output_type": "display_data"
    },
    {
     "name": "stderr",
     "output_type": "stream",
     "text": [
      "/usr/local/lib/python3.6/dist-packages/ipykernel_launcher.py:19: TqdmDeprecationWarning: This function will be removed in tqdm==5.0.0\n",
      "Please use `tqdm.notebook.tqdm` instead of `tqdm.tqdm_notebook`\n"
     ]
    },
    {
     "data": {
      "application/vnd.jupyter.widget-view+json": {
       "model_id": "451bfd3cc20d40ec91a06e40c098be72",
       "version_major": 2,
       "version_minor": 0
      },
      "text/plain": [
       "HBox(children=(IntProgress(value=0, max=1000), HTML(value='')))"
      ]
     },
     "metadata": {
      "tags": []
     },
     "output_type": "display_data"
    },
    {
     "data": {
      "application/vnd.jupyter.widget-view+json": {
       "model_id": "689334423fcb4f84ba67974a905de3d1",
       "version_major": 2,
       "version_minor": 0
      },
      "text/plain": [
       "HBox(children=(IntProgress(value=0, max=1000), HTML(value='')))"
      ]
     },
     "metadata": {
      "tags": []
     },
     "output_type": "display_data"
    },
    {
     "name": "stdout",
     "output_type": "stream",
     "text": [
      "\n",
      "(2000, 224, 224, 3) (2000,)\n"
     ]
    }
   ],
   "source": [
    "# Используйте функцию read_dataset чтобы получить обучающую выборку\n",
    "\n",
    "train_directory = '/content/drive/My Drive/data/train'\n",
    "\n",
    "x_set, y_set = read_dataset(train_directory)\n",
    "\n",
    "# Проверьте размерности загруженных данных\n",
    "print(x_set.shape, y_set.shape)"
   ]
  },
  {
   "cell_type": "code",
   "execution_count": 0,
   "metadata": {
    "colab": {
     "base_uri": "https://localhost:8080/",
     "height": 35
    },
    "colab_type": "code",
    "id": "Wth2wUdb917b",
    "outputId": "4ce2e840-2a40-4ef1-9a28-4920d5892bb1"
   },
   "outputs": [
    {
     "name": "stdout",
     "output_type": "stream",
     "text": [
      "(1400, 224, 224, 3) (600, 224, 224, 3) (1400,) (600,)\n"
     ]
    }
   ],
   "source": [
    "# с помощью функции train_test_split поделите выборку на train и test в отношении 70/30\n",
    "# В качестве признаков используйте эмбеддинги, полученные на предыдущем шаге\n",
    "x_ftrs, y_ftrs, x_lbls, y_lbls = train_test_split(x_set, y_set, train_size=0.7, test_size=0.3)\n",
    "print(x_ftrs.shape, y_ftrs.shape, x_lbls.shape, y_lbls.shape)"
   ]
  },
  {
   "cell_type": "code",
   "execution_count": 0,
   "metadata": {
    "colab": {},
    "colab_type": "code",
    "id": "itE3Lp_o917g"
   },
   "outputs": [],
   "source": [
    "# Создаём модель для получения эмбеддингов\n",
    "model = ResNet50(weights='imagenet')"
   ]
  },
  {
   "cell_type": "code",
   "execution_count": 0,
   "metadata": {
    "colab": {
     "base_uri": "https://localhost:8080/",
     "height": 256
    },
    "colab_type": "code",
    "id": "HTGgaNxI0YfJ",
    "outputId": "38e44d52-de04-4582-8b6a-abf3b55e9f54"
   },
   "outputs": [
    {
     "name": "stdout",
     "output_type": "stream",
     "text": [
      "[[2.2301683e-07 1.7656786e-06 2.6048033e-07 ... 2.4963077e-07\n",
      "  5.5113407e-05 2.0251640e-03]\n",
      " [1.2981116e-05 3.5813446e-05 4.0455111e-06 ... 9.3189856e-06\n",
      "  4.8495445e-04 3.7866279e-03]\n",
      " [3.1075695e-05 1.0209326e-04 8.9089917e-06 ... 2.4864146e-06\n",
      "  5.7080388e-04 1.1593970e-03]\n",
      " ...\n",
      " [1.0330824e-08 1.8947433e-09 1.4473631e-08 ... 5.5323263e-10\n",
      "  3.4690316e-08 6.1315552e-07]\n",
      " [3.2319008e-06 1.9962538e-06 2.3002643e-07 ... 5.6752384e-07\n",
      "  1.3676177e-05 1.3021965e-05]\n",
      " [6.1102969e-06 6.0270959e-06 9.2171746e-07 ... 2.0465388e-06\n",
      "  1.7196630e-04 3.6166646e-05]]\n"
     ]
    }
   ],
   "source": [
    "# Используя объект model постройте эмбеддинги для обучающей выборки\n",
    "# print(help(model))\n",
    "embedding_trn = model.predict(x_ftrs)\n",
    "embedding_tst = model.predict(y_ftrs)\n",
    "print(embedding_trn)"
   ]
  },
  {
   "cell_type": "markdown",
   "metadata": {
    "colab_type": "text",
    "id": "lbUZyRzx917m"
   },
   "source": [
    "Создайте объект XGBClassifier со стандартными параметрами\n",
    "\n",
    "https://xgboost.readthedocs.io/en/latest/python/python_api.html#xgboost.XGBClassifier\n",
    "\n",
    "Обучите его"
   ]
  },
  {
   "cell_type": "code",
   "execution_count": 0,
   "metadata": {
    "colab": {},
    "colab_type": "code",
    "id": "toRHpS0Q917n"
   },
   "outputs": [],
   "source": [
    "from xgboost import XGBClassifier\n",
    "# Получите предсказания на тестовом и на обучающем множестве\n",
    "cls = XGBClassifier()\n",
    "cls.fit(embedding_trn, x_lbls)\n",
    "predicted = cls.predict(embedding_tst)"
   ]
  },
  {
   "cell_type": "code",
   "execution_count": 0,
   "metadata": {
    "colab": {
     "base_uri": "https://localhost:8080/",
     "height": 35
    },
    "colab_type": "code",
    "id": "Gxp2wEn9917t",
    "outputId": "a63af938-e475-470e-983a-0a0f12f88e8e"
   },
   "outputs": [
    {
     "name": "stdout",
     "output_type": "stream",
     "text": [
      "0.9933333333333333\n"
     ]
    }
   ],
   "source": [
    "# С помощью функции accuracy_score оцените результаты\n",
    "print(accuracy_score(y_lbls, predicted))"
   ]
  },
  {
   "cell_type": "code",
   "execution_count": 0,
   "metadata": {
    "colab": {
     "base_uri": "https://localhost:8080/",
     "height": 35
    },
    "colab_type": "code",
    "id": "5fqON6NbG_Z5",
    "outputId": "6473d276-3dd8-4122-9b85-b8a8fd917a6f"
   },
   "outputs": [
    {
     "name": "stdout",
     "output_type": "stream",
     "text": [
      "0.9916666666666667\n"
     ]
    }
   ],
   "source": [
    "hyper_cls = XGBClassifier(n_jobs=-1, n_estimators=150)\n",
    "\n",
    "e_set = [(embedding_trn, x_lbls), (embedding_tst, y_lbls)]\n",
    "\n",
    "hyper_cls.fit(embedding_trn, x_lbls, eval_set=e_set, verbose=0)\n",
    "hyper_predicted = hyper_cls.predict(embedding_tst)\n",
    "print(accuracy_score(y_lbls, hyper_predicted))"
   ]
  },
  {
   "cell_type": "markdown",
   "metadata": {
    "colab_type": "text",
    "id": "4tU4CzK6917z"
   },
   "source": [
    "Почитайте про параметры XGBoost здесь: https://sites.google.com/view/lauraepp/parameters\n",
    "Сделайте тюнинг гиперпараметров для XGBoost:\n",
    "1. Подберите максимальный num_iterations при котором скор на валидации близок к максимальному, а скорость обучения ещё приемлимая\n",
    "2. Для заданного num_iterations подберите подходящий learning rate\n",
    "3. С помощью библиотеки hyperopt подберите остальные гиперпараметры при фиксимрованных num_iterations и learning_rate. Не подбирайте параметр early_stopping"
   ]
  },
  {
   "cell_type": "code",
   "execution_count": 0,
   "metadata": {
    "colab": {
     "base_uri": "https://localhost:8080/",
     "height": 439
    },
    "colab_type": "code",
    "id": "xbsu9O3Z9170",
    "outputId": "f188e379-f0fd-4e77-fff4-f4beaa0e42f5"
   },
   "outputs": [
    {
     "name": "stdout",
     "output_type": "stream",
     "text": [
      "0.9764270156509912\n",
      "{'learning_rate': 0.08, 'max_depth': 6, 'n_estimators': 218}\n",
      "0.9757132397766157\n",
      "{'learning_rate': 0.047, 'max_depth': 6, 'n_estimators': 204}\n",
      "0.9764270156509912\n",
      "{'learning_rate': 0.074, 'max_depth': 5, 'n_estimators': 193}\n",
      "0.9771407915253666\n",
      "{'learning_rate': 0.073, 'max_depth': 8, 'n_estimators': 180}\n",
      "0.9764270156509912\n",
      "{'learning_rate': 0.073, 'max_depth': 7, 'n_estimators': 160}\n",
      "0.9771407915253666\n",
      "{'learning_rate': 0.069, 'max_depth': 9, 'n_estimators': 159}\n",
      "0.9649943479979046\n",
      "{'learning_rate': 0.004, 'max_depth': 8, 'n_estimators': 181}\n",
      "0.9757132397766157\n",
      "{'learning_rate': 0.042, 'max_depth': 6, 'n_estimators': 181}\n",
      "0.9735688487377195\n",
      "{'learning_rate': 0.042, 'max_depth': 5, 'n_estimators': 142}\n",
      "0.9728550728633442\n",
      "{'learning_rate': 0.017, 'max_depth': 3, 'n_estimators': 166}\n",
      "100%|██████████| 10/10 [06:14<00:00, 37.44s/it, best loss: -0.9771407915253666]\n",
      "\n",
      "best:  {'learning_rate': 0.073, 'max_depth': 5, 'n_estimators': 50}\n"
     ]
    }
   ],
   "source": [
    "from hyperopt import hp, tpe\n",
    "from hyperopt.fmin import fmin\n",
    "from sklearn.model_selection import cross_val_score\n",
    "\n",
    "def hyperopt_xgb_score(params):\n",
    "    clf = XGBClassifier(**params, n_jobs=-1)\n",
    "    current_score = cross_val_score(clf, embedding_trn, x_lbls, cv=3).mean()\n",
    "    print(current_score, params)\n",
    "    return -current_score\n",
    " \n",
    " \n",
    "simple_space_xgb = {\n",
    "            'learning_rate': hp.quniform('learning_rate', 0.001, 0.1, 0.001),\n",
    "            'max_depth':  hp.choice('max_depth', np.arange(3, 10, dtype=int)),\n",
    "            'n_estimators': hp.choice('n_estimators', np.arange(130, 250, dtype=int)),\n",
    "}\n",
    " \n",
    "best = fmin(fn=hyperopt_xgb_score, space=simple_space_xgb, algo=tpe.suggest, max_evals=10)\n",
    "print(\"\\nbest: \", best)"
   ]
  },
  {
   "cell_type": "code",
   "execution_count": 0,
   "metadata": {
    "colab": {
     "base_uri": "https://localhost:8080/",
     "height": 164
    },
    "colab_type": "code",
    "id": "tk3limLsPsnG",
    "outputId": "73b91bb4-4dc0-4f07-cd8c-aea10ff07bdc"
   },
   "outputs": [
    {
     "name": "stdout",
     "output_type": "stream",
     "text": [
      "XGBClassifier(base_score=0.5, booster='gbtree', colsample_bylevel=1,\n",
      "              colsample_bynode=1, colsample_bytree=1, gamma=0,\n",
      "              learning_rate=0.073, max_delta_step=0, max_depth=5,\n",
      "              min_child_weight=1, missing=None, n_estimators=50, n_jobs=-1,\n",
      "              nthread=None, objective='binary:logistic', random_state=0,\n",
      "              reg_alpha=0, reg_lambda=1, scale_pos_weight=1, seed=None,\n",
      "              silent=None, subsample=1, verbosity=1)\n",
      "0.9833333333333333\n"
     ]
    }
   ],
   "source": [
    "optimized_model = XGBClassifier(**best, n_jobs=-1)\n",
    "optimized_model.fit(embedding_trn, x_lbls)\n",
    "opt_predicted = optimized_model.predict(embedding_tst)\n",
    "print(optimized_model)\n",
    "print(accuracy_score(y_lbls, opt_predicted))"
   ]
  },
  {
   "cell_type": "markdown",
   "metadata": {
    "colab_type": "text",
    "id": "esKIDLaa9174"
   },
   "source": [
    "Оцените важность признаков с помощью поля feature_importances_\n",
    "\n",
    "Пользуясь списком https://gist.github.com/yrevar/942d3a0ac09ec9e5eb3a посмотрите, какие классы оказались наиболее важными (со значениями importance больше 0)\n",
    "    \n",
    "Изменяйте параметры, чтобы оставить только действительно важные признаки"
   ]
  },
  {
   "cell_type": "code",
   "execution_count": 0,
   "metadata": {
    "colab": {
     "base_uri": "https://localhost:8080/",
     "height": 72
    },
    "colab_type": "code",
    "id": "MgjXwnmneb1F",
    "outputId": "47f92b96-d205-4b55-be01-20308fbf30ed"
   },
   "outputs": [
    {
     "name": "stdout",
     "output_type": "stream",
     "text": [
      "Requirement already satisfied: lxml in /usr/local/lib/python3.6/dist-packages (4.2.6)\n",
      "Requirement already satisfied: bs4 in /usr/local/lib/python3.6/dist-packages (0.0.1)\n",
      "Requirement already satisfied: beautifulsoup4 in /usr/local/lib/python3.6/dist-packages (from bs4) (4.6.3)\n"
     ]
    }
   ],
   "source": [
    "!pip install lxml\n",
    "!pip install bs4"
   ]
  },
  {
   "cell_type": "code",
   "execution_count": 0,
   "metadata": {
    "colab": {
     "base_uri": "https://localhost:8080/",
     "height": 1000
    },
    "colab_type": "code",
    "id": "6emxEyjv9175",
    "outputId": "2042b447-1f21-4e7f-bd8b-0a9070ae3956"
   },
   "outputs": [
    {
     "name": "stdout",
     "output_type": "stream",
     "text": [
      "1 goldfish, Carassius auratus\n",
      "30 bullfrog, Rana catesbeiana\n",
      "42 agama\n",
      "63 Indian cobra, Naja naja\n",
      "65 sea snake\n",
      "74 garden spider, Aranea diademata\n",
      "87 African grey, African gray, Psittacus erithacus\n",
      "107 jellyfish\n",
      "136 European gallinule, Porphyrio porphyrio\n",
      "155 Shih-Tzu\n",
      "158 toy terrier\n",
      "159 Rhodesian ridgeback\n",
      "163 bloodhound, sleuthhound\n",
      "164 bluetick\n",
      "166 Walker hound, Walker foxhound\n",
      "167 English foxhound\n",
      "168 redbone\n",
      "170 Irish wolfhound\n",
      "171 Italian greyhound\n",
      "174 Norwegian elkhound, elkhound\n",
      "177 Scottish deerhound, deerhound\n",
      "182 Border terrier\n",
      "185 Norfolk terrier\n",
      "194 Dandie Dinmont, Dandie Dinmont terrier\n",
      "200 Tibetan terrier, chrysanthemum dog\n",
      "204 Lhasa, Lhasa apso\n",
      "206 curly-coated retriever\n",
      "207 golden retriever\n",
      "208 Labrador retriever\n",
      "209 Chesapeake Bay retriever\n",
      "219 cocker spaniel, English cocker spaniel, cocker\n",
      "225 malinois\n",
      "234 Rottweiler\n",
      "240 Appenzeller\n",
      "244 Tibetan mastiff\n",
      "245 French bulldog\n",
      "249 malamute, malemute, Alaskan malamute\n",
      "250 Siberian husky\n",
      "255 Leonberg\n",
      "256 Newfoundland, Newfoundland dog\n",
      "269 timber wolf, grey wolf, gray wolf, Canis lupus\n",
      "273 dingo, warrigal, warragal, Canis dingo\n",
      "281 tabby, tabby cat\n",
      "282 tiger cat\n",
      "283 Persian cat\n",
      "284 Siamese cat, Siamese\n",
      "285 Egyptian cat\n",
      "287 lynx, catamount\n",
      "292 tiger, Panthera tigris\n",
      "294 brown bear, bruin, Ursus arctos\n",
      "322 ringlet, ringlet butterfly\n",
      "332 Angora, Angora rabbit\n",
      "346 water buffalo, water ox, Asiatic buffalo, Bubalus bubalis\n",
      "354 Arabian camel, dromedary, Camelus dromedarius\n",
      "358 polecat, fitch, foulmart, foumart, Mustela putorius\n",
      "361 skunk, polecat, wood pussy\n",
      "397 puffer, pufferfish, blowfish, globefish\n",
      "410 apiary, bee house\n",
      "431 bassinet\n",
      "472 canoe\n",
      "493 chiffonier, commode\n",
      "503 cocktail shaker\n",
      "516 cradle\n",
      "520 crib, cot\n",
      "522 croquet ball\n",
      "537 dogsled, dog sled, dog sleigh\n",
      "556 fire screen, fireguard\n",
      "564 four-poster\n",
      "588 hamper\n",
      "606 iron, smoothing iron\n",
      "608 jean, blue jean, denim\n",
      "616 knot\n",
      "640 manhole cover\n",
      "669 mosquito net\n",
      "676 muzzle\n",
      "691 oxygen mask\n",
      "693 paddle, boat paddle\n",
      "694 paddlewheel, paddle wheel\n",
      "697 pajama, pyjama, pj's, jammies\n",
      "717 pickup, pickup truck\n",
      "734 police van, police wagon, paddy wagon, patrol wagon, wagon, black Maria\n",
      "747 punching bag, punch bag, punching ball, punchball\n",
      "753 radiator\n",
      "766 rotisserie\n",
      "785 seat belt, seatbelt\n",
      "796 ski mask\n",
      "805 soccer ball\n",
      "847 tank, army tank, armored combat vehicle, armoured combat vehicle\n",
      "857 throne\n",
      "888 viaduct\n",
      "894 wardrobe, closet, press\n",
      "910 wooden spoon\n",
      "958 hay\n",
      "997 bolete\n"
     ]
    }
   ],
   "source": [
    "from bs4 import BeautifulSoup\n",
    "import requests\n",
    "import re\n",
    "\n",
    "url = \"https://gist.github.com/yrevar/942d3a0ac09ec9e5eb3a\"\n",
    "req = requests.get(url)\n",
    "soup = BeautifulSoup(req.text, \"lxml\")\n",
    "\n",
    "pattern = re.compile(r\"(\\d+): (\\\"|\\')(\\D+)(\\'|\\\")\")\n",
    "model_class = dict()\n",
    "for i in range(1, 1000):\n",
    "  fs = soup.find(\"td\", {\"id\": f\"file-imagenet1000_clsidx_to_labels-txt-LC{i}\"})\n",
    "  value_of_tag = pattern.findall(fs.text)\n",
    "  model_class[int(value_of_tag[0][0])] = value_of_tag[0][2]\n",
    "\n",
    "feature_imp = cls.feature_importances_\n",
    "for i in range(len(feature_imp)):\n",
    "  if feature_imp[i] > 1e-3:\n",
    "    print(i, model_class[i])"
   ]
  }
 ],
 "metadata": {
  "colab": {
   "collapsed_sections": [],
   "name": "Практика 3. XGBoost.ipynb",
   "provenance": []
  },
  "kernelspec": {
   "display_name": "Python 3",
   "language": "python",
   "name": "python3"
  },
  "language_info": {
   "codemirror_mode": {
    "name": "ipython",
    "version": 3
   },
   "file_extension": ".py",
   "mimetype": "text/x-python",
   "name": "python",
   "nbconvert_exporter": "python",
   "pygments_lexer": "ipython3",
   "version": "3.7.3"
  },
  "widgets": {
   "application/vnd.jupyter.widget-state+json": {
    "061062b00eee4b8c936b22c30c022e01": {
     "model_module": "@jupyter-widgets/base",
     "model_name": "LayoutModel",
     "state": {
      "_model_module": "@jupyter-widgets/base",
      "_model_module_version": "1.2.0",
      "_model_name": "LayoutModel",
      "_view_count": null,
      "_view_module": "@jupyter-widgets/base",
      "_view_module_version": "1.2.0",
      "_view_name": "LayoutView",
      "align_content": null,
      "align_items": null,
      "align_self": null,
      "border": null,
      "bottom": null,
      "display": null,
      "flex": null,
      "flex_flow": null,
      "grid_area": null,
      "grid_auto_columns": null,
      "grid_auto_flow": null,
      "grid_auto_rows": null,
      "grid_column": null,
      "grid_gap": null,
      "grid_row": null,
      "grid_template_areas": null,
      "grid_template_columns": null,
      "grid_template_rows": null,
      "height": null,
      "justify_content": null,
      "justify_items": null,
      "left": null,
      "margin": null,
      "max_height": null,
      "max_width": null,
      "min_height": null,
      "min_width": null,
      "object_fit": null,
      "object_position": null,
      "order": null,
      "overflow": null,
      "overflow_x": null,
      "overflow_y": null,
      "padding": null,
      "right": null,
      "top": null,
      "visibility": null,
      "width": null
     }
    },
    "0731b3f64abc4c02ab92a71c35e313e5": {
     "model_module": "@jupyter-widgets/base",
     "model_name": "LayoutModel",
     "state": {
      "_model_module": "@jupyter-widgets/base",
      "_model_module_version": "1.2.0",
      "_model_name": "LayoutModel",
      "_view_count": null,
      "_view_module": "@jupyter-widgets/base",
      "_view_module_version": "1.2.0",
      "_view_name": "LayoutView",
      "align_content": null,
      "align_items": null,
      "align_self": null,
      "border": null,
      "bottom": null,
      "display": null,
      "flex": null,
      "flex_flow": null,
      "grid_area": null,
      "grid_auto_columns": null,
      "grid_auto_flow": null,
      "grid_auto_rows": null,
      "grid_column": null,
      "grid_gap": null,
      "grid_row": null,
      "grid_template_areas": null,
      "grid_template_columns": null,
      "grid_template_rows": null,
      "height": null,
      "justify_content": null,
      "justify_items": null,
      "left": null,
      "margin": null,
      "max_height": null,
      "max_width": null,
      "min_height": null,
      "min_width": null,
      "object_fit": null,
      "object_position": null,
      "order": null,
      "overflow": null,
      "overflow_x": null,
      "overflow_y": null,
      "padding": null,
      "right": null,
      "top": null,
      "visibility": null,
      "width": null
     }
    },
    "082515d9c99e47938f1a11aec7dc2e6f": {
     "model_module": "@jupyter-widgets/controls",
     "model_name": "ProgressStyleModel",
     "state": {
      "_model_module": "@jupyter-widgets/controls",
      "_model_module_version": "1.5.0",
      "_model_name": "ProgressStyleModel",
      "_view_count": null,
      "_view_module": "@jupyter-widgets/base",
      "_view_module_version": "1.2.0",
      "_view_name": "StyleView",
      "bar_color": null,
      "description_width": "initial"
     }
    },
    "22377cd3f7f34ef4a8d016f466d6643e": {
     "model_module": "@jupyter-widgets/base",
     "model_name": "LayoutModel",
     "state": {
      "_model_module": "@jupyter-widgets/base",
      "_model_module_version": "1.2.0",
      "_model_name": "LayoutModel",
      "_view_count": null,
      "_view_module": "@jupyter-widgets/base",
      "_view_module_version": "1.2.0",
      "_view_name": "LayoutView",
      "align_content": null,
      "align_items": null,
      "align_self": null,
      "border": null,
      "bottom": null,
      "display": null,
      "flex": null,
      "flex_flow": null,
      "grid_area": null,
      "grid_auto_columns": null,
      "grid_auto_flow": null,
      "grid_auto_rows": null,
      "grid_column": null,
      "grid_gap": null,
      "grid_row": null,
      "grid_template_areas": null,
      "grid_template_columns": null,
      "grid_template_rows": null,
      "height": null,
      "justify_content": null,
      "justify_items": null,
      "left": null,
      "margin": null,
      "max_height": null,
      "max_width": null,
      "min_height": null,
      "min_width": null,
      "object_fit": null,
      "object_position": null,
      "order": null,
      "overflow": null,
      "overflow_x": null,
      "overflow_y": null,
      "padding": null,
      "right": null,
      "top": null,
      "visibility": null,
      "width": null
     }
    },
    "3834146bfd4a4bb6866512e2f1d97353": {
     "model_module": "@jupyter-widgets/controls",
     "model_name": "IntProgressModel",
     "state": {
      "_dom_classes": [],
      "_model_module": "@jupyter-widgets/controls",
      "_model_module_version": "1.5.0",
      "_model_name": "IntProgressModel",
      "_view_count": null,
      "_view_module": "@jupyter-widgets/controls",
      "_view_module_version": "1.5.0",
      "_view_name": "ProgressView",
      "bar_style": "success",
      "description": "100%",
      "description_tooltip": null,
      "layout": "IPY_MODEL_0731b3f64abc4c02ab92a71c35e313e5",
      "max": 2,
      "min": 0,
      "orientation": "horizontal",
      "style": "IPY_MODEL_5a3af4b4ac13439ca9122c2d83c5b1aa",
      "value": 2
     }
    },
    "3eee25fc72d14b07ab40b622b56fa799": {
     "model_module": "@jupyter-widgets/base",
     "model_name": "LayoutModel",
     "state": {
      "_model_module": "@jupyter-widgets/base",
      "_model_module_version": "1.2.0",
      "_model_name": "LayoutModel",
      "_view_count": null,
      "_view_module": "@jupyter-widgets/base",
      "_view_module_version": "1.2.0",
      "_view_name": "LayoutView",
      "align_content": null,
      "align_items": null,
      "align_self": null,
      "border": null,
      "bottom": null,
      "display": null,
      "flex": null,
      "flex_flow": null,
      "grid_area": null,
      "grid_auto_columns": null,
      "grid_auto_flow": null,
      "grid_auto_rows": null,
      "grid_column": null,
      "grid_gap": null,
      "grid_row": null,
      "grid_template_areas": null,
      "grid_template_columns": null,
      "grid_template_rows": null,
      "height": null,
      "justify_content": null,
      "justify_items": null,
      "left": null,
      "margin": null,
      "max_height": null,
      "max_width": null,
      "min_height": null,
      "min_width": null,
      "object_fit": null,
      "object_position": null,
      "order": null,
      "overflow": null,
      "overflow_x": null,
      "overflow_y": null,
      "padding": null,
      "right": null,
      "top": null,
      "visibility": null,
      "width": null
     }
    },
    "402e97be570d438791c7239d8574cdbb": {
     "model_module": "@jupyter-widgets/controls",
     "model_name": "DescriptionStyleModel",
     "state": {
      "_model_module": "@jupyter-widgets/controls",
      "_model_module_version": "1.5.0",
      "_model_name": "DescriptionStyleModel",
      "_view_count": null,
      "_view_module": "@jupyter-widgets/base",
      "_view_module_version": "1.2.0",
      "_view_name": "StyleView",
      "description_width": ""
     }
    },
    "451bfd3cc20d40ec91a06e40c098be72": {
     "model_module": "@jupyter-widgets/controls",
     "model_name": "HBoxModel",
     "state": {
      "_dom_classes": [],
      "_model_module": "@jupyter-widgets/controls",
      "_model_module_version": "1.5.0",
      "_model_name": "HBoxModel",
      "_view_count": null,
      "_view_module": "@jupyter-widgets/controls",
      "_view_module_version": "1.5.0",
      "_view_name": "HBoxView",
      "box_style": "",
      "children": [
       "IPY_MODEL_abafc97a2c794e45a860d2f17ddcb35e",
       "IPY_MODEL_dde44034a6bb476dba2cdd367e2e4436"
      ],
      "layout": "IPY_MODEL_b6764cdaec614b2daa45edfcbe67bb59"
     }
    },
    "4f17b9644e004a408bfe55e794ddcb65": {
     "model_module": "@jupyter-widgets/controls",
     "model_name": "HTMLModel",
     "state": {
      "_dom_classes": [],
      "_model_module": "@jupyter-widgets/controls",
      "_model_module_version": "1.5.0",
      "_model_name": "HTMLModel",
      "_view_count": null,
      "_view_module": "@jupyter-widgets/controls",
      "_view_module_version": "1.5.0",
      "_view_name": "HTMLView",
      "description": "",
      "description_tooltip": null,
      "layout": "IPY_MODEL_22377cd3f7f34ef4a8d016f466d6643e",
      "placeholder": "​",
      "style": "IPY_MODEL_402e97be570d438791c7239d8574cdbb",
      "value": " 2/2 [00:18&lt;00:00,  9.25s/it]"
     }
    },
    "53912370e5ff4112b249948219b188ee": {
     "model_module": "@jupyter-widgets/base",
     "model_name": "LayoutModel",
     "state": {
      "_model_module": "@jupyter-widgets/base",
      "_model_module_version": "1.2.0",
      "_model_name": "LayoutModel",
      "_view_count": null,
      "_view_module": "@jupyter-widgets/base",
      "_view_module_version": "1.2.0",
      "_view_name": "LayoutView",
      "align_content": null,
      "align_items": null,
      "align_self": null,
      "border": null,
      "bottom": null,
      "display": null,
      "flex": null,
      "flex_flow": null,
      "grid_area": null,
      "grid_auto_columns": null,
      "grid_auto_flow": null,
      "grid_auto_rows": null,
      "grid_column": null,
      "grid_gap": null,
      "grid_row": null,
      "grid_template_areas": null,
      "grid_template_columns": null,
      "grid_template_rows": null,
      "height": null,
      "justify_content": null,
      "justify_items": null,
      "left": null,
      "margin": null,
      "max_height": null,
      "max_width": null,
      "min_height": null,
      "min_width": null,
      "object_fit": null,
      "object_position": null,
      "order": null,
      "overflow": null,
      "overflow_x": null,
      "overflow_y": null,
      "padding": null,
      "right": null,
      "top": null,
      "visibility": null,
      "width": null
     }
    },
    "5a3af4b4ac13439ca9122c2d83c5b1aa": {
     "model_module": "@jupyter-widgets/controls",
     "model_name": "ProgressStyleModel",
     "state": {
      "_model_module": "@jupyter-widgets/controls",
      "_model_module_version": "1.5.0",
      "_model_name": "ProgressStyleModel",
      "_view_count": null,
      "_view_module": "@jupyter-widgets/base",
      "_view_module_version": "1.2.0",
      "_view_name": "StyleView",
      "bar_color": null,
      "description_width": "initial"
     }
    },
    "689334423fcb4f84ba67974a905de3d1": {
     "model_module": "@jupyter-widgets/controls",
     "model_name": "HBoxModel",
     "state": {
      "_dom_classes": [],
      "_model_module": "@jupyter-widgets/controls",
      "_model_module_version": "1.5.0",
      "_model_name": "HBoxModel",
      "_view_count": null,
      "_view_module": "@jupyter-widgets/controls",
      "_view_module_version": "1.5.0",
      "_view_name": "HBoxView",
      "box_style": "",
      "children": [
       "IPY_MODEL_a89307f8662d4038991fcefd604f9fc1",
       "IPY_MODEL_dabe87a9786d476898aa106c92f4baf3"
      ],
      "layout": "IPY_MODEL_3eee25fc72d14b07ab40b622b56fa799"
     }
    },
    "7cecad9a9a5c4665911fa3c92d18eb86": {
     "model_module": "@jupyter-widgets/base",
     "model_name": "LayoutModel",
     "state": {
      "_model_module": "@jupyter-widgets/base",
      "_model_module_version": "1.2.0",
      "_model_name": "LayoutModel",
      "_view_count": null,
      "_view_module": "@jupyter-widgets/base",
      "_view_module_version": "1.2.0",
      "_view_name": "LayoutView",
      "align_content": null,
      "align_items": null,
      "align_self": null,
      "border": null,
      "bottom": null,
      "display": null,
      "flex": null,
      "flex_flow": null,
      "grid_area": null,
      "grid_auto_columns": null,
      "grid_auto_flow": null,
      "grid_auto_rows": null,
      "grid_column": null,
      "grid_gap": null,
      "grid_row": null,
      "grid_template_areas": null,
      "grid_template_columns": null,
      "grid_template_rows": null,
      "height": null,
      "justify_content": null,
      "justify_items": null,
      "left": null,
      "margin": null,
      "max_height": null,
      "max_width": null,
      "min_height": null,
      "min_width": null,
      "object_fit": null,
      "object_position": null,
      "order": null,
      "overflow": null,
      "overflow_x": null,
      "overflow_y": null,
      "padding": null,
      "right": null,
      "top": null,
      "visibility": null,
      "width": null
     }
    },
    "9f4b8307087543c1906a90d404f7d301": {
     "model_module": "@jupyter-widgets/controls",
     "model_name": "DescriptionStyleModel",
     "state": {
      "_model_module": "@jupyter-widgets/controls",
      "_model_module_version": "1.5.0",
      "_model_name": "DescriptionStyleModel",
      "_view_count": null,
      "_view_module": "@jupyter-widgets/base",
      "_view_module_version": "1.2.0",
      "_view_name": "StyleView",
      "description_width": ""
     }
    },
    "a67ed1361f3f4bd581e2e91ca655543a": {
     "model_module": "@jupyter-widgets/controls",
     "model_name": "DescriptionStyleModel",
     "state": {
      "_model_module": "@jupyter-widgets/controls",
      "_model_module_version": "1.5.0",
      "_model_name": "DescriptionStyleModel",
      "_view_count": null,
      "_view_module": "@jupyter-widgets/base",
      "_view_module_version": "1.2.0",
      "_view_name": "StyleView",
      "description_width": ""
     }
    },
    "a89307f8662d4038991fcefd604f9fc1": {
     "model_module": "@jupyter-widgets/controls",
     "model_name": "IntProgressModel",
     "state": {
      "_dom_classes": [],
      "_model_module": "@jupyter-widgets/controls",
      "_model_module_version": "1.5.0",
      "_model_name": "IntProgressModel",
      "_view_count": null,
      "_view_module": "@jupyter-widgets/controls",
      "_view_module_version": "1.5.0",
      "_view_name": "ProgressView",
      "bar_style": "",
      "description": "100%",
      "description_tooltip": null,
      "layout": "IPY_MODEL_f8ace14a2ee147a29495c91d136a8439",
      "max": 1000,
      "min": 0,
      "orientation": "horizontal",
      "style": "IPY_MODEL_d18cb6e770064d0a96e253974b36f745",
      "value": 1000
     }
    },
    "abafc97a2c794e45a860d2f17ddcb35e": {
     "model_module": "@jupyter-widgets/controls",
     "model_name": "IntProgressModel",
     "state": {
      "_dom_classes": [],
      "_model_module": "@jupyter-widgets/controls",
      "_model_module_version": "1.5.0",
      "_model_name": "IntProgressModel",
      "_view_count": null,
      "_view_module": "@jupyter-widgets/controls",
      "_view_module_version": "1.5.0",
      "_view_name": "ProgressView",
      "bar_style": "",
      "description": "100%",
      "description_tooltip": null,
      "layout": "IPY_MODEL_53912370e5ff4112b249948219b188ee",
      "max": 1000,
      "min": 0,
      "orientation": "horizontal",
      "style": "IPY_MODEL_082515d9c99e47938f1a11aec7dc2e6f",
      "value": 1000
     }
    },
    "af2202070ddd4893bca9d5d58c539a19": {
     "model_module": "@jupyter-widgets/base",
     "model_name": "LayoutModel",
     "state": {
      "_model_module": "@jupyter-widgets/base",
      "_model_module_version": "1.2.0",
      "_model_name": "LayoutModel",
      "_view_count": null,
      "_view_module": "@jupyter-widgets/base",
      "_view_module_version": "1.2.0",
      "_view_name": "LayoutView",
      "align_content": null,
      "align_items": null,
      "align_self": null,
      "border": null,
      "bottom": null,
      "display": null,
      "flex": null,
      "flex_flow": null,
      "grid_area": null,
      "grid_auto_columns": null,
      "grid_auto_flow": null,
      "grid_auto_rows": null,
      "grid_column": null,
      "grid_gap": null,
      "grid_row": null,
      "grid_template_areas": null,
      "grid_template_columns": null,
      "grid_template_rows": null,
      "height": null,
      "justify_content": null,
      "justify_items": null,
      "left": null,
      "margin": null,
      "max_height": null,
      "max_width": null,
      "min_height": null,
      "min_width": null,
      "object_fit": null,
      "object_position": null,
      "order": null,
      "overflow": null,
      "overflow_x": null,
      "overflow_y": null,
      "padding": null,
      "right": null,
      "top": null,
      "visibility": null,
      "width": null
     }
    },
    "b6764cdaec614b2daa45edfcbe67bb59": {
     "model_module": "@jupyter-widgets/base",
     "model_name": "LayoutModel",
     "state": {
      "_model_module": "@jupyter-widgets/base",
      "_model_module_version": "1.2.0",
      "_model_name": "LayoutModel",
      "_view_count": null,
      "_view_module": "@jupyter-widgets/base",
      "_view_module_version": "1.2.0",
      "_view_name": "LayoutView",
      "align_content": null,
      "align_items": null,
      "align_self": null,
      "border": null,
      "bottom": null,
      "display": null,
      "flex": null,
      "flex_flow": null,
      "grid_area": null,
      "grid_auto_columns": null,
      "grid_auto_flow": null,
      "grid_auto_rows": null,
      "grid_column": null,
      "grid_gap": null,
      "grid_row": null,
      "grid_template_areas": null,
      "grid_template_columns": null,
      "grid_template_rows": null,
      "height": null,
      "justify_content": null,
      "justify_items": null,
      "left": null,
      "margin": null,
      "max_height": null,
      "max_width": null,
      "min_height": null,
      "min_width": null,
      "object_fit": null,
      "object_position": null,
      "order": null,
      "overflow": null,
      "overflow_x": null,
      "overflow_y": null,
      "padding": null,
      "right": null,
      "top": null,
      "visibility": null,
      "width": null
     }
    },
    "d18cb6e770064d0a96e253974b36f745": {
     "model_module": "@jupyter-widgets/controls",
     "model_name": "ProgressStyleModel",
     "state": {
      "_model_module": "@jupyter-widgets/controls",
      "_model_module_version": "1.5.0",
      "_model_name": "ProgressStyleModel",
      "_view_count": null,
      "_view_module": "@jupyter-widgets/base",
      "_view_module_version": "1.2.0",
      "_view_name": "StyleView",
      "bar_color": null,
      "description_width": "initial"
     }
    },
    "dabe87a9786d476898aa106c92f4baf3": {
     "model_module": "@jupyter-widgets/controls",
     "model_name": "HTMLModel",
     "state": {
      "_dom_classes": [],
      "_model_module": "@jupyter-widgets/controls",
      "_model_module_version": "1.5.0",
      "_model_name": "HTMLModel",
      "_view_count": null,
      "_view_module": "@jupyter-widgets/controls",
      "_view_module_version": "1.5.0",
      "_view_name": "HTMLView",
      "description": "",
      "description_tooltip": null,
      "layout": "IPY_MODEL_061062b00eee4b8c936b22c30c022e01",
      "placeholder": "​",
      "style": "IPY_MODEL_9f4b8307087543c1906a90d404f7d301",
      "value": " 1000/1000 [00:06&lt;00:00, 167.17it/s]"
     }
    },
    "dde44034a6bb476dba2cdd367e2e4436": {
     "model_module": "@jupyter-widgets/controls",
     "model_name": "HTMLModel",
     "state": {
      "_dom_classes": [],
      "_model_module": "@jupyter-widgets/controls",
      "_model_module_version": "1.5.0",
      "_model_name": "HTMLModel",
      "_view_count": null,
      "_view_module": "@jupyter-widgets/controls",
      "_view_module_version": "1.5.0",
      "_view_name": "HTMLView",
      "description": "",
      "description_tooltip": null,
      "layout": "IPY_MODEL_7cecad9a9a5c4665911fa3c92d18eb86",
      "placeholder": "​",
      "style": "IPY_MODEL_a67ed1361f3f4bd581e2e91ca655543a",
      "value": " 1000/1000 [00:06&lt;00:00, 160.86it/s]"
     }
    },
    "e5e7d826692e40e1a5ac9cb75383c821": {
     "model_module": "@jupyter-widgets/controls",
     "model_name": "HBoxModel",
     "state": {
      "_dom_classes": [],
      "_model_module": "@jupyter-widgets/controls",
      "_model_module_version": "1.5.0",
      "_model_name": "HBoxModel",
      "_view_count": null,
      "_view_module": "@jupyter-widgets/controls",
      "_view_module_version": "1.5.0",
      "_view_name": "HBoxView",
      "box_style": "",
      "children": [
       "IPY_MODEL_3834146bfd4a4bb6866512e2f1d97353",
       "IPY_MODEL_4f17b9644e004a408bfe55e794ddcb65"
      ],
      "layout": "IPY_MODEL_af2202070ddd4893bca9d5d58c539a19"
     }
    },
    "f8ace14a2ee147a29495c91d136a8439": {
     "model_module": "@jupyter-widgets/base",
     "model_name": "LayoutModel",
     "state": {
      "_model_module": "@jupyter-widgets/base",
      "_model_module_version": "1.2.0",
      "_model_name": "LayoutModel",
      "_view_count": null,
      "_view_module": "@jupyter-widgets/base",
      "_view_module_version": "1.2.0",
      "_view_name": "LayoutView",
      "align_content": null,
      "align_items": null,
      "align_self": null,
      "border": null,
      "bottom": null,
      "display": null,
      "flex": null,
      "flex_flow": null,
      "grid_area": null,
      "grid_auto_columns": null,
      "grid_auto_flow": null,
      "grid_auto_rows": null,
      "grid_column": null,
      "grid_gap": null,
      "grid_row": null,
      "grid_template_areas": null,
      "grid_template_columns": null,
      "grid_template_rows": null,
      "height": null,
      "justify_content": null,
      "justify_items": null,
      "left": null,
      "margin": null,
      "max_height": null,
      "max_width": null,
      "min_height": null,
      "min_width": null,
      "object_fit": null,
      "object_position": null,
      "order": null,
      "overflow": null,
      "overflow_x": null,
      "overflow_y": null,
      "padding": null,
      "right": null,
      "top": null,
      "visibility": null,
      "width": null
     }
    }
   }
  }
 },
 "nbformat": 4,
 "nbformat_minor": 1
}
