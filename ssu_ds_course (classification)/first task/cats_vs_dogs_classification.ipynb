{
 "cells": [
  {
   "cell_type": "markdown",
   "metadata": {
    "colab_type": "text",
    "id": "qK8pow0cFxMD"
   },
   "source": [
    "В этой практике вы познакомитесь с тем как строить пайплайн для решения задачи обучения с учителем. На самом деле строить пайплайн с нуля даже для такой задачи как классификация кошек и собак довольно трудоемко для первой практики, поэтому многие шаги я уже приготовил. Вам нужно реализовать ключевые куски чтобы сложить картину целиком.\n",
    "Для того чтобы выполнить практику, поставьте [Anaconda](https://www.anaconda.com/download) - она содержит нужные для работы библиотеки."
   ]
  },
  {
   "cell_type": "markdown",
   "metadata": {
    "colab_type": "text",
    "id": "69YkraDoFxMF"
   },
   "source": [
    "Зарегистрируйтесь на платформе https://kaggle.com и посмотрите конкурс https://www.kaggle.com/c/dogs-vs-cats"
   ]
  },
  {
   "cell_type": "markdown",
   "metadata": {
    "colab_type": "text",
    "id": "0K95RBGxFxMJ"
   },
   "source": [
    "Скачайте данные этого конкурса https://www.kaggle.com/c/3362/download-all. Наш проект будет построен по т.н. схеме [cookiecutter](https://drivendata.github.io/cookiecutter-data-science/#cookiecutter-data-science) (прочитать про неё полезно, но не обязательно), поэтому скачанные данные распакуйте и поместите в папку `data/` внутри проекта (на деле если вы используете ссылку выше нужно распаковать дважды - архив и архивы внутри архива). Если вы используете `git`, то добавьте папку `data/` в файл `.gitignore`."
   ]
  },
  {
   "cell_type": "markdown",
   "metadata": {
    "colab_type": "text",
    "id": "f1hxuc2lFxMM"
   },
   "source": [
    "Данные для каждой практики персональны для каждого студента. Введите свое имя, фамилию и группу в строковую переменную STUDENT_ID (в произвольной форме) - это ваш уникальный идентификатор."
   ]
  },
  {
   "cell_type": "code",
   "execution_count": 0,
   "metadata": {
    "colab": {},
    "colab_type": "code",
    "id": "OJShbDuGFxMO"
   },
   "outputs": [],
   "source": [
    "STUDENT_ID = \"<Turaev Artem 411>\""
   ]
  },
  {
   "cell_type": "markdown",
   "metadata": {
    "colab_type": "text",
    "id": "8aUANsJlFxMg"
   },
   "source": [
    "Чтение данных\n",
    "===="
   ]
  },
  {
   "cell_type": "markdown",
   "metadata": {
    "colab_type": "text",
    "id": "u4xbRadAFxMi"
   },
   "source": [
    "Обработаем данные. Этот шаг я сделаю за вас в силу некоторой его трудоемкости. Используем библиотеки pandas, numpy и Pillow.\n",
    "- Введение в pandas и numpy можно посмотреть в первом уроке курса mlcourse_open: \n",
    "- https://github.com/Yorko/mlcourse.ai/blob/master/jupyter_russian/topic01_pandas_data_analysis/lesson1_part0_numpy.ipynb\n",
    "- https://github.com/Yorko/mlcourse.ai/blob/master/jupyter_russian/topic01_pandas_data_analysis/lesson1_part1_pandas_intro.ipynb\n",
    "- Pillow - одна из самых распространенных библиотек для работы с изображениями в python."
   ]
  },
  {
   "cell_type": "code",
   "execution_count": 2,
   "metadata": {
    "colab": {
     "base_uri": "https://localhost:8080/",
     "height": 35
    },
    "colab_type": "code",
    "id": "3q8Q4UKTGUnJ",
    "outputId": "38f451c2-a08c-4b02-c4f8-2458cfd8e0ab"
   },
   "outputs": [
    {
     "name": "stdout",
     "output_type": "stream",
     "text": [
      "Drive already mounted at /content/drive; to attempt to forcibly remount, call drive.mount(\"/content/drive\", force_remount=True).\n"
     ]
    }
   ],
   "source": [
    "from google.colab import drive\n",
    "drive.mount('/content/drive')"
   ]
  },
  {
   "cell_type": "markdown",
   "metadata": {
    "colab_type": "text",
    "id": "_661-7pNMKPV"
   },
   "source": [
    "%cd /content/drive/My Drive/data/\n",
    "%ls\n",
    "!unzip train.zip"
   ]
  },
  {
   "cell_type": "code",
   "execution_count": 3,
   "metadata": {
    "colab": {
     "base_uri": "https://localhost:8080/",
     "height": 35
    },
    "colab_type": "code",
    "id": "ODxkPQyQLyrt",
    "outputId": "3bbd92fc-6204-4d6d-9eb4-989916e90371"
   },
   "outputs": [
    {
     "name": "stdout",
     "output_type": "stream",
     "text": [
      "25000\n"
     ]
    }
   ],
   "source": [
    "from glob import glob\n",
    "import os\n",
    "image_paths_list = glob(os.path.join('/content/drive/My Drive/data/train', '*.jpg'))\n",
    "\n",
    "print(len(image_paths_list))"
   ]
  },
  {
   "cell_type": "code",
   "execution_count": 4,
   "metadata": {
    "colab": {
     "base_uri": "https://localhost:8080/",
     "height": 424
    },
    "colab_type": "code",
    "id": "IcIu2mFrFxMk",
    "outputId": "2eec74b3-62f2-4738-918b-c04d6db22f91"
   },
   "outputs": [
    {
     "data": {
      "text/html": [
       "<div>\n",
       "<style scoped>\n",
       "    .dataframe tbody tr th:only-of-type {\n",
       "        vertical-align: middle;\n",
       "    }\n",
       "\n",
       "    .dataframe tbody tr th {\n",
       "        vertical-align: top;\n",
       "    }\n",
       "\n",
       "    .dataframe thead th {\n",
       "        text-align: right;\n",
       "    }\n",
       "</style>\n",
       "<table border=\"1\" class=\"dataframe\">\n",
       "  <thead>\n",
       "    <tr style=\"text-align: right;\">\n",
       "      <th></th>\n",
       "      <th>filename</th>\n",
       "      <th>is_cat</th>\n",
       "    </tr>\n",
       "  </thead>\n",
       "  <tbody>\n",
       "    <tr>\n",
       "      <th>0</th>\n",
       "      <td>dog.1561.jpg</td>\n",
       "      <td>False</td>\n",
       "    </tr>\n",
       "    <tr>\n",
       "      <th>1</th>\n",
       "      <td>dog.6662.jpg</td>\n",
       "      <td>False</td>\n",
       "    </tr>\n",
       "    <tr>\n",
       "      <th>2</th>\n",
       "      <td>cat.5386.jpg</td>\n",
       "      <td>True</td>\n",
       "    </tr>\n",
       "    <tr>\n",
       "      <th>3</th>\n",
       "      <td>dog.11026.jpg</td>\n",
       "      <td>False</td>\n",
       "    </tr>\n",
       "    <tr>\n",
       "      <th>4</th>\n",
       "      <td>cat.2033.jpg</td>\n",
       "      <td>True</td>\n",
       "    </tr>\n",
       "    <tr>\n",
       "      <th>...</th>\n",
       "      <td>...</td>\n",
       "      <td>...</td>\n",
       "    </tr>\n",
       "    <tr>\n",
       "      <th>4995</th>\n",
       "      <td>cat.151.jpg</td>\n",
       "      <td>True</td>\n",
       "    </tr>\n",
       "    <tr>\n",
       "      <th>4996</th>\n",
       "      <td>dog.181.jpg</td>\n",
       "      <td>False</td>\n",
       "    </tr>\n",
       "    <tr>\n",
       "      <th>4997</th>\n",
       "      <td>cat.1746.jpg</td>\n",
       "      <td>True</td>\n",
       "    </tr>\n",
       "    <tr>\n",
       "      <th>4998</th>\n",
       "      <td>cat.10402.jpg</td>\n",
       "      <td>True</td>\n",
       "    </tr>\n",
       "    <tr>\n",
       "      <th>4999</th>\n",
       "      <td>dog.5680.jpg</td>\n",
       "      <td>False</td>\n",
       "    </tr>\n",
       "  </tbody>\n",
       "</table>\n",
       "<p>5000 rows × 2 columns</p>\n",
       "</div>"
      ],
      "text/plain": [
       "           filename  is_cat\n",
       "0      dog.1561.jpg   False\n",
       "1      dog.6662.jpg   False\n",
       "2      cat.5386.jpg    True\n",
       "3     dog.11026.jpg   False\n",
       "4      cat.2033.jpg    True\n",
       "...             ...     ...\n",
       "4995    cat.151.jpg    True\n",
       "4996    dog.181.jpg   False\n",
       "4997   cat.1746.jpg    True\n",
       "4998  cat.10402.jpg    True\n",
       "4999   dog.5680.jpg   False\n",
       "\n",
       "[5000 rows x 2 columns]"
      ]
     },
     "execution_count": 4,
     "metadata": {
      "tags": []
     },
     "output_type": "execute_result"
    }
   ],
   "source": [
    "import pandas as pd\n",
    "import pathlib\n",
    "import hashlib\n",
    "import numpy as np\n",
    "import random\n",
    "\n",
    "\n",
    "train_directory = pathlib.Path(\"/content/drive/My Drive/data/train\")\n",
    "sample_size = 5000\n",
    "\n",
    "def initialize_random_seed():\n",
    "    \"\"\"Инициализирует ГПСЧ из STUDENT_ID\"\"\"\n",
    "    sha256 = hashlib.sha256()\n",
    "    sha256.update(STUDENT_ID.encode(\"utf-8\"))\n",
    "    \n",
    "    fingerprint = int(sha256.hexdigest(), 16) % (2**32) \n",
    "    \n",
    "    random.seed(fingerprint)\n",
    "    np.random.seed(fingerprint)\n",
    "\n",
    "\n",
    "def read_target_variable():\n",
    "    \"\"\"Прочитаем разметку фотографий из названий файлов\"\"\"\n",
    "    target_variable = {\n",
    "        \"filename\": [],\n",
    "        \"is_cat\": []\n",
    "    }\n",
    "    image_paths = list(train_directory.glob(\"*.jpg\"))\n",
    "    random.shuffle(image_paths)\n",
    "    for image_path in image_paths[:sample_size]:\n",
    "        filename = image_path.name\n",
    "        class_name = filename.split(\".\")[0]\n",
    "        target_variable[\"filename\"].append(filename)\n",
    "        target_variable[\"is_cat\"].append(class_name == \"cat\")\n",
    "\n",
    "    return pd.DataFrame(data=target_variable)\n",
    "\n",
    "\n",
    "initialize_random_seed()\n",
    "\n",
    "target_df = read_target_variable()\n",
    "target_df"
   ]
  },
  {
   "cell_type": "markdown",
   "metadata": {
    "colab_type": "text",
    "id": "u-4nBvlnFxM0"
   },
   "source": [
    "Обработка изображений\n",
    "===="
   ]
  },
  {
   "cell_type": "markdown",
   "metadata": {
    "colab_type": "text",
    "id": "iMK8dUEoFxM2"
   },
   "source": [
    "Используем изображения в качестве признакового описания. Признаками будут значения конкретных пикселей."
   ]
  },
  {
   "cell_type": "code",
   "execution_count": 5,
   "metadata": {
    "colab": {
     "base_uri": "https://localhost:8080/",
     "height": 251,
     "referenced_widgets": [
      "763df32569ba4ddf91cb8dff03e75d84",
      "15232d472eee48e19e56989966e70b97",
      "2594affa390f498faaa9ab48316d3ca6",
      "d6dcb2dedddb4406abf3a061d7e1dd9d",
      "8196efac15ae423e8576d2c203ee2c0f",
      "818e2d17c9e64ec8b69207a4393dcbfc",
      "2e4a978d9807458aacb1a91d800c0df5",
      "4f42463aed484ae592bd889c936784ea"
     ]
    },
    "colab_type": "code",
    "id": "SJ6Oh6HSFxM3",
    "outputId": "a43d3cd0-b657-4150-e9f9-b66728f16988"
   },
   "outputs": [
    {
     "name": "stderr",
     "output_type": "stream",
     "text": [
      "/usr/local/lib/python3.6/dist-packages/ipykernel_launcher.py:10: TqdmDeprecationWarning: This function will be removed in tqdm==5.0.0\n",
      "Please use `tqdm.notebook.tqdm` instead of `tqdm.tqdm_notebook`\n",
      "  # Remove the CWD from sys.path while we load stuff.\n"
     ]
    },
    {
     "data": {
      "application/vnd.jupyter.widget-view+json": {
       "model_id": "763df32569ba4ddf91cb8dff03e75d84",
       "version_major": 2,
       "version_minor": 0
      },
      "text/plain": [
       "HBox(children=(IntProgress(value=0, max=5000), HTML(value='')))"
      ]
     },
     "metadata": {
      "tags": []
     },
     "output_type": "display_data"
    },
    {
     "name": "stdout",
     "output_type": "stream",
     "text": [
      "\n"
     ]
    },
    {
     "data": {
      "text/plain": [
       "array([[123, 126, 128, ..., 181, 179, 178],\n",
       "       [125, 125, 143, ..., 114,  97, 109],\n",
       "       [ 22,  26,  28, ...,  17,  20,  19],\n",
       "       ...,\n",
       "       [ 11,  31,  34, ...,  27,  25,  24],\n",
       "       [ 17,  15,  16, ..., 112, 109, 107],\n",
       "       [187, 178, 178, ..., 107, 116, 113]], dtype=uint8)"
      ]
     },
     "execution_count": 5,
     "metadata": {
      "tags": []
     },
     "output_type": "execute_result"
    }
   ],
   "source": [
    "from PIL import Image\n",
    "from tqdm import tqdm_notebook\n",
    "\n",
    "\n",
    "def read_data(target_df):\n",
    "    \"\"\"Читает данные изображений и строит их признаковое описание\"\"\"\n",
    "    image_size = (100, 100)\n",
    "    features = []\n",
    "    target = []\n",
    "    for i, image_name, is_cat in tqdm_notebook(target_df.itertuples(), total=len(target_df)):\n",
    "        image_path = str(train_directory / image_name)\n",
    "        image = Image.open(image_path)\n",
    "        image = image.resize(image_size) # уменьшаем изображения\n",
    "        image = image.convert('LA') # преобразуем в Ч\\Б\n",
    "        pixels = np.asarray(image)[:, :, 0]\n",
    "        pixels = pixels.flatten()\n",
    "        features.append(pixels)\n",
    "        target.append(is_cat)\n",
    "    return np.array(features), np.array(target)\n",
    "\n",
    "features, target = read_data(target_df)\n",
    "features"
   ]
  },
  {
   "cell_type": "markdown",
   "metadata": {
    "colab_type": "text",
    "id": "SA8nY7G2FxNA"
   },
   "source": [
    "Разбиение на обучающую, валидационную и тестовую выборки\n",
    "====\n",
    "\n",
    "Сделайте обучающую, валидационную и тестовую выборки в пропорции 60/20/20. Используйте библиотеку scikit-learn (метод train_test_split). \n",
    "\n",
    "Документация: https://scikit-learn.org/stable/modules/generated/sklearn.model_selection.train_test_split.html\n",
    "\n",
    "Советую изучить готовый пайплайн для другой задачи, чтобы примерно понимать что требуется делать дальше (в отличии от нашего пайплайна тут нет валидационного множества): https://scikit-learn.org/stable/auto_examples/linear_model/plot_sparse_logistic_regression_mnist.html \n"
   ]
  },
  {
   "cell_type": "code",
   "execution_count": 6,
   "metadata": {
    "colab": {
     "base_uri": "https://localhost:8080/",
     "height": 201
    },
    "colab_type": "code",
    "id": "snw1LRnnFxNB",
    "outputId": "784ac4ed-be01-4145-9bd3-39cf735f291b"
   },
   "outputs": [
    {
     "name": "stdout",
     "output_type": "stream",
     "text": [
      "3000\n",
      "1000\n",
      "1000\n"
     ]
    },
    {
     "data": {
      "text/plain": [
       "array([[186, 186, 187, ..., 112, 108, 110],\n",
       "       [117,  95,  77, ...,  94,  91,  95],\n",
       "       [ 37,  38,  40, ..., 175, 178, 172],\n",
       "       ...,\n",
       "       [ 93,  95,  93, ...,  17,  16,  71],\n",
       "       [ 50,  50,  51, ...,  91,  91,  84],\n",
       "       [118, 118, 118, ..., 190, 184, 178]], dtype=uint8)"
      ]
     },
     "execution_count": 6,
     "metadata": {
      "tags": []
     },
     "output_type": "execute_result"
    }
   ],
   "source": [
    "from sklearn.model_selection import train_test_split\n",
    "\n",
    "X_train, X_test, y_train, y_test = train_test_split(features, target, test_size=0.4, train_size=0.6)\n",
    "\n",
    "X_test, X_valid, y_test, y_valid = train_test_split(X_test, y_test, test_size=0.5)\n",
    "\n",
    "print(len(X_train))\n",
    "print(len(X_test))\n",
    "print(len(X_valid))\n",
    "X_train"
   ]
  },
  {
   "cell_type": "code",
   "execution_count": 7,
   "metadata": {
    "colab": {
     "base_uri": "https://localhost:8080/",
     "height": 35
    },
    "colab_type": "code",
    "id": "vW9x-79EFxNM",
    "outputId": "ba3b3681-0e61-49f2-8aed-6b19bf482f90"
   },
   "outputs": [
    {
     "data": {
      "text/plain": [
       "1516"
      ]
     },
     "execution_count": 7,
     "metadata": {
      "tags": []
     },
     "output_type": "execute_result"
    }
   ],
   "source": [
    "dogs = 0\n",
    "\n",
    "is_dog = lambda x: 1 if x == False else 0\n",
    "\n",
    "for i in y_train:\n",
    "    dogs += is_dog(i)\n",
    "\n",
    "dogs"
   ]
  },
  {
   "cell_type": "code",
   "execution_count": 8,
   "metadata": {
    "colab": {
     "base_uri": "https://localhost:8080/",
     "height": 286
    },
    "colab_type": "code",
    "id": "Qk59FtM0FxNS",
    "outputId": "bbb0a232-fe96-4815-921c-10bf7fbecde2"
   },
   "outputs": [
    {
     "name": "stdout",
     "output_type": "stream",
     "text": [
      "True\n"
     ]
    },
    {
     "data": {
      "image/png": "[encoded data removed]",
      "text/plain": [
       "<Figure size 432x288 with 1 Axes>"
      ]
     },
     "metadata": {
      "needs_background": "light",
      "tags": []
     },
     "output_type": "display_data"
    }
   ],
   "source": [
    "import matplotlib.pyplot as plt\n",
    "I=2000\n",
    "\n",
    "plt.imshow(X_train[I].reshape(100, 100))\n",
    "print(y_train[I])"
   ]
  },
  {
   "cell_type": "markdown",
   "metadata": {
    "colab_type": "text",
    "id": "OPwPTrV8FxNd"
   },
   "source": [
    "Обучение модели\n",
    "====\n",
    "\n",
    "Попробуйте обучить модель `sklearn.linear_model.SGDClassifier` на полученных данных. Если это занимает слишком много времени и ресурсов - уменьшайте размер выборки (переменная sample_size).\n",
    "\n",
    "Документация: https://scikit-learn.org/stable/modules/generated/sklearn.linear_model.SGDClassifier.html"
   ]
  },
  {
   "cell_type": "code",
   "execution_count": 9,
   "metadata": {
    "colab": {
     "base_uri": "https://localhost:8080/",
     "height": 54
    },
    "colab_type": "code",
    "id": "KyHs7OMvFxNe",
    "outputId": "5470870b-6a10-407e-d5ee-b54abf736eb8"
   },
   "outputs": [
    {
     "name": "stdout",
     "output_type": "stream",
     "text": [
      "test score 0.531\n",
      "train score(overfitting) 0.8833333333333333\n"
     ]
    }
   ],
   "source": [
    "from sklearn.linear_model import SGDClassifier\n",
    "\n",
    "clf = SGDClassifier(random_state=33)\n",
    "\n",
    "clf.fit(X_train, y_train)\n",
    "\n",
    "score = clf.score(X_test, y_test)\n",
    "print('test score', score)\n",
    "score = clf.score(X_train, y_train)\n",
    "print('train score(overfitting)', score) "
   ]
  },
  {
   "cell_type": "markdown",
   "metadata": {
    "colab_type": "text",
    "id": "iXMeP_H9FxNj"
   },
   "source": [
    "Настройка гиперпараметров\n",
    "====\n",
    "\n",
    "Подберите скорость обучения модели, оценивая долю верных ответов (scikit-learn accuracy_score) на валидационном множестве (подбираем параметр `eta0` в отрезке [0, 1] указав параметр `learning_rate=\"constant\"`)."
   ]
  },
  {
   "cell_type": "code",
   "execution_count": null,
   "metadata": {
    "colab_type": "raw",
    "id": "dVrRP4H5FxNk"
   },
   "outputs": [],
   "source": [
    "# clf = SGDClassifier(max_iter=900, tol=1e-3, loss='squared_loss', penalty='l2')\n",
    "# clf.learning_rate = 'constant'\n",
    "\n",
    "# best_eta = 0\n",
    "# score_var = 0\n",
    "# part = 100\n",
    "# for i in tqdm_notebook(range(1, part + 1)):\n",
    "#     eta0_var = i / part\n",
    "#     clf.eta0 = eta0_var\n",
    "#     clf.fit(X_train, X_train_target)\n",
    "#     score = clf.score(X_valid, X_valid_target)\n",
    "#     if score > score_var:\n",
    "#         score_var = score\n",
    "#         best_eta = eta0_var\n",
    "        \n",
    "# clf.eta0 = best_eta\n",
    "# clf"
   ]
  },
  {
   "cell_type": "code",
   "execution_count": 0,
   "metadata": {
    "colab": {},
    "colab_type": "code",
    "id": "AQbpTzxOFxNl"
   },
   "outputs": [],
   "source": [
    "clf = SGDClassifier(learning_rate='constant', eta0=0.83, max_iter=1100, tol=1e-4, loss='squared_loss', random_state=33)"
   ]
  },
  {
   "cell_type": "markdown",
   "metadata": {
    "colab_type": "text",
    "id": "gkiLjC6MFxNq"
   },
   "source": [
    "Оценка результатов\n",
    "====\n",
    "\n",
    "Оцените долю верных ответов модели (scikit-learn accuracy_score). Каков уровень переобучения?"
   ]
  },
  {
   "cell_type": "code",
   "execution_count": 11,
   "metadata": {
    "colab": {
     "base_uri": "https://localhost:8080/",
     "height": 72
    },
    "colab_type": "code",
    "id": "aPJQB3VtFxNs",
    "outputId": "96e8fbb7-31a6-4e50-b48a-ebeb98d51d2b"
   },
   "outputs": [
    {
     "name": "stdout",
     "output_type": "stream",
     "text": [
      "train \t\t 0.5096666666666667\n",
      "validation \t 0.496\n",
      "test \t\t 0.497\n"
     ]
    }
   ],
   "source": [
    "from sklearn.metrics import accuracy_score\n",
    "\n",
    "clf.fit(X_train, y_train)\n",
    "\n",
    "print(\"train \\t\\t\", clf.score(X_train, y_train))\n",
    "print(\"validation \\t\", clf.score(X_valid, y_valid))\n",
    "\n",
    "predict = clf.predict(X_test)\n",
    "print(\"test \\t\\t\", accuracy_score(y_test, predict))"
   ]
  },
  {
   "cell_type": "markdown",
   "metadata": {
    "colab_type": "text",
    "id": "G2bZWM8_FxN2"
   },
   "source": [
    "Нормализация данных\n",
    "====\n",
    "\n",
    "Сделайте нормализацию данных с помощью StandardScaler из библиотеки sklearn (scaler.fit_transform на train и validation, scaler.transform на test). Оцените долю верных ответов модели на тестовой выборке. Какова ситуация теперь?\n",
    "\n",
    "Документация: https://scikit-learn.org/stable/modules/generated/sklearn.preprocessing.StandardScaler.html"
   ]
  },
  {
   "cell_type": "code",
   "execution_count": 0,
   "metadata": {
    "colab": {},
    "colab_type": "code",
    "id": "ymmKj-TLFxN4"
   },
   "outputs": [],
   "source": [
    "from sklearn.preprocessing import StandardScaler\n",
    "\n",
    "scaler = StandardScaler()\n",
    "\n",
    "X_train = scaler.fit_transform(X_train)\n",
    "X_valid = scaler.fit_transform(X_valid)\n",
    "X_test = scaler.transform(X_test)"
   ]
  },
  {
   "cell_type": "code",
   "execution_count": 13,
   "metadata": {
    "colab": {
     "base_uri": "https://localhost:8080/",
     "height": 72
    },
    "colab_type": "code",
    "id": "lgS2aK7aFxOA",
    "outputId": "4bdae8d8-cc1a-46dd-fad1-55f3b9ef6176"
   },
   "outputs": [
    {
     "name": "stdout",
     "output_type": "stream",
     "text": [
      "train \t\t 0.49566666666666664\n",
      "validation \t 0.539\n",
      "test \t\t 0.494\n"
     ]
    }
   ],
   "source": [
    "clf = SGDClassifier(learning_rate='constant', eta0=0.83, max_iter=1100, tol=1e-4, loss='squared_loss', random_state=33)\n",
    "clf.fit(X_train, y_train)\n",
    "print(\"train \\t\\t\", clf.score(X_train, y_train))\n",
    "print(\"validation \\t\", clf.score(X_valid, y_valid))\n",
    "print(\"test \\t\\t\", clf.score(X_test, y_test))"
   ]
  },
  {
   "cell_type": "markdown",
   "metadata": {
    "colab_type": "text",
    "id": "j4vwkPdLFxOI"
   },
   "source": [
    "Сабмит на kaggle\n",
    "===="
   ]
  },
  {
   "cell_type": "markdown",
   "metadata": {
    "colab_type": "text",
    "id": "QwImsLzwFxOK"
   },
   "source": [
    "(Опционально) сделайте сабмит в конкурсе https://www.kaggle.com/c/dogs-vs-cats (это простой бейзлайн, не ожидайте высокого результата)"
   ]
  },
  {
   "cell_type": "markdown",
   "metadata": {
    "colab_type": "text",
    "id": "8pl-xAJXFxOL"
   },
   "source": [
    "# Random Forest"
   ]
  },
  {
   "cell_type": "markdown",
   "metadata": {
    "colab_type": "text",
    "id": "E648_Or4FxOM"
   },
   "source": [
    "Примените RandomForest вместо SGDClassifier на этой задаче. Подберите количество деревьев, перебирая их в интервале от 100 до 400.\n"
   ]
  },
  {
   "cell_type": "markdown",
   "metadata": {
    "colab_type": "text",
    "id": "oz3pR1PkFxON"
   },
   "source": [
    "Оцените качество RandomForest на кросс-валидации по пяти фолдам. Посмотрите на среднее и стандартное отклонение точности на кросс-валидации."
   ]
  },
  {
   "cell_type": "code",
   "execution_count": 14,
   "metadata": {
    "colab": {
     "base_uri": "https://localhost:8080/",
     "height": 54
    },
    "colab_type": "code",
    "id": "D9wxf1JtFxON",
    "outputId": "4192bff2-bb7f-43fc-d91c-0ea6c1c77b42"
   },
   "outputs": [
    {
     "name": "stdout",
     "output_type": "stream",
     "text": [
      "validation \t 0.622\n",
      "test \t\t 0.636\n"
     ]
    }
   ],
   "source": [
    "from sklearn.ensemble import RandomForestClassifier\n",
    "\n",
    "clf = RandomForestClassifier(n_estimators=210, random_state=33)\n",
    "clf.fit(X_train, y_train)\n",
    "\n",
    "print(\"validation \\t\", clf.score(X_valid, y_valid))\n",
    "print(\"test \\t\\t\", clf.score(X_test, y_test))"
   ]
  },
  {
   "cell_type": "code",
   "execution_count": 15,
   "metadata": {
    "colab": {
     "base_uri": "https://localhost:8080/",
     "height": 90
    },
    "colab_type": "code",
    "id": "UfQpDVk5FxOS",
    "outputId": "22bd1c55-cb16-4feb-c2bf-ee9f8a010b9b"
   },
   "outputs": [
    {
     "name": "stdout",
     "output_type": "stream",
     "text": [
      "[0.615 0.565 0.57  0.625 0.58 ]\n",
      "mean value \t\t 0.591\n",
      "standard deviation \t 0.0243721152139079\n",
      "dispersion \t\t 0.000594000000000001\n"
     ]
    }
   ],
   "source": [
    "from sklearn.model_selection import cross_val_score\n",
    "from numpy import mean, std, var\n",
    "\n",
    "cross_val_value = cross_val_score(clf, X_test, y_test, cv=5)\n",
    "print(cross_val_value)\n",
    "print(\"mean value \\t\\t\", mean(cross_val_value))\n",
    "print(\"standard deviation \\t\", std(cross_val_value))\n",
    "print(\"dispersion \\t\\t\", var(cross_val_value))"
   ]
  }
 ],
 "metadata": {
  "colab": {
   "collapsed_sections": [],
   "name": "Практика 1. Пайплайн для задачи cats-vs-dogs.ipynb",
   "provenance": []
  },
  "kernelspec": {
   "display_name": "Python 3",
   "language": "python",
   "name": "python3"
  },
  "language_info": {
   "codemirror_mode": {
    "name": "ipython",
    "version": 3
   },
   "file_extension": ".py",
   "mimetype": "text/x-python",
   "name": "python",
   "nbconvert_exporter": "python",
   "pygments_lexer": "ipython3",
   "version": "3.7.3"
  },
  "widgets": {
   "application/vnd.jupyter.widget-state+json": {
    "15232d472eee48e19e56989966e70b97": {
     "model_module": "@jupyter-widgets/base",
     "model_name": "LayoutModel",
     "state": {
      "_model_module": "@jupyter-widgets/base",
      "_model_module_version": "1.2.0",
      "_model_name": "LayoutModel",
      "_view_count": null,
      "_view_module": "@jupyter-widgets/base",
      "_view_module_version": "1.2.0",
      "_view_name": "LayoutView",
      "align_content": null,
      "align_items": null,
      "align_self": null,
      "border": null,
      "bottom": null,
      "display": null,
      "flex": null,
      "flex_flow": null,
      "grid_area": null,
      "grid_auto_columns": null,
      "grid_auto_flow": null,
      "grid_auto_rows": null,
      "grid_column": null,
      "grid_gap": null,
      "grid_row": null,
      "grid_template_areas": null,
      "grid_template_columns": null,
      "grid_template_rows": null,
      "height": null,
      "justify_content": null,
      "justify_items": null,
      "left": null,
      "margin": null,
      "max_height": null,
      "max_width": null,
      "min_height": null,
      "min_width": null,
      "object_fit": null,
      "object_position": null,
      "order": null,
      "overflow": null,
      "overflow_x": null,
      "overflow_y": null,
      "padding": null,
      "right": null,
      "top": null,
      "visibility": null,
      "width": null
     }
    },
    "2594affa390f498faaa9ab48316d3ca6": {
     "model_module": "@jupyter-widgets/controls",
     "model_name": "IntProgressModel",
     "state": {
      "_dom_classes": [],
      "_model_module": "@jupyter-widgets/controls",
      "_model_module_version": "1.5.0",
      "_model_name": "IntProgressModel",
      "_view_count": null,
      "_view_module": "@jupyter-widgets/controls",
      "_view_module_version": "1.5.0",
      "_view_name": "ProgressView",
      "bar_style": "success",
      "description": "100%",
      "description_tooltip": null,
      "layout": "IPY_MODEL_818e2d17c9e64ec8b69207a4393dcbfc",
      "max": 5000,
      "min": 0,
      "orientation": "horizontal",
      "style": "IPY_MODEL_8196efac15ae423e8576d2c203ee2c0f",
      "value": 5000
     }
    },
    "2e4a978d9807458aacb1a91d800c0df5": {
     "model_module": "@jupyter-widgets/controls",
     "model_name": "DescriptionStyleModel",
     "state": {
      "_model_module": "@jupyter-widgets/controls",
      "_model_module_version": "1.5.0",
      "_model_name": "DescriptionStyleModel",
      "_view_count": null,
      "_view_module": "@jupyter-widgets/base",
      "_view_module_version": "1.2.0",
      "_view_name": "StyleView",
      "description_width": ""
     }
    },
    "4f42463aed484ae592bd889c936784ea": {
     "model_module": "@jupyter-widgets/base",
     "model_name": "LayoutModel",
     "state": {
      "_model_module": "@jupyter-widgets/base",
      "_model_module_version": "1.2.0",
      "_model_name": "LayoutModel",
      "_view_count": null,
      "_view_module": "@jupyter-widgets/base",
      "_view_module_version": "1.2.0",
      "_view_name": "LayoutView",
      "align_content": null,
      "align_items": null,
      "align_self": null,
      "border": null,
      "bottom": null,
      "display": null,
      "flex": null,
      "flex_flow": null,
      "grid_area": null,
      "grid_auto_columns": null,
      "grid_auto_flow": null,
      "grid_auto_rows": null,
      "grid_column": null,
      "grid_gap": null,
      "grid_row": null,
      "grid_template_areas": null,
      "grid_template_columns": null,
      "grid_template_rows": null,
      "height": null,
      "justify_content": null,
      "justify_items": null,
      "left": null,
      "margin": null,
      "max_height": null,
      "max_width": null,
      "min_height": null,
      "min_width": null,
      "object_fit": null,
      "object_position": null,
      "order": null,
      "overflow": null,
      "overflow_x": null,
      "overflow_y": null,
      "padding": null,
      "right": null,
      "top": null,
      "visibility": null,
      "width": null
     }
    },
    "763df32569ba4ddf91cb8dff03e75d84": {
     "model_module": "@jupyter-widgets/controls",
     "model_name": "HBoxModel",
     "state": {
      "_dom_classes": [],
      "_model_module": "@jupyter-widgets/controls",
      "_model_module_version": "1.5.0",
      "_model_name": "HBoxModel",
      "_view_count": null,
      "_view_module": "@jupyter-widgets/controls",
      "_view_module_version": "1.5.0",
      "_view_name": "HBoxView",
      "box_style": "",
      "children": [
       "IPY_MODEL_2594affa390f498faaa9ab48316d3ca6",
       "IPY_MODEL_d6dcb2dedddb4406abf3a061d7e1dd9d"
      ],
      "layout": "IPY_MODEL_15232d472eee48e19e56989966e70b97"
     }
    },
    "818e2d17c9e64ec8b69207a4393dcbfc": {
     "model_module": "@jupyter-widgets/base",
     "model_name": "LayoutModel",
     "state": {
      "_model_module": "@jupyter-widgets/base",
      "_model_module_version": "1.2.0",
      "_model_name": "LayoutModel",
      "_view_count": null,
      "_view_module": "@jupyter-widgets/base",
      "_view_module_version": "1.2.0",
      "_view_name": "LayoutView",
      "align_content": null,
      "align_items": null,
      "align_self": null,
      "border": null,
      "bottom": null,
      "display": null,
      "flex": null,
      "flex_flow": null,
      "grid_area": null,
      "grid_auto_columns": null,
      "grid_auto_flow": null,
      "grid_auto_rows": null,
      "grid_column": null,
      "grid_gap": null,
      "grid_row": null,
      "grid_template_areas": null,
      "grid_template_columns": null,
      "grid_template_rows": null,
      "height": null,
      "justify_content": null,
      "justify_items": null,
      "left": null,
      "margin": null,
      "max_height": null,
      "max_width": null,
      "min_height": null,
      "min_width": null,
      "object_fit": null,
      "object_position": null,
      "order": null,
      "overflow": null,
      "overflow_x": null,
      "overflow_y": null,
      "padding": null,
      "right": null,
      "top": null,
      "visibility": null,
      "width": null
     }
    },
    "8196efac15ae423e8576d2c203ee2c0f": {
     "model_module": "@jupyter-widgets/controls",
     "model_name": "ProgressStyleModel",
     "state": {
      "_model_module": "@jupyter-widgets/controls",
      "_model_module_version": "1.5.0",
      "_model_name": "ProgressStyleModel",
      "_view_count": null,
      "_view_module": "@jupyter-widgets/base",
      "_view_module_version": "1.2.0",
      "_view_name": "StyleView",
      "bar_color": null,
      "description_width": "initial"
     }
    },
    "d6dcb2dedddb4406abf3a061d7e1dd9d": {
     "model_module": "@jupyter-widgets/controls",
     "model_name": "HTMLModel",
     "state": {
      "_dom_classes": [],
      "_model_module": "@jupyter-widgets/controls",
      "_model_module_version": "1.5.0",
      "_model_name": "HTMLModel",
      "_view_count": null,
      "_view_module": "@jupyter-widgets/controls",
      "_view_module_version": "1.5.0",
      "_view_name": "HTMLView",
      "description": "",
      "description_tooltip": null,
      "layout": "IPY_MODEL_4f42463aed484ae592bd889c936784ea",
      "placeholder": "​",
      "style": "IPY_MODEL_2e4a978d9807458aacb1a91d800c0df5",
      "value": " 5000/5000 [00:38&lt;00:00, 129.09it/s]"
     }
    }
   }
  }
 },
 "nbformat": 4,
 "nbformat_minor": 1
}
