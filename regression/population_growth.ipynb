{
 "cells": [
  {
   "cell_type": "markdown",
   "metadata": {
    "colab_type": "text",
    "id": "JEKVrxuFSn5I"
   },
   "source": [
    "# **Загрузка данных**"
   ]
  },
  {
   "cell_type": "code",
   "execution_count": 1,
   "metadata": {
    "colab": {},
    "colab_type": "code",
    "id": "Xi5xBe4ZSkES"
   },
   "outputs": [],
   "source": [
    "from glob import glob\n",
    "import os\n",
    "import pandas as pd\n",
    "import pathlib\n",
    "import numpy as np\n",
    "import matplotlib.pyplot as plt\n",
    "from tqdm import tqdm\n",
    "\n",
    "from scipy.stats import uniform\n",
    "from numpy import random\n",
    "\n",
    "seed = 1\n",
    "random.seed(seed)"
   ]
  },
  {
   "cell_type": "code",
   "execution_count": 2,
   "metadata": {
    "colab": {},
    "colab_type": "code",
    "id": "JJ0LerTLcTow"
   },
   "outputs": [],
   "source": [
    "data_path = \"data/population.xls\"\n",
    "# train_data = pathlib.Path(\"data/population.xls\")\n",
    "data = pd.read_excel(data_path)"
   ]
  },
  {
   "cell_type": "code",
   "execution_count": 3,
   "metadata": {},
   "outputs": [
    {
     "data": {
      "text/html": [
       "<div>\n",
       "<style scoped>\n",
       "    .dataframe tbody tr th:only-of-type {\n",
       "        vertical-align: middle;\n",
       "    }\n",
       "\n",
       "    .dataframe tbody tr th {\n",
       "        vertical-align: top;\n",
       "    }\n",
       "\n",
       "    .dataframe thead th {\n",
       "        text-align: right;\n",
       "    }\n",
       "</style>\n",
       "<table border=\"1\" class=\"dataframe\">\n",
       "  <thead>\n",
       "    <tr style=\"text-align: right;\">\n",
       "      <th></th>\n",
       "      <th>year</th>\n",
       "      <th>population</th>\n",
       "      <th>town</th>\n",
       "      <th>country</th>\n",
       "      <th>town%</th>\n",
       "      <th>country%</th>\n",
       "    </tr>\n",
       "  </thead>\n",
       "  <tbody>\n",
       "    <tr>\n",
       "      <th>0</th>\n",
       "      <td>1970</td>\n",
       "      <td>129.9</td>\n",
       "      <td>80.6</td>\n",
       "      <td>49.3</td>\n",
       "      <td>62</td>\n",
       "      <td>38</td>\n",
       "    </tr>\n",
       "    <tr>\n",
       "      <th>1</th>\n",
       "      <td>1971</td>\n",
       "      <td>130.6</td>\n",
       "      <td>82.0</td>\n",
       "      <td>48.6</td>\n",
       "      <td>63</td>\n",
       "      <td>37</td>\n",
       "    </tr>\n",
       "    <tr>\n",
       "      <th>2</th>\n",
       "      <td>1972</td>\n",
       "      <td>131.3</td>\n",
       "      <td>83.6</td>\n",
       "      <td>47.7</td>\n",
       "      <td>64</td>\n",
       "      <td>36</td>\n",
       "    </tr>\n",
       "    <tr>\n",
       "      <th>3</th>\n",
       "      <td>1973</td>\n",
       "      <td>132.1</td>\n",
       "      <td>85.4</td>\n",
       "      <td>46.7</td>\n",
       "      <td>65</td>\n",
       "      <td>35</td>\n",
       "    </tr>\n",
       "    <tr>\n",
       "      <th>4</th>\n",
       "      <td>1974</td>\n",
       "      <td>132.8</td>\n",
       "      <td>87.1</td>\n",
       "      <td>45.7</td>\n",
       "      <td>66</td>\n",
       "      <td>34</td>\n",
       "    </tr>\n",
       "  </tbody>\n",
       "</table>\n",
       "</div>"
      ],
      "text/plain": [
       "   year  population  town  country  town%  country%\n",
       "0  1970       129.9  80.6     49.3     62        38\n",
       "1  1971       130.6  82.0     48.6     63        37\n",
       "2  1972       131.3  83.6     47.7     64        36\n",
       "3  1973       132.1  85.4     46.7     65        35\n",
       "4  1974       132.8  87.1     45.7     66        34"
      ]
     },
     "execution_count": 3,
     "metadata": {},
     "output_type": "execute_result"
    }
   ],
   "source": [
    "data.head()"
   ]
  },
  {
   "cell_type": "markdown",
   "metadata": {},
   "source": [
    "# **Анализ данных**"
   ]
  },
  {
   "cell_type": "code",
   "execution_count": 4,
   "metadata": {},
   "outputs": [],
   "source": [
    "import seaborn as sns"
   ]
  },
  {
   "cell_type": "code",
   "execution_count": 5,
   "metadata": {},
   "outputs": [
    {
     "data": {
      "text/plain": [
       "<matplotlib.axes._subplots.AxesSubplot at 0x8720c88>"
      ]
     },
     "execution_count": 5,
     "metadata": {},
     "output_type": "execute_result"
    },
    {
     "data": {
      "image/png": "[encoded data removed]",
      "text/plain": [
       "<Figure size 432x288 with 2 Axes>"
      ]
     },
     "metadata": {
      "needs_background": "light"
     },
     "output_type": "display_data"
    }
   ],
   "source": [
    "sns.heatmap(data.iloc[:, 1:].corr(), cbar=True, annot=True, cmap=\"Blues\")"
   ]
  },
  {
   "cell_type": "code",
   "execution_count": 6,
   "metadata": {},
   "outputs": [
    {
     "data": {
      "text/html": [
       "<div>\n",
       "<style scoped>\n",
       "    .dataframe tbody tr th:only-of-type {\n",
       "        vertical-align: middle;\n",
       "    }\n",
       "\n",
       "    .dataframe tbody tr th {\n",
       "        vertical-align: top;\n",
       "    }\n",
       "\n",
       "    .dataframe thead th {\n",
       "        text-align: right;\n",
       "    }\n",
       "</style>\n",
       "<table border=\"1\" class=\"dataframe\">\n",
       "  <thead>\n",
       "    <tr style=\"text-align: right;\">\n",
       "      <th></th>\n",
       "      <th>year</th>\n",
       "      <th>population</th>\n",
       "      <th>town</th>\n",
       "      <th>country</th>\n",
       "      <th>town%</th>\n",
       "      <th>country%</th>\n",
       "    </tr>\n",
       "  </thead>\n",
       "  <tbody>\n",
       "    <tr>\n",
       "      <th>count</th>\n",
       "      <td>42.000000</td>\n",
       "      <td>42.000000</td>\n",
       "      <td>42.000000</td>\n",
       "      <td>42.000000</td>\n",
       "      <td>42.000000</td>\n",
       "      <td>42.000000</td>\n",
       "    </tr>\n",
       "    <tr>\n",
       "      <th>mean</th>\n",
       "      <td>1994.214286</td>\n",
       "      <td>141.576190</td>\n",
       "      <td>101.150000</td>\n",
       "      <td>40.426190</td>\n",
       "      <td>71.333333</td>\n",
       "      <td>28.666667</td>\n",
       "    </tr>\n",
       "    <tr>\n",
       "      <th>std</th>\n",
       "      <td>15.873795</td>\n",
       "      <td>5.293982</td>\n",
       "      <td>8.424999</td>\n",
       "      <td>3.318688</td>\n",
       "      <td>3.404922</td>\n",
       "      <td>3.404922</td>\n",
       "    </tr>\n",
       "    <tr>\n",
       "      <th>min</th>\n",
       "      <td>1970.000000</td>\n",
       "      <td>129.900000</td>\n",
       "      <td>80.600000</td>\n",
       "      <td>37.100000</td>\n",
       "      <td>62.000000</td>\n",
       "      <td>25.000000</td>\n",
       "    </tr>\n",
       "    <tr>\n",
       "      <th>25%</th>\n",
       "      <td>1980.250000</td>\n",
       "      <td>138.275000</td>\n",
       "      <td>96.400000</td>\n",
       "      <td>37.925000</td>\n",
       "      <td>70.000000</td>\n",
       "      <td>26.000000</td>\n",
       "    </tr>\n",
       "    <tr>\n",
       "      <th>50%</th>\n",
       "      <td>1990.500000</td>\n",
       "      <td>142.950000</td>\n",
       "      <td>105.050000</td>\n",
       "      <td>39.100000</td>\n",
       "      <td>73.000000</td>\n",
       "      <td>27.000000</td>\n",
       "    </tr>\n",
       "    <tr>\n",
       "      <th>75%</th>\n",
       "      <td>2008.750000</td>\n",
       "      <td>145.800000</td>\n",
       "      <td>106.675000</td>\n",
       "      <td>41.875000</td>\n",
       "      <td>74.000000</td>\n",
       "      <td>30.000000</td>\n",
       "    </tr>\n",
       "    <tr>\n",
       "      <th>max</th>\n",
       "      <td>2019.000000</td>\n",
       "      <td>148.300000</td>\n",
       "      <td>109.500000</td>\n",
       "      <td>49.300000</td>\n",
       "      <td>75.000000</td>\n",
       "      <td>38.000000</td>\n",
       "    </tr>\n",
       "  </tbody>\n",
       "</table>\n",
       "</div>"
      ],
      "text/plain": [
       "              year  population        town    country      town%   country%\n",
       "count    42.000000   42.000000   42.000000  42.000000  42.000000  42.000000\n",
       "mean   1994.214286  141.576190  101.150000  40.426190  71.333333  28.666667\n",
       "std      15.873795    5.293982    8.424999   3.318688   3.404922   3.404922\n",
       "min    1970.000000  129.900000   80.600000  37.100000  62.000000  25.000000\n",
       "25%    1980.250000  138.275000   96.400000  37.925000  70.000000  26.000000\n",
       "50%    1990.500000  142.950000  105.050000  39.100000  73.000000  27.000000\n",
       "75%    2008.750000  145.800000  106.675000  41.875000  74.000000  30.000000\n",
       "max    2019.000000  148.300000  109.500000  49.300000  75.000000  38.000000"
      ]
     },
     "execution_count": 6,
     "metadata": {},
     "output_type": "execute_result"
    }
   ],
   "source": [
    "data.describe()"
   ]
  },
  {
   "cell_type": "code",
   "execution_count": 7,
   "metadata": {},
   "outputs": [
    {
     "data": {
      "text/plain": [
       "<matplotlib.axes._subplots.AxesSubplot at 0xbbbfc88>"
      ]
     },
     "execution_count": 7,
     "metadata": {},
     "output_type": "execute_result"
    },
    {
     "data": {
      "image/png": "[encoded data removed]",
      "text/plain": [
       "<Figure size 432x288 with 1 Axes>"
      ]
     },
     "metadata": {
      "needs_background": "light"
     },
     "output_type": "display_data"
    }
   ],
   "source": [
    "data.iloc[:, 1].hist(grid=True)"
   ]
  },
  {
   "cell_type": "code",
   "execution_count": 8,
   "metadata": {},
   "outputs": [],
   "source": [
    "data['country'] = -data['country']\n",
    "data['country%'] = -data['country%']"
   ]
  },
  {
   "cell_type": "code",
   "execution_count": 9,
   "metadata": {},
   "outputs": [
    {
     "data": {
      "text/plain": [
       "146.3    2\n",
       "142.9    2\n",
       "146.8    2\n",
       "148.3    2\n",
       "142.8    2\n",
       "Name: population, dtype: int64"
      ]
     },
     "execution_count": 9,
     "metadata": {},
     "output_type": "execute_result"
    }
   ],
   "source": [
    "data.iloc[:, 1].value_counts().head()"
   ]
  },
  {
   "cell_type": "code",
   "execution_count": 10,
   "metadata": {},
   "outputs": [],
   "source": [
    "# data_X = np.array(data['town']).reshape(-1, 1)\n",
    "# data_y = np.array(data['population']).reshape(-1, 1)\n",
    "\n",
    "data_X = data.iloc[:, 2:]\n",
    "data_y = np.array(data['population'])"
   ]
  },
  {
   "cell_type": "markdown",
   "metadata": {},
   "source": [
    "# **Генерация выборки**"
   ]
  },
  {
   "cell_type": "code",
   "execution_count": 11,
   "metadata": {},
   "outputs": [],
   "source": [
    "def gen_sample(data_x, data_y, period: int = 10, future: int = 5):\n",
    "    \n",
    "    start = period\n",
    "    end = len(data_x) - future\n",
    "    \n",
    "    out_X = []\n",
    "    out_Y = []\n",
    "    \n",
    "    new_df = []\n",
    "    for i in tqdm(range(start, end)):\n",
    "        var_x = list(data_x.iloc[i, :].values)\n",
    "        var_y = data_y[i + future]\n",
    "        \n",
    "        past_future = var_x + [var_y]\n",
    "        \n",
    "        new_df.append(past_future)\n",
    "\n",
    "        out_X.append(var_x)\n",
    "        out_Y.append(var_y)\n",
    "        \n",
    "    return np.array(out_X), np.array(out_Y), new_df"
   ]
  },
  {
   "cell_type": "code",
   "execution_count": 12,
   "metadata": {},
   "outputs": [
    {
     "name": "stderr",
     "output_type": "stream",
     "text": [
      "100%|████████████████████████████████████████| 38/38 [00:00<00:00, 2533.19it/s]"
     ]
    },
    {
     "name": "stdout",
     "output_type": "stream",
     "text": [
      "(38, 4) (38,) 5\n"
     ]
    },
    {
     "name": "stderr",
     "output_type": "stream",
     "text": [
      "\n"
     ]
    }
   ],
   "source": [
    "past_data = 1\n",
    "future_data = 3\n",
    "\n",
    "X, y, new_df = gen_sample(data_X, data_y, past_data, future_data)\n",
    "print(X.shape, y.shape, len(new_df[0]))"
   ]
  },
  {
   "cell_type": "code",
   "execution_count": 13,
   "metadata": {},
   "outputs": [],
   "source": [
    "past_columns = []\n",
    "for i in range(len(X[0])):\n",
    "    past_columns.append(f'past_{i}')\n",
    "\n",
    "future_columns = ['future_1']"
   ]
  },
  {
   "cell_type": "code",
   "execution_count": 14,
   "metadata": {},
   "outputs": [],
   "source": [
    "transformed_df = pd.DataFrame(new_df, columns=(past_columns + future_columns))"
   ]
  },
  {
   "cell_type": "code",
   "execution_count": 15,
   "metadata": {},
   "outputs": [
    {
     "data": {
      "text/html": [
       "<div>\n",
       "<style scoped>\n",
       "    .dataframe tbody tr th:only-of-type {\n",
       "        vertical-align: middle;\n",
       "    }\n",
       "\n",
       "    .dataframe tbody tr th {\n",
       "        vertical-align: top;\n",
       "    }\n",
       "\n",
       "    .dataframe thead th {\n",
       "        text-align: right;\n",
       "    }\n",
       "</style>\n",
       "<table border=\"1\" class=\"dataframe\">\n",
       "  <thead>\n",
       "    <tr style=\"text-align: right;\">\n",
       "      <th></th>\n",
       "      <th>past_0</th>\n",
       "      <th>past_1</th>\n",
       "      <th>past_2</th>\n",
       "      <th>past_3</th>\n",
       "    </tr>\n",
       "  </thead>\n",
       "  <tbody>\n",
       "    <tr>\n",
       "      <th>0</th>\n",
       "      <td>82.0</td>\n",
       "      <td>-48.6</td>\n",
       "      <td>63.0</td>\n",
       "      <td>-37.0</td>\n",
       "    </tr>\n",
       "    <tr>\n",
       "      <th>1</th>\n",
       "      <td>83.6</td>\n",
       "      <td>-47.7</td>\n",
       "      <td>64.0</td>\n",
       "      <td>-36.0</td>\n",
       "    </tr>\n",
       "    <tr>\n",
       "      <th>2</th>\n",
       "      <td>85.4</td>\n",
       "      <td>-46.7</td>\n",
       "      <td>65.0</td>\n",
       "      <td>-35.0</td>\n",
       "    </tr>\n",
       "    <tr>\n",
       "      <th>3</th>\n",
       "      <td>87.1</td>\n",
       "      <td>-45.7</td>\n",
       "      <td>66.0</td>\n",
       "      <td>-34.0</td>\n",
       "    </tr>\n",
       "    <tr>\n",
       "      <th>4</th>\n",
       "      <td>88.9</td>\n",
       "      <td>-44.7</td>\n",
       "      <td>67.0</td>\n",
       "      <td>-33.0</td>\n",
       "    </tr>\n",
       "  </tbody>\n",
       "</table>\n",
       "</div>"
      ],
      "text/plain": [
       "   past_0  past_1  past_2  past_3\n",
       "0    82.0   -48.6    63.0   -37.0\n",
       "1    83.6   -47.7    64.0   -36.0\n",
       "2    85.4   -46.7    65.0   -35.0\n",
       "3    87.1   -45.7    66.0   -34.0\n",
       "4    88.9   -44.7    67.0   -33.0"
      ]
     },
     "execution_count": 15,
     "metadata": {},
     "output_type": "execute_result"
    }
   ],
   "source": [
    "transformed_df[past_columns].head()"
   ]
  },
  {
   "cell_type": "code",
   "execution_count": 16,
   "metadata": {},
   "outputs": [
    {
     "data": {
      "text/html": [
       "<div>\n",
       "<style scoped>\n",
       "    .dataframe tbody tr th:only-of-type {\n",
       "        vertical-align: middle;\n",
       "    }\n",
       "\n",
       "    .dataframe tbody tr th {\n",
       "        vertical-align: top;\n",
       "    }\n",
       "\n",
       "    .dataframe thead th {\n",
       "        text-align: right;\n",
       "    }\n",
       "</style>\n",
       "<table border=\"1\" class=\"dataframe\">\n",
       "  <thead>\n",
       "    <tr style=\"text-align: right;\">\n",
       "      <th></th>\n",
       "      <th>future_1</th>\n",
       "    </tr>\n",
       "  </thead>\n",
       "  <tbody>\n",
       "    <tr>\n",
       "      <th>0</th>\n",
       "      <td>132.8</td>\n",
       "    </tr>\n",
       "    <tr>\n",
       "      <th>1</th>\n",
       "      <td>133.6</td>\n",
       "    </tr>\n",
       "    <tr>\n",
       "      <th>2</th>\n",
       "      <td>134.5</td>\n",
       "    </tr>\n",
       "    <tr>\n",
       "      <th>3</th>\n",
       "      <td>135.5</td>\n",
       "    </tr>\n",
       "    <tr>\n",
       "      <th>4</th>\n",
       "      <td>136.5</td>\n",
       "    </tr>\n",
       "  </tbody>\n",
       "</table>\n",
       "</div>"
      ],
      "text/plain": [
       "   future_1\n",
       "0     132.8\n",
       "1     133.6\n",
       "2     134.5\n",
       "3     135.5\n",
       "4     136.5"
      ]
     },
     "execution_count": 16,
     "metadata": {},
     "output_type": "execute_result"
    }
   ],
   "source": [
    "transformed_df[future_columns].head()"
   ]
  },
  {
   "cell_type": "markdown",
   "metadata": {},
   "source": [
    "# **Препроцессинг**"
   ]
  },
  {
   "cell_type": "code",
   "execution_count": 17,
   "metadata": {},
   "outputs": [],
   "source": [
    "from sklearn.preprocessing import Normalizer"
   ]
  },
  {
   "cell_type": "code",
   "execution_count": 18,
   "metadata": {},
   "outputs": [],
   "source": [
    "# transformer = Normalizer(norm='l2')\n",
    "# transformer.fit(X)\n",
    "# transf_X = np.array(transformer.transform(X))\n",
    "\n",
    "transf_X = X"
   ]
  },
  {
   "cell_type": "markdown",
   "metadata": {},
   "source": [
    "# **Разбиение на обучающую, валидационную и тестовую выборки**"
   ]
  },
  {
   "cell_type": "code",
   "execution_count": 19,
   "metadata": {},
   "outputs": [],
   "source": [
    "test_size = 12"
   ]
  },
  {
   "cell_type": "code",
   "execution_count": 20,
   "metadata": {},
   "outputs": [],
   "source": [
    "X_train, X_test, y_train, y_test = transf_X[:-test_size], transf_X[-test_size:], y[:-test_size], y[-test_size:]\n",
    "\n",
    "hyperopt_X = X_train\n",
    "hyperopt_y = y_train\n",
    "\n",
    "X_train, X_valid, y_train, y_valid = X_train[:-test_size], X_train[-test_size:], y_train[:-test_size], y_train[-test_size:]"
   ]
  },
  {
   "cell_type": "code",
   "execution_count": 21,
   "metadata": {},
   "outputs": [
    {
     "data": {
      "text/plain": [
       "array([142.8, 142.7, 142.9, 142.9, 143. , 143.3, 143.7, 146.3, 146.5,\n",
       "       146.8, 146.9, 146.8])"
      ]
     },
     "execution_count": 21,
     "metadata": {},
     "output_type": "execute_result"
    }
   ],
   "source": [
    "y_test"
   ]
  },
  {
   "cell_type": "code",
   "execution_count": 22,
   "metadata": {},
   "outputs": [
    {
     "data": {
      "text/plain": [
       "array([[102.4, -40.1,  72. , -28. ],\n",
       "       [103.7, -39.9,  72. , -28. ],\n",
       "       [105.2, -39.6,  73. , -27. ],\n",
       "       [106.7, -39.3,  73. , -27. ],\n",
       "       [108. , -39. ,  73. , -27. ],\n",
       "       [108.8, -38.9,  74. , -26. ],\n",
       "       [109.4, -38.9,  74. , -26. ],\n",
       "       [108.3, -40. ,  73. , -27. ],\n",
       "       [107.1, -39.2,  73. , -27. ],\n",
       "       [106.4, -38.8,  73. , -27. ],\n",
       "       [106.3, -38.7,  73. , -27. ],\n",
       "       [106. , -38.3,  73. , -27. ]])"
      ]
     },
     "execution_count": 22,
     "metadata": {},
     "output_type": "execute_result"
    }
   ],
   "source": [
    "X_valid"
   ]
  },
  {
   "cell_type": "markdown",
   "metadata": {},
   "source": [
    "# **Регрессионные модели и настройка гиперпараметров**"
   ]
  },
  {
   "cell_type": "code",
   "execution_count": 23,
   "metadata": {},
   "outputs": [],
   "source": [
    "from sklearn.model_selection import RandomizedSearchCV\n",
    "from sklearn.model_selection import GridSearchCV\n",
    "\n",
    "from sklearn.metrics import mean_absolute_error\n",
    "from sklearn.metrics import median_absolute_error\n",
    "from sklearn.metrics import explained_variance_score\n",
    "from sklearn.metrics import max_error\n",
    "\n",
    "from sklearn.linear_model import LogisticRegression\n",
    "from xgboost import XGBRegressor\n",
    "from sklearn.linear_model import PassiveAggressiveRegressor\n",
    "from sklearn.linear_model import LinearRegression\n",
    "from sklearn.neural_network import MLPRegressor\n",
    "from sklearn.linear_model import SGDRegressor\n",
    "from sklearn.linear_model import ARDRegression\n",
    "\n",
    "from sklearn.ensemble import RandomForestRegressor\n",
    "from sklearn.ensemble import BaggingRegressor\n",
    "from sklearn.ensemble import AdaBoostRegressor"
   ]
  },
  {
   "cell_type": "code",
   "execution_count": 24,
   "metadata": {},
   "outputs": [],
   "source": [
    "def normalize_error(prediction, y_test):     \n",
    "    mae = mean_absolute_error(y_test, prediction)\n",
    "    median_ae = median_absolute_error(y_test, prediction)\n",
    "    max_err = max_error(y_test, prediction)\n",
    "    \n",
    "    std_error = explained_variance_score(y_test, prediction)\n",
    "    error_sum = mae + median_ae + max_err\n",
    "    error_sum -= std_error * error_sum\n",
    "\n",
    "    return mae, median_ae, max_err, error_sum"
   ]
  },
  {
   "cell_type": "code",
   "execution_count": 25,
   "metadata": {},
   "outputs": [
    {
     "name": "stdout",
     "output_type": "stream",
     "text": [
      "Fitting 3 folds for each of 10 candidates, totalling 30 fits\n"
     ]
    },
    {
     "name": "stderr",
     "output_type": "stream",
     "text": [
      "[Parallel(n_jobs=-1)]: Using backend LokyBackend with 4 concurrent workers.\n"
     ]
    },
    {
     "name": "stdout",
     "output_type": "stream",
     "text": [
      "\n",
      "best:  -0.9736715419048997\n"
     ]
    },
    {
     "name": "stderr",
     "output_type": "stream",
     "text": [
      "[Parallel(n_jobs=-1)]: Done  30 out of  30 | elapsed:    2.8s finished\n"
     ]
    }
   ],
   "source": [
    "var_model = MLPRegressor(random_state=seed, shuffle=False)\n",
    " \n",
    "simple_space = {\n",
    "            'hidden_layer_sizes': np.arange(90, 200, dtype=int),\n",
    "            'tol': uniform(0.00001, 0.001),\n",
    "            'learning_rate_init': uniform(0.0001, 0.01),\n",
    "            'alpha': uniform(0.000001, 0.001),\n",
    "            'activation': ['identity', 'logistic', 'tanh', 'relu'],\n",
    "            'solver': ['adam'],\n",
    "#             'solver': ['lbfgs', 'adam'],\n",
    "            'learning_rate': ['adaptive', 'invscaling', 'constant'],\n",
    "}\n",
    "\n",
    "# verbose = 2 (print each epoch)\n",
    "best = RandomizedSearchCV(var_model, simple_space, cv=3, n_iter=10, n_jobs=-1,\n",
    "                          random_state=seed, verbose=1)\n",
    "best.fit(hyperopt_X, hyperopt_y)\n",
    "print(\"\\nbest: \", best.best_score_)"
   ]
  },
  {
   "cell_type": "code",
   "execution_count": 26,
   "metadata": {},
   "outputs": [],
   "source": [
    "reg1 = best.best_estimator_\n",
    "reg1.fit(X_train, y_train)\n",
    "prediction1 = reg1.predict(X_valid)"
   ]
  },
  {
   "cell_type": "code",
   "execution_count": 27,
   "metadata": {},
   "outputs": [
    {
     "data": {
      "image/png": "[encoded data removed]",
      "text/plain": [
       "<Figure size 432x288 with 1 Axes>"
      ]
     },
     "metadata": {
      "needs_background": "light"
     },
     "output_type": "display_data"
    }
   ],
   "source": [
    "lst_days=[i for i in range(len(prediction1))]\n",
    "plt.plot(prediction1, label='Prediction')\n",
    "plt.plot(y_valid)\n",
    "plt.legend()\n",
    "plt.grid()"
   ]
  },
  {
   "cell_type": "code",
   "execution_count": 28,
   "metadata": {},
   "outputs": [
    {
     "name": "stdout",
     "output_type": "stream",
     "text": [
      "-2.123977722987771 2.682828951086208 3.553008878141071 4.764946316901785\n"
     ]
    }
   ],
   "source": [
    "reg1_score = reg1.score(X_valid, y_valid)\n",
    "reg1_mae, reg1_median_ae, reg1_max_error, reg1_error_sum = normalize_error(prediction1, y_valid)\n",
    "print(reg1_score, reg1_mae, reg1_median_ae, reg1_max_error)\n",
    "\n",
    "prediction1 = np.array(reg1.predict(X_test))"
   ]
  },
  {
   "cell_type": "code",
   "execution_count": 29,
   "metadata": {},
   "outputs": [
    {
     "name": "stdout",
     "output_type": "stream",
     "text": [
      "Fitting 3 folds for each of 10 candidates, totalling 30 fits\n"
     ]
    },
    {
     "name": "stderr",
     "output_type": "stream",
     "text": [
      "[Parallel(n_jobs=-1)]: Using backend LokyBackend with 4 concurrent workers.\n"
     ]
    },
    {
     "name": "stdout",
     "output_type": "stream",
     "text": [
      "\n",
      "best:  0.6269019627976762\n"
     ]
    },
    {
     "name": "stderr",
     "output_type": "stream",
     "text": [
      "[Parallel(n_jobs=-1)]: Done  30 out of  30 | elapsed:    2.7s finished\n"
     ]
    }
   ],
   "source": [
    "var_model = XGBRegressor(n_jobs=-1, random_state=seed)\n",
    " \n",
    "simple_space = {\n",
    "#             'max_depth': np.arange(3, 15, dtype=int),\n",
    "            'n_estimators': np.arange(50, 300, dtype=int),\n",
    "            'learning_rate': uniform(0.01, 0.9),\n",
    "#             'loss': ['linear', 'square', 'exponential'],\n",
    "            'booster': ['gbtree', 'gblinear'],\n",
    "            'eval_metric': ['rmse', 'mae'],\n",
    "}\n",
    "\n",
    "scoring = ['explained_variance']\n",
    "\n",
    "best = RandomizedSearchCV(var_model, simple_space, scoring=scoring, cv=3, n_iter=10, n_jobs=-1,\n",
    "                          random_state=seed, verbose=1, refit='explained_variance')\n",
    "best.fit(hyperopt_X, hyperopt_y)\n",
    "print(\"\\nbest: \", best.best_score_)"
   ]
  },
  {
   "cell_type": "code",
   "execution_count": 30,
   "metadata": {},
   "outputs": [
    {
     "data": {
      "image/png": "[encoded data removed]",
      "text/plain": [
       "<Figure size 432x288 with 1 Axes>"
      ]
     },
     "metadata": {
      "needs_background": "light"
     },
     "output_type": "display_data"
    }
   ],
   "source": [
    "best_model_XGBRegressor = best.best_estimator_\n",
    "best_model_XGBRegressor.fit(X_train, y_train)\n",
    "prediction_xgb = best_model_XGBRegressor.predict(X_valid)\n",
    "plt.plot(prediction_xgb, label='Prediction')\n",
    "plt.plot(y_valid)\n",
    "plt.legend()\n",
    "plt.grid()"
   ]
  },
  {
   "cell_type": "code",
   "execution_count": 31,
   "metadata": {},
   "outputs": [
    {
     "name": "stdout",
     "output_type": "stream",
     "text": [
      "-0.44344739069075856 (2.124944305419921, 2.0614852905273438, 3.3957092285156136, 10.402500653128008)\n"
     ]
    }
   ],
   "source": [
    "xgb_score = best_model_XGBRegressor.score(X_valid, y_valid)\n",
    "print(xgb_score, normalize_error(prediction_xgb, y_valid))"
   ]
  },
  {
   "cell_type": "code",
   "execution_count": 32,
   "metadata": {},
   "outputs": [
    {
     "name": "stdout",
     "output_type": "stream",
     "text": [
      "Fitting 3 folds for each of 10 candidates, totalling 30 fits\n"
     ]
    },
    {
     "name": "stderr",
     "output_type": "stream",
     "text": [
      "[Parallel(n_jobs=-1)]: Using backend LokyBackend with 4 concurrent workers.\n",
      "[Parallel(n_jobs=-1)]: Done  30 out of  30 | elapsed:    2.9s finished\n"
     ]
    },
    {
     "name": "stdout",
     "output_type": "stream",
     "text": [
      "\n",
      "best:  0.5974208994424568\n"
     ]
    },
    {
     "name": "stderr",
     "output_type": "stream",
     "text": [
      "C:\\ProgramData\\Anaconda3\\lib\\site-packages\\sklearn\\ensemble\\_bagging.py:1056: UserWarning: Some inputs do not have OOB scores. This probably means too few estimators were used to compute any reliable oob estimates.\n",
      "  warn(\"Some inputs do not have OOB scores. \"\n"
     ]
    }
   ],
   "source": [
    "var_model = BaggingRegressor(base_estimator=best_model_XGBRegressor, random_state=seed, n_jobs=-1)\n",
    " \n",
    "simple_space = {\n",
    "            'n_estimators': np.arange(3, 23, dtype=int),\n",
    "            'oob_score': [True, False],\n",
    "            'bootstrap_features': [True, False],\n",
    "            'bootstrap': [True, False],\n",
    "}\n",
    "\n",
    "# scoring = ['max_error']\n",
    "scoring = ['explained_variance']\n",
    "\n",
    "# verbose = 2 (print each epoch)\n",
    "best = RandomizedSearchCV(var_model, simple_space, scoring=scoring, cv=3, n_iter=10, n_jobs=-1,\n",
    "                          random_state=seed, verbose=1, refit='explained_variance')\n",
    "best.fit(hyperopt_X, hyperopt_y)\n",
    "print(\"\\nbest: \", best.best_score_)"
   ]
  },
  {
   "cell_type": "code",
   "execution_count": 33,
   "metadata": {},
   "outputs": [
    {
     "name": "stderr",
     "output_type": "stream",
     "text": [
      "C:\\ProgramData\\Anaconda3\\lib\\site-packages\\sklearn\\ensemble\\_bagging.py:1056: UserWarning: Some inputs do not have OOB scores. This probably means too few estimators were used to compute any reliable oob estimates.\n",
      "  warn(\"Some inputs do not have OOB scores. \"\n"
     ]
    },
    {
     "data": {
      "image/png": "[encoded data removed]",
      "text/plain": [
       "<Figure size 432x288 with 1 Axes>"
      ]
     },
     "metadata": {
      "needs_background": "light"
     },
     "output_type": "display_data"
    }
   ],
   "source": [
    "reg2 = best.best_estimator_\n",
    "reg2 = reg2.fit(X_train, y_train)\n",
    "prediction2 = reg2.predict(X_valid)\n",
    "plt.plot(prediction2, label='Prediction')\n",
    "plt.plot(y_valid)\n",
    "plt.legend()\n",
    "plt.grid()"
   ]
  },
  {
   "cell_type": "code",
   "execution_count": 34,
   "metadata": {},
   "outputs": [
    {
     "name": "stdout",
     "output_type": "stream",
     "text": [
      "-0.3895053146576517 2.094079589843749 2.14251708984375 3.073825073242176\n"
     ]
    }
   ],
   "source": [
    "reg2_score = reg2.score(X_valid, y_valid)\n",
    "reg2_mae, reg2_median_ae, reg2_max_error, reg2_error_sum = normalize_error(prediction2, y_valid)\n",
    "print(reg2_score, reg2_mae, reg2_median_ae, reg2_max_error)\n",
    "\n",
    "prediction2 = reg2.predict(X_test)"
   ]
  },
  {
   "cell_type": "code",
   "execution_count": 35,
   "metadata": {},
   "outputs": [
    {
     "name": "stdout",
     "output_type": "stream",
     "text": [
      "Fitting 3 folds for each of 54 candidates, totalling 162 fits\n"
     ]
    },
    {
     "name": "stderr",
     "output_type": "stream",
     "text": [
      "[Parallel(n_jobs=-1)]: Using backend LokyBackend with 4 concurrent workers.\n",
      "[Parallel(n_jobs=-1)]: Done  42 tasks      | elapsed:    7.8s\n",
      "[Parallel(n_jobs=-1)]: Done 162 out of 162 | elapsed:   28.1s finished\n"
     ]
    },
    {
     "data": {
      "text/plain": [
       "GridSearchCV(cv=3, error_score=nan,\n",
       "             estimator=RandomForestRegressor(bootstrap=True, ccp_alpha=0.0,\n",
       "                                             criterion='mse', max_depth=None,\n",
       "                                             max_features='auto',\n",
       "                                             max_leaf_nodes=None,\n",
       "                                             max_samples=None,\n",
       "                                             min_impurity_decrease=0.0,\n",
       "                                             min_impurity_split=None,\n",
       "                                             min_samples_leaf=1,\n",
       "                                             min_samples_split=2,\n",
       "                                             min_weight_fraction_leaf=0.0,\n",
       "                                             n_estimators=100, n_jobs=-1,\n",
       "                                             oob_score=False, random_state=1,\n",
       "                                             verbose=0, warm_start=False),\n",
       "             iid='deprecated', n_jobs=-1,\n",
       "             param_grid={'criterion': ['mse', 'mae'], 'max_depth': [3, 5, 10],\n",
       "                         'max_features': ['auto', 'sqrt', 'log2'],\n",
       "                         'n_estimators': [70, 150, 200]},\n",
       "             pre_dispatch='2*n_jobs', refit=True, return_train_score=False,\n",
       "             scoring='neg_mean_absolute_error', verbose=1)"
      ]
     },
     "execution_count": 35,
     "metadata": {},
     "output_type": "execute_result"
    }
   ],
   "source": [
    "var_model = RandomForestRegressor(n_jobs=-1, random_state=seed)\n",
    "\n",
    "params = {\n",
    "            'n_estimators':  [70, 150, 200],\n",
    "            'max_depth': [3, 5, 10],\n",
    "            'criterion': ['mse', 'mae'],\n",
    "            'max_features': ['auto', 'sqrt', 'log2'],\n",
    "}\n",
    "\n",
    "best = GridSearchCV(var_model, params, scoring='neg_mean_absolute_error', cv=3, n_jobs=-1, verbose=1)\n",
    "best.fit(hyperopt_X, hyperopt_y)"
   ]
  },
  {
   "cell_type": "code",
   "execution_count": 36,
   "metadata": {},
   "outputs": [
    {
     "data": {
      "image/png": "[encoded data removed]",
      "text/plain": [
       "<Figure size 432x288 with 1 Axes>"
      ]
     },
     "metadata": {
      "needs_background": "light"
     },
     "output_type": "display_data"
    }
   ],
   "source": [
    "reg3 = best.best_estimator_\n",
    "reg3 = reg3.fit(X_test, y_test)\n",
    "prediction3 = np.array(reg3.predict(X_valid))\n",
    "plt.plot(prediction3, label='Prediction')\n",
    "plt.plot(y_valid)\n",
    "plt.legend()\n",
    "plt.grid()"
   ]
  },
  {
   "cell_type": "code",
   "execution_count": 37,
   "metadata": {},
   "outputs": [
    {
     "name": "stdout",
     "output_type": "stream",
     "text": [
      "-1.2717847351959137 2.501306944444449 2.3397916666667697 4.827983333333407\n"
     ]
    }
   ],
   "source": [
    "reg3_score = reg3.score(X_valid, y_valid)\n",
    "reg3_mae, reg3_median_ae, reg3_max_error, reg3_error_sum = normalize_error(prediction3, y_valid)\n",
    "print(reg3_score, reg3_mae, reg3_median_ae, reg3_max_error)\n",
    "\n",
    "prediction3 = np.array(reg3.predict(X_test))"
   ]
  },
  {
   "cell_type": "code",
   "execution_count": 38,
   "metadata": {},
   "outputs": [
    {
     "name": "stdout",
     "output_type": "stream",
     "text": [
      "Fitting 3 folds for each of 15 candidates, totalling 45 fits\n"
     ]
    },
    {
     "name": "stderr",
     "output_type": "stream",
     "text": [
      "[Parallel(n_jobs=-1)]: Using backend LokyBackend with 4 concurrent workers.\n"
     ]
    },
    {
     "name": "stdout",
     "output_type": "stream",
     "text": [
      "\n",
      "best:  0.6959633088835692\n"
     ]
    },
    {
     "name": "stderr",
     "output_type": "stream",
     "text": [
      "[Parallel(n_jobs=-1)]: Done  45 out of  45 | elapsed:    0.2s finished\n"
     ]
    }
   ],
   "source": [
    "var_model = ARDRegression()\n",
    " \n",
    "simple_space = {\n",
    "            'n_iter': np.arange(300, 1700, dtype=int),\n",
    "            'tol': uniform(0.0001, 0.01),\n",
    "            'normalize': [True, False],\n",
    "}\n",
    "\n",
    "# scoring = ['neg_mean_absolute_error']\n",
    "scoring = ['explained_variance']\n",
    "\n",
    "# verbose = 2 (print each epoch)\n",
    "best = RandomizedSearchCV(var_model, simple_space, scoring=scoring, cv=3, n_iter=15, n_jobs=-1,\n",
    "                          random_state=seed, verbose=1, refit='explained_variance')\n",
    "best.fit(hyperopt_X, hyperopt_y)\n",
    "print(\"\\nbest: \", best.best_score_)"
   ]
  },
  {
   "cell_type": "code",
   "execution_count": 39,
   "metadata": {},
   "outputs": [
    {
     "data": {
      "image/png": "[encoded data removed]",
      "text/plain": [
       "<Figure size 432x288 with 1 Axes>"
      ]
     },
     "metadata": {
      "needs_background": "light"
     },
     "output_type": "display_data"
    }
   ],
   "source": [
    "best_model = best.best_estimator_\n",
    "best_model.fit(X_train, y_train)\n",
    "model_prediction = best_model.predict(X_valid)\n",
    "lst_days=[i for i in range(len(model_prediction))]\n",
    "plt.plot(lst_days, model_prediction, label='Prediction')\n",
    "plt.plot(lst_days, y_valid)\n",
    "plt.legend()\n",
    "plt.grid()"
   ]
  },
  {
   "cell_type": "code",
   "execution_count": 40,
   "metadata": {},
   "outputs": [
    {
     "name": "stdout",
     "output_type": "stream",
     "text": [
      "Fitting 3 folds for each of 10 candidates, totalling 30 fits\n"
     ]
    },
    {
     "name": "stderr",
     "output_type": "stream",
     "text": [
      "[Parallel(n_jobs=-1)]: Using backend LokyBackend with 4 concurrent workers.\n",
      "[Parallel(n_jobs=-1)]: Done  23 out of  30 | elapsed:    2.1s remaining:    0.6s\n"
     ]
    },
    {
     "name": "stdout",
     "output_type": "stream",
     "text": [
      "\n",
      "best:  0.7468370496996246\n"
     ]
    },
    {
     "name": "stderr",
     "output_type": "stream",
     "text": [
      "[Parallel(n_jobs=-1)]: Done  30 out of  30 | elapsed:    2.8s finished\n"
     ]
    }
   ],
   "source": [
    "var_model = AdaBoostRegressor(base_estimator=best_model, random_state=seed)\n",
    " \n",
    "simple_space = {\n",
    "            'n_estimators': np.arange(3, 80, dtype=int),\n",
    "            'learning_rate': uniform(0.001, 1.2),\n",
    "            'loss': ['linear', 'square', 'exponential'],\n",
    "}\n",
    "\n",
    "scoring = ['explained_variance']\n",
    "\n",
    "# verbose = 2 (print each epoch)\n",
    "best = RandomizedSearchCV(var_model, simple_space, scoring=scoring, cv=3, n_iter=10, n_jobs=-1,\n",
    "                          random_state=seed, verbose=1, refit='explained_variance')\n",
    "best.fit(hyperopt_X, hyperopt_y)\n",
    "print(\"\\nbest: \", best.best_score_)"
   ]
  },
  {
   "cell_type": "code",
   "execution_count": 41,
   "metadata": {},
   "outputs": [
    {
     "data": {
      "image/png": "[encoded data removed]",
      "text/plain": [
       "<Figure size 432x288 with 1 Axes>"
      ]
     },
     "metadata": {
      "needs_background": "light"
     },
     "output_type": "display_data"
    }
   ],
   "source": [
    "reg4 = best.best_estimator_\n",
    "reg4 = reg4.fit(X_train, y_train)\n",
    "prediction4 = np.array(reg4.predict(X_valid))\n",
    "plt.plot(prediction4, label='Prediction')\n",
    "plt.plot(y_valid)\n",
    "plt.legend()\n",
    "plt.grid()"
   ]
  },
  {
   "cell_type": "code",
   "execution_count": 42,
   "metadata": {},
   "outputs": [
    {
     "name": "stdout",
     "output_type": "stream",
     "text": [
      "-3.6684417644643417 3.2606509777282064 4.4138725016183145 6.189498396902934\n"
     ]
    }
   ],
   "source": [
    "reg4_score = reg4.score(X_valid, y_valid)\n",
    "reg4_mae, reg4_median_ae, reg4_max_error, reg4_error_sum = normalize_error(prediction4, y_valid)\n",
    "print(reg4_score, reg4_mae, reg4_median_ae, reg4_max_error)\n",
    "\n",
    "prediction2 = np.array(reg4.predict(X_test))"
   ]
  },
  {
   "cell_type": "code",
   "execution_count": 43,
   "metadata": {},
   "outputs": [
    {
     "name": "stdout",
     "output_type": "stream",
     "text": [
      "Fitting 3 folds for each of 25 candidates, totalling 75 fits\n"
     ]
    },
    {
     "name": "stderr",
     "output_type": "stream",
     "text": [
      "[Parallel(n_jobs=-1)]: Using backend LokyBackend with 4 concurrent workers.\n"
     ]
    },
    {
     "name": "stdout",
     "output_type": "stream",
     "text": [
      "\n",
      "best:  -4.4797564555349965\n"
     ]
    },
    {
     "name": "stderr",
     "output_type": "stream",
     "text": [
      "[Parallel(n_jobs=-1)]: Done  75 out of  75 | elapsed:   23.0s finished\n"
     ]
    }
   ],
   "source": [
    "var_model = SGDRegressor(shuffle=False, random_state=seed)\n",
    " \n",
    "simple_space = {\n",
    "            'max_iter': np.arange(5000, 10000, dtype=int),\n",
    "            'l1_ratio': uniform(1e-2, 0.9),\n",
    "            'tol': uniform(1e-4, 1e-2),\n",
    "            'eta0': uniform(0.001, 0.1),\n",
    "            'power_t': uniform(0.01, 0.3),\n",
    "            'validation_fraction': uniform(0, 1),\n",
    "            'learning_rate': ['constant', 'optimal', 'invscaling', 'adaptive'],\n",
    "            'penalty': ['l2', 'l1', 'elasticnet'],\n",
    "            'loss': ['squared_loss', 'epsilon_insensitive', 'huber', 'squared_epsilon_insensitive'],\n",
    "            'early_stopping': [True, False],\n",
    "}\n",
    "\n",
    "scoring = ['max_error']\n",
    "# scoring = ['explained_variance']\n",
    "\n",
    "# verbose = 2 (print each epoch)\n",
    "best = RandomizedSearchCV(var_model, simple_space, scoring=scoring, cv=3, n_iter=25, n_jobs=-1,\n",
    "                          random_state=seed, verbose=1, refit='max_error')\n",
    "best.fit(hyperopt_X, hyperopt_y)\n",
    "print(\"\\nbest: \", best.best_score_)"
   ]
  },
  {
   "cell_type": "code",
   "execution_count": 44,
   "metadata": {},
   "outputs": [],
   "source": [
    "sdgdregress = best.best_estimator_\n",
    "sdgdregress.fit(X_train, y_train)\n",
    "prediction_sdgdregress = sdgdregress.predict(X_valid)"
   ]
  },
  {
   "cell_type": "code",
   "execution_count": 45,
   "metadata": {},
   "outputs": [
    {
     "data": {
      "image/png": "[encoded data removed]",
      "text/plain": [
       "<Figure size 432x288 with 1 Axes>"
      ]
     },
     "metadata": {
      "needs_background": "light"
     },
     "output_type": "display_data"
    }
   ],
   "source": [
    "prediction_sdgdregress = np.array(prediction_sdgdregress)\n",
    "\n",
    "plt.plot(prediction_sdgdregress, label='Prediction')\n",
    "plt.plot(y_valid)\n",
    "plt.legend()\n",
    "plt.grid()"
   ]
  },
  {
   "cell_type": "code",
   "execution_count": 46,
   "metadata": {},
   "outputs": [
    {
     "name": "stdout",
     "output_type": "stream",
     "text": [
      "Fitting 3 folds for each of 13 candidates, totalling 39 fits\n"
     ]
    },
    {
     "name": "stderr",
     "output_type": "stream",
     "text": [
      "[Parallel(n_jobs=-1)]: Using backend LokyBackend with 4 concurrent workers.\n"
     ]
    },
    {
     "name": "stdout",
     "output_type": "stream",
     "text": [
      "\n",
      "best:  -3.046742851596567\n"
     ]
    },
    {
     "name": "stderr",
     "output_type": "stream",
     "text": [
      "[Parallel(n_jobs=-1)]: Done  39 out of  39 | elapsed:    2.1s finished\n"
     ]
    }
   ],
   "source": [
    "var_model = BaggingRegressor(base_estimator=sdgdregress, random_state=seed, n_jobs=-1)\n",
    " \n",
    "simple_space = {\n",
    "            'n_estimators': np.arange(3, 35, dtype=int),\n",
    "            'bootstrap_features': [True, False],\n",
    "            'oob_score': [True, False],\n",
    "            'bootstrap': [True, False],\n",
    "}\n",
    "\n",
    "scoring = ['max_error']\n",
    "# scoring = ['explained_variance']\n",
    "\n",
    "# verbose = 2 (print each epoch)\n",
    "best = RandomizedSearchCV(var_model, simple_space, scoring=scoring, cv=3, n_iter=13, n_jobs=-1,\n",
    "                          random_state=seed, verbose=1, refit='max_error')\n",
    "best.fit(hyperopt_X, hyperopt_y)\n",
    "print(\"\\nbest: \", best.best_score_)"
   ]
  },
  {
   "cell_type": "code",
   "execution_count": 47,
   "metadata": {},
   "outputs": [
    {
     "data": {
      "image/png": "[encoded data removed]",
      "text/plain": [
       "<Figure size 432x288 with 1 Axes>"
      ]
     },
     "metadata": {
      "needs_background": "light"
     },
     "output_type": "display_data"
    }
   ],
   "source": [
    "reg5 = best.best_estimator_\n",
    "reg5 = reg5.fit(X_train, y_train)\n",
    "prediction5 = np.array(reg5.predict(X_valid))\n",
    "plt.plot(prediction5, label='Prediction')\n",
    "plt.plot(y_valid)\n",
    "plt.legend()\n",
    "plt.grid()"
   ]
  },
  {
   "cell_type": "code",
   "execution_count": 48,
   "metadata": {},
   "outputs": [
    {
     "name": "stdout",
     "output_type": "stream",
     "text": [
      "-1.6284059109591404 2.21715968055152 1.279663876213391 4.783081335990801\n"
     ]
    }
   ],
   "source": [
    "reg5_score = reg5.score(X_valid, y_valid)\n",
    "reg5_mae, reg5_median_ae, reg5_max_error, reg5_error_sum = normalize_error(prediction5, y_valid)\n",
    "print(reg5_score, reg5_mae, reg5_median_ae, reg5_max_error)\n",
    "\n",
    "prediction7 = np.array(reg5.predict(X_test))"
   ]
  },
  {
   "cell_type": "markdown",
   "metadata": {},
   "source": [
    "# **Результат на тестовой выборке**"
   ]
  },
  {
   "cell_type": "code",
   "execution_count": 49,
   "metadata": {},
   "outputs": [
    {
     "data": {
      "image/png": "[encoded data removed]",
      "text/plain": [
       "<Figure size 432x288 with 1 Axes>"
      ]
     },
     "metadata": {
      "needs_background": "light"
     },
     "output_type": "display_data"
    }
   ],
   "source": [
    "prediction_and_max_error = {\n",
    "    reg1_error_sum: prediction1,\n",
    "    reg2_error_sum: prediction2,\n",
    "    reg3_error_sum: prediction3,\n",
    "    reg4_error_sum: prediction4,\n",
    "    reg5_error_sum: prediction5,\n",
    "}\n",
    "\n",
    "weights = len(prediction_and_max_error)\n",
    "sum_weights = sum([i for i in range(weights + 1)])\n",
    "\n",
    "combine_prediction = 0\n",
    "for k in sorted(prediction_and_max_error.keys()):\n",
    "    combine_prediction += prediction_and_max_error[k] * weights\n",
    "    weights -= 1\n",
    "    \n",
    "combine_prediction /= sum_weights\n",
    "\n",
    "plt.plot(combine_prediction, label='Prediction')\n",
    "plt.plot(y_test, label='Test')\n",
    "plt.legend()\n",
    "plt.grid()"
   ]
  },
  {
   "cell_type": "code",
   "execution_count": 50,
   "metadata": {},
   "outputs": [
    {
     "name": "stdout",
     "output_type": "stream",
     "text": [
      "1.347338906684224 1.6884103804477917 2.177544808151822 0.5239351691124834\n"
     ]
    }
   ],
   "source": [
    "combine_regr_mae = mean_absolute_error(y_test, combine_prediction)\n",
    "combine_regr_median_ae = median_absolute_error(y_test, combine_prediction)\n",
    "combine_regr_max_error = max_error(y_test, combine_prediction)\n",
    "regr_std = explained_variance_score(y_test, combine_prediction)\n",
    "print(combine_regr_mae, combine_regr_median_ae, combine_regr_max_error, regr_std)"
   ]
  }
 ],
 "metadata": {
  "colab": {
   "collapsed_sections": [],
   "machine_shape": "hm",
   "name": "population growth",
   "provenance": []
  },
  "kernelspec": {
   "display_name": "Python 3",
   "language": "python",
   "name": "python3"
  },
  "language_info": {
   "codemirror_mode": {
    "name": "ipython",
    "version": 3
   },
   "file_extension": ".py",
   "mimetype": "text/x-python",
   "name": "python",
   "nbconvert_exporter": "python",
   "pygments_lexer": "ipython3",
   "version": "3.7.7"
  }
 },
 "nbformat": 4,
 "nbformat_minor": 1
}
