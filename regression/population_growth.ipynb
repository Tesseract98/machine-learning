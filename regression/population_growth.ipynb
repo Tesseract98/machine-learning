{
 "cells": [
  {
   "cell_type": "markdown",
   "metadata": {
    "colab_type": "text",
    "id": "JEKVrxuFSn5I"
   },
   "source": [
    "# **Загрузка данных**"
   ]
  },
  {
   "cell_type": "code",
   "execution_count": 0,
   "metadata": {
    "colab": {},
    "colab_type": "code",
    "id": "Xi5xBe4ZSkES"
   },
   "outputs": [],
   "source": [
    "from glob import glob\n",
    "import os\n",
    "import pandas as pd\n",
    "import pathlib\n",
    "import numpy as np\n",
    "import matplotlib.pyplot as plt\n",
    "from tqdm import tqdm"
   ]
  },
  {
   "cell_type": "code",
   "execution_count": 0,
   "metadata": {
    "colab": {},
    "colab_type": "code",
    "id": "JJ0LerTLcTow"
   },
   "outputs": [],
   "source": [
    "data_path = \"data/population.xls\"\n",
    "# train_data = pathlib.Path(\"data/population.xls\")\n",
    "data = pd.read_excel(data_path)"
   ]
  },
  {
   "cell_type": "code",
   "execution_count": 0,
   "metadata": {
    "colab": {},
    "colab_type": "code",
    "id": "IQ2PnKVIo-bh"
   },
   "outputs": [],
   "source": [
    "data = data.drop(['Unnamed: 4', 'Unnamed: 5'], axis = 1)"
   ]
  },
  {
   "cell_type": "code",
   "execution_count": 0,
   "metadata": {
    "colab": {},
    "colab_type": "code",
    "id": "xIsCW3DCdOjR"
   },
   "outputs": [],
   "source": [
    "data = data.rename(columns={'Обновлено 19.04.2019': 'year', 'Unnamed: 1': 'all_population', 'Unnamed: 2': 'town', 'Unnamed: 3': 'country'})"
   ]
  },
  {
   "cell_type": "code",
   "execution_count": 5,
   "metadata": {
    "colab": {
     "base_uri": "https://localhost:8080/",
     "height": 109
    },
    "colab_type": "code",
    "id": "5BQeq2Ocj05j",
    "outputId": "0767e0ff-ecad-4da4-844e-54d1b8e5df0d"
   },
   "outputs": [
    {
     "name": "stdout",
     "output_type": "stream",
     "text": [
      "        year  all_population   town  country\n",
      "count     46            46.0   46.0     46.0\n",
      "unique    46            41.0   43.0     41.0\n",
      "top     1983           148.3  104.9     38.9\n",
      "freq       1             2.0    2.0      2.0\n"
     ]
    }
   ],
   "source": [
    "sliced_data = data.loc[11:56]\n",
    "print(sliced_data.describe())"
   ]
  },
  {
   "cell_type": "code",
   "execution_count": 6,
   "metadata": {
    "colab": {
     "base_uri": "https://localhost:8080/",
     "height": 284
    },
    "colab_type": "code",
    "id": "QHfXSGzzhVC7",
    "outputId": "d63bd194-4d92-491a-83b8-ffaa8d136114"
   },
   "outputs": [
    {
     "data": {
      "text/plain": [
       "<matplotlib.axes._subplots.AxesSubplot at 0x7f37a40bccf8>"
      ]
     },
     "execution_count": 6,
     "metadata": {
      "tags": []
     },
     "output_type": "execute_result"
    },
    {
     "data": {
      "image/png": "[encoded data removed]",
      "text/plain": [
       "<Figure size 432x288 with 1 Axes>"
      ]
     },
     "metadata": {
      "needs_background": "light",
      "tags": []
     },
     "output_type": "display_data"
    }
   ],
   "source": [
    "sliced_data['country'].hist(grid=True)"
   ]
  },
  {
   "cell_type": "code",
   "execution_count": 7,
   "metadata": {
    "colab": {
     "base_uri": "https://localhost:8080/",
     "height": 127
    },
    "colab_type": "code",
    "id": "omj2AQXsiqjT",
    "outputId": "c09ce995-b63c-41cb-a174-c1d9645fc13d"
   },
   "outputs": [
    {
     "data": {
      "text/plain": [
       "148.3    2\n",
       "142.9    2\n",
       "146.3    2\n",
       "142.8    2\n",
       "146.8    2\n",
       "Name: all_population, dtype: int64"
      ]
     },
     "execution_count": 7,
     "metadata": {
      "tags": []
     },
     "output_type": "execute_result"
    }
   ],
   "source": [
    "sliced_data['all_population'].value_counts().head()"
   ]
  },
  {
   "cell_type": "code",
   "execution_count": 8,
   "metadata": {
    "colab": {
     "base_uri": "https://localhost:8080/",
     "height": 35
    },
    "colab_type": "code",
    "id": "rQMRGsMplMmo",
    "outputId": "4c8bad0d-4a5a-4dcc-f1b3-62cc249336a5"
   },
   "outputs": [
    {
     "name": "stdout",
     "output_type": "stream",
     "text": [
      "(46, 1) (46, 1)\n"
     ]
    }
   ],
   "source": [
    "# X = np.array([list(sliced_data['town']), list(sliced_data['country'])]).reshape(-1, 2)\n",
    "X = np.array(list(sliced_data['town'])).reshape(-1, 1)\n",
    "# y = np.array(list(sliced_data['all_population'])).reshape(-1, 1)\n",
    "y = np.array(sliced_data['all_population']).reshape(-1, 1)\n",
    "print(X.shape, y.shape)"
   ]
  },
  {
   "cell_type": "code",
   "execution_count": 0,
   "metadata": {
    "colab": {},
    "colab_type": "code",
    "id": "Hjc8FXxLuUFt"
   },
   "outputs": [],
   "source": [
    "past_data = 10\n",
    "future_data = 5"
   ]
  },
  {
   "cell_type": "code",
   "execution_count": 10,
   "metadata": {
    "colab": {
     "base_uri": "https://localhost:8080/",
     "height": 35
    },
    "colab_type": "code",
    "id": "ZNnkVHVBvl99",
    "outputId": "350c4e12-a892-4095-a5f1-8d32c7d3882d"
   },
   "outputs": [
    {
     "data": {
      "text/plain": [
       "41"
      ]
     },
     "execution_count": 10,
     "metadata": {
      "tags": []
     },
     "output_type": "execute_result"
    }
   ],
   "source": [
    "start = past_data\n",
    "end = len(X) - future_data\n",
    "end"
   ]
  },
  {
   "cell_type": "code",
   "execution_count": 0,
   "metadata": {
    "colab": {},
    "colab_type": "code",
    "id": "j0CHdheQ8cRO"
   },
   "outputs": [],
   "source": [
    "# data_X[(start - past_data):(start)]"
   ]
  },
  {
   "cell_type": "code",
   "execution_count": 12,
   "metadata": {
    "colab": {
     "base_uri": "https://localhost:8080/",
     "height": 54
    },
    "colab_type": "code",
    "id": "8pjFq450w7pS",
    "outputId": "1d94b2f8-98f3-4553-f1a4-e1ceed4cc0eb"
   },
   "outputs": [
    {
     "name": "stderr",
     "output_type": "stream",
     "text": [
      "100%|██████████| 31/31 [00:00<00:00, 53551.66it/s]"
     ]
    },
    {
     "name": "stdout",
     "output_type": "stream",
     "text": [
      "15\n"
     ]
    },
    {
     "name": "stderr",
     "output_type": "stream",
     "text": [
      "\n"
     ]
    }
   ],
   "source": [
    "new_df = []\n",
    "for i in tqdm(range(start, end)):\n",
    "  past_days = list(X[(i - past_data):(i)])\n",
    "  future_days = list(y[i: (i + future_data)])\n",
    "  past_days += future_days\n",
    "  new_df.append(past_days)\n",
    "\n",
    "print(len(new_df[0]))"
   ]
  },
  {
   "cell_type": "code",
   "execution_count": 0,
   "metadata": {
    "colab": {},
    "colab_type": "code",
    "id": "Ai5WMmjmy6uD"
   },
   "outputs": [],
   "source": [
    "past_columns = []\n",
    "for i in range(past_data):\n",
    "  past_columns.append(f'past_{i}')\n",
    "\n",
    "future_columns = []\n",
    "for i in range(future_data):\n",
    "  future_columns.append(f'future_{i}')"
   ]
  },
  {
   "cell_type": "code",
   "execution_count": 0,
   "metadata": {
    "colab": {},
    "colab_type": "code",
    "id": "j9JHjYdmzvjd"
   },
   "outputs": [],
   "source": [
    "transformed_df = pd.DataFrame(new_df, columns=(past_columns + future_columns))"
   ]
  },
  {
   "cell_type": "code",
   "execution_count": 0,
   "metadata": {
    "colab": {},
    "colab_type": "code",
    "id": "bxn61Cs71TD7"
   },
   "outputs": [],
   "source": [
    "X = transformed_df[past_columns][:-1]\n",
    "y = transformed_df[future_columns][:-1]\n",
    "\n",
    "X_test = transformed_df[past_columns][-1:]\n",
    "y_test = transformed_df[future_columns][-1:]"
   ]
  },
  {
   "cell_type": "code",
   "execution_count": 16,
   "metadata": {
    "colab": {
     "base_uri": "https://localhost:8080/",
     "height": 256
    },
    "colab_type": "code",
    "id": "ZECUCH1Y2M7X",
    "outputId": "ce6b913a-6a02-427f-fbca-79f8f64695c2"
   },
   "outputs": [
    {
     "name": "stdout",
     "output_type": "stream",
     "text": [
      "   past_0  past_1  past_2  past_3  ...  past_6  past_7  past_8  past_9\n",
      "0  [15.5]  [16.4]  [36.3]  [61.1]  ...  [83.6]  [85.4]  [87.1]  [88.9]\n",
      "1  [16.4]  [36.3]  [61.1]  [80.6]  ...  [85.4]  [87.1]  [88.9]  [90.6]\n",
      "2  [36.3]  [61.1]  [80.6]  [82.0]  ...  [87.1]  [88.9]  [90.6]  [92.1]\n",
      "3  [61.1]  [80.6]  [82.0]  [83.6]  ...  [88.9]  [90.6]  [92.1]  [93.5]\n",
      "4  [80.6]  [82.0]  [83.6]  [85.4]  ...  [90.6]  [92.1]  [93.5]  [94.9]\n",
      "\n",
      "[5 rows x 10 columns]   future_0 future_1 future_2 future_3 future_4\n",
      "0  [134.5]  [135.5]  [136.5]  [137.4]  [138.1]\n",
      "1  [135.5]  [136.5]  [137.4]  [138.1]  [138.8]\n",
      "2  [136.5]  [137.4]  [138.1]  [138.8]  [139.6]\n",
      "3  [137.4]  [138.1]  [138.8]  [139.6]  [140.5]\n",
      "4  [138.1]  [138.8]  [139.6]  [140.5]  [141.6]\n"
     ]
    }
   ],
   "source": [
    "print(X.head(), y.head())"
   ]
  },
  {
   "cell_type": "code",
   "execution_count": 0,
   "metadata": {
    "colab": {},
    "colab_type": "code",
    "id": "Xg7x8-eJ2w1L"
   },
   "outputs": [],
   "source": [
    "from sklearn.linear_model import LinearRegression\n",
    "\n",
    "LR = LinearRegression()"
   ]
  },
  {
   "cell_type": "code",
   "execution_count": 18,
   "metadata": {
    "colab": {
     "base_uri": "https://localhost:8080/",
     "height": 35
    },
    "colab_type": "code",
    "id": "pnK9sWlp3WTP",
    "outputId": "5f2b92f2-cf71-4e79-9e0a-8e21dc5b451e"
   },
   "outputs": [
    {
     "data": {
      "text/plain": [
       "LinearRegression(copy_X=True, fit_intercept=True, n_jobs=None, normalize=False)"
      ]
     },
     "execution_count": 18,
     "metadata": {
      "tags": []
     },
     "output_type": "execute_result"
    }
   ],
   "source": [
    "LR.fit(X, y)"
   ]
  },
  {
   "cell_type": "code",
   "execution_count": 0,
   "metadata": {
    "colab": {},
    "colab_type": "code",
    "id": "6HAkwEPfB2Ux"
   },
   "outputs": [],
   "source": [
    "prediction = LR.predict(X_test)"
   ]
  },
  {
   "cell_type": "code",
   "execution_count": 20,
   "metadata": {
    "colab": {
     "base_uri": "https://localhost:8080/",
     "height": 285
    },
    "colab_type": "code",
    "id": "5i2mDVeYCJkY",
    "outputId": "1aee49ac-477d-4631-9c34-9fd3c6df894c"
   },
   "outputs": [
    {
     "data": {
      "text/plain": [
       "<matplotlib.legend.Legend at 0x7f37967d9c88>"
      ]
     },
     "execution_count": 20,
     "metadata": {
      "tags": []
     },
     "output_type": "execute_result"
    },
    {
     "data": {
      "image/png": "[encoded data removed]",
      "text/plain": [
       "<Figure size 432x288 with 1 Axes>"
      ]
     },
     "metadata": {
      "needs_background": "light",
      "tags": []
     },
     "output_type": "display_data"
    }
   ],
   "source": [
    "plt.plot(prediction[0], label='Prediction')\n",
    "plt.plot(y_test.iloc[0])\n",
    "plt.legend()"
   ]
  },
  {
   "cell_type": "code",
   "execution_count": 0,
   "metadata": {
    "colab": {},
    "colab_type": "code",
    "id": "mTMgrchQFHXE"
   },
   "outputs": [],
   "source": [
    "from sklearn.neighbors import KNeighborsRegressor\n",
    "from sklearn.metrics import mean_absolute_error\n",
    "\n",
    "\n",
    "KNN = KNeighborsRegressor(leaf_size=100, n_neighbors=3)"
   ]
  },
  {
   "cell_type": "code",
   "execution_count": 22,
   "metadata": {
    "colab": {
     "base_uri": "https://localhost:8080/",
     "height": 72
    },
    "colab_type": "code",
    "id": "QtnPoCAqFTtk",
    "outputId": "170cae21-4e16-4750-b22b-f2ea03d032a0"
   },
   "outputs": [
    {
     "data": {
      "text/plain": [
       "KNeighborsRegressor(algorithm='auto', leaf_size=100, metric='minkowski',\n",
       "                    metric_params=None, n_jobs=None, n_neighbors=3, p=2,\n",
       "                    weights='uniform')"
      ]
     },
     "execution_count": 22,
     "metadata": {
      "tags": []
     },
     "output_type": "execute_result"
    }
   ],
   "source": [
    "KNN.fit(X, y)"
   ]
  },
  {
   "cell_type": "code",
   "execution_count": 23,
   "metadata": {
    "colab": {
     "base_uri": "https://localhost:8080/",
     "height": 286
    },
    "colab_type": "code",
    "id": "487TGhNeMMZ5",
    "outputId": "8ddbf40b-b258-4bfe-e494-0e5b2ec3c9da"
   },
   "outputs": [
    {
     "data": {
      "text/plain": [
       "<matplotlib.legend.Legend at 0x7f37958d82b0>"
      ]
     },
     "execution_count": 23,
     "metadata": {
      "tags": []
     },
     "output_type": "execute_result"
    },
    {
     "data": {
      "image/png": "[encoded data removed]",
      "text/plain": [
       "<Figure size 432x288 with 1 Axes>"
      ]
     },
     "metadata": {
      "needs_background": "light",
      "tags": []
     },
     "output_type": "display_data"
    }
   ],
   "source": [
    "prd = KNN.predict(X)\n",
    "plt.plot(prd[0], label='Prediction')\n",
    "plt.plot(y.iloc[0])\n",
    "plt.legend()"
   ]
  },
  {
   "cell_type": "code",
   "execution_count": 24,
   "metadata": {
    "colab": {
     "base_uri": "https://localhost:8080/",
     "height": 284
    },
    "colab_type": "code",
    "id": "6q1uAt4yFcze",
    "outputId": "6d656bb7-4475-4e18-d21c-02a64c15cd02"
   },
   "outputs": [
    {
     "data": {
      "text/plain": [
       "<matplotlib.legend.Legend at 0x7f37958ade48>"
      ]
     },
     "execution_count": 24,
     "metadata": {
      "tags": []
     },
     "output_type": "execute_result"
    },
    {
     "data": {
      "image/png": "[encoded data removed]",
      "text/plain": [
       "<Figure size 432x288 with 1 Axes>"
      ]
     },
     "metadata": {
      "needs_background": "light",
      "tags": []
     },
     "output_type": "display_data"
    }
   ],
   "source": [
    "prediction2 = KNN.predict(X_test)\n",
    "# overfitting\n",
    "plt.plot(prediction2[0], label='Prediction')\n",
    "plt.plot(y_test.iloc[0])\n",
    "plt.legend()"
   ]
  },
  {
   "cell_type": "code",
   "execution_count": 25,
   "metadata": {
    "colab": {
     "base_uri": "https://localhost:8080/",
     "height": 35
    },
    "colab_type": "code",
    "id": "QcgI18JzFn0g",
    "outputId": "952913de-a3de-4c2a-b711-1cdf38be3821"
   },
   "outputs": [
    {
     "data": {
      "text/plain": [
       "1.4666666666666628"
      ]
     },
     "execution_count": 25,
     "metadata": {
      "tags": []
     },
     "output_type": "execute_result"
    }
   ],
   "source": [
    "from sklearn.metrics import mean_absolute_error\n",
    "\n",
    "mean_absolute_error(prediction2[0], y_test.iloc[0])"
   ]
  },
  {
   "cell_type": "code",
   "execution_count": 26,
   "metadata": {
    "colab": {
     "base_uri": "https://localhost:8080/",
     "height": 284
    },
    "colab_type": "code",
    "id": "t52xV4mCIu2o",
    "outputId": "cfa87c44-5fcf-4653-b581-dd2a2701ebfe"
   },
   "outputs": [
    {
     "data": {
      "text/plain": [
       "24.711453642789763"
      ]
     },
     "execution_count": 26,
     "metadata": {
      "tags": []
     },
     "output_type": "execute_result"
    },
    {
     "data": {
      "image/png": "[encoded data removed]",
      "text/plain": [
       "<Figure size 432x288 with 1 Axes>"
      ]
     },
     "metadata": {
      "needs_background": "light",
      "tags": []
     },
     "output_type": "display_data"
    }
   ],
   "source": [
    "from sklearn.neural_network import MLPRegressor\n",
    "\n",
    "MLP = MLPRegressor(random_state=42, max_iter=700, verbose=0, hidden_layer_sizes=500)\n",
    "MLP.fit(X, y)\n",
    "prediction3 = MLP.predict(X_test)\n",
    "plt.plot(prediction3[0], label='Prediction')\n",
    "plt.plot(y_test.iloc[0])\n",
    "plt.legend()\n",
    "mean_absolute_error(prediction3[0], y_test.iloc[0])"
   ]
  },
  {
   "cell_type": "code",
   "execution_count": 0,
   "metadata": {
    "colab": {},
    "colab_type": "code",
    "id": "0EeRIT6dTdi1"
   },
   "outputs": [],
   "source": [
    "from sklearn.model_selection import GridSearchCV\n",
    "from sklearn.ensemble import RandomForestRegressor\n",
    "\n",
    "RFR = RandomForestRegressor()\n",
    "\n",
    "params = {\n",
    "    \"n_estimators\": [100, 130, 150],\n",
    "    \"max_depth\": [3, 5, 7],\n",
    "    \"criterion\": [\"mae\", \"mse\"],\n",
    "}\n",
    "GCV = GridSearchCV(RFR, params, scoring='neg_mean_absolute_error', cv=5, n_jobs=-1, verbose=1)"
   ]
  },
  {
   "cell_type": "code",
   "execution_count": 28,
   "metadata": {
    "colab": {
     "base_uri": "https://localhost:8080/",
     "height": 439
    },
    "colab_type": "code",
    "id": "EPOPlXo1Tnpn",
    "outputId": "3ffda854-548f-43b1-ba54-4ac682bc0fed"
   },
   "outputs": [
    {
     "name": "stdout",
     "output_type": "stream",
     "text": [
      "Fitting 5 folds for each of 18 candidates, totalling 90 fits\n"
     ]
    },
    {
     "name": "stderr",
     "output_type": "stream",
     "text": [
      "[Parallel(n_jobs=-1)]: Using backend LokyBackend with 4 concurrent workers.\n",
      "[Parallel(n_jobs=-1)]: Done  42 tasks      | elapsed:    5.0s\n",
      "[Parallel(n_jobs=-1)]: Done  90 out of  90 | elapsed:    8.0s finished\n"
     ]
    },
    {
     "data": {
      "text/plain": [
       "GridSearchCV(cv=5, error_score=nan,\n",
       "             estimator=RandomForestRegressor(bootstrap=True, ccp_alpha=0.0,\n",
       "                                             criterion='mse', max_depth=None,\n",
       "                                             max_features='auto',\n",
       "                                             max_leaf_nodes=None,\n",
       "                                             max_samples=None,\n",
       "                                             min_impurity_decrease=0.0,\n",
       "                                             min_impurity_split=None,\n",
       "                                             min_samples_leaf=1,\n",
       "                                             min_samples_split=2,\n",
       "                                             min_weight_fraction_leaf=0.0,\n",
       "                                             n_estimators=100, n_jobs=None,\n",
       "                                             oob_score=False, random_state=None,\n",
       "                                             verbose=0, warm_start=False),\n",
       "             iid='deprecated', n_jobs=-1,\n",
       "             param_grid={'criterion': ['mae', 'mse'], 'max_depth': [3, 5, 7],\n",
       "                         'n_estimators': [100, 130, 150]},\n",
       "             pre_dispatch='2*n_jobs', refit=True, return_train_score=False,\n",
       "             scoring='neg_mean_absolute_error', verbose=1)"
      ]
     },
     "execution_count": 28,
     "metadata": {
      "tags": []
     },
     "output_type": "execute_result"
    }
   ],
   "source": [
    "GCV.fit(X, y)"
   ]
  },
  {
   "cell_type": "code",
   "execution_count": 29,
   "metadata": {
    "colab": {
     "base_uri": "https://localhost:8080/",
     "height": 35
    },
    "colab_type": "code",
    "id": "cIdVoQJOYOPX",
    "outputId": "193d8754-f9b9-41ed-8d14-2ae28f800bd8"
   },
   "outputs": [
    {
     "data": {
      "text/plain": [
       "{'criterion': 'mae', 'max_depth': 7, 'n_estimators': 100}"
      ]
     },
     "execution_count": 29,
     "metadata": {
      "tags": []
     },
     "output_type": "execute_result"
    }
   ],
   "source": [
    "GCV.best_params_"
   ]
  },
  {
   "cell_type": "code",
   "execution_count": 30,
   "metadata": {
    "colab": {
     "base_uri": "https://localhost:8080/",
     "height": 35
    },
    "colab_type": "code",
    "id": "U-dQpNh-Yru2",
    "outputId": "dbf79a80-0bd1-474b-ece7-8b6e96e02e52"
   },
   "outputs": [
    {
     "data": {
      "text/plain": [
       "-1.7073800000000077"
      ]
     },
     "execution_count": 30,
     "metadata": {
      "tags": []
     },
     "output_type": "execute_result"
    }
   ],
   "source": [
    "GCV.best_score_"
   ]
  },
  {
   "cell_type": "code",
   "execution_count": 31,
   "metadata": {
    "colab": {
     "base_uri": "https://localhost:8080/",
     "height": 303
    },
    "colab_type": "code",
    "id": "xVN76QL5ZCKp",
    "outputId": "b1fc9745-7210-4299-bc17-99636c5780c6"
   },
   "outputs": [
    {
     "name": "stdout",
     "output_type": "stream",
     "text": [
      "2.6754999999999427\n"
     ]
    },
    {
     "data": {
      "text/plain": [
       "<matplotlib.legend.Legend at 0x7f379413add8>"
      ]
     },
     "execution_count": 31,
     "metadata": {
      "tags": []
     },
     "output_type": "execute_result"
    },
    {
     "data": {
      "image/png": "[encoded data removed]",
      "text/plain": [
       "<Figure size 432x288 with 1 Axes>"
      ]
     },
     "metadata": {
      "needs_background": "light",
      "tags": []
     },
     "output_type": "display_data"
    }
   ],
   "source": [
    "from sklearn.metrics import max_error\n",
    "\n",
    "pred = GCV.best_estimator_.predict(X_test)\n",
    "print(max_error(pred[0], y_test.iloc[0]))\n",
    "plt.plot(pred[0], label='Prediction')\n",
    "plt.plot(y_test.iloc[0])\n",
    "plt.legend()"
   ]
  }
 ],
 "metadata": {
  "colab": {
   "collapsed_sections": [],
   "machine_shape": "hm",
   "name": "population growth",
   "provenance": []
  },
  "kernelspec": {
   "display_name": "Python 3",
   "language": "python",
   "name": "python3"
  },
  "language_info": {
   "codemirror_mode": {
    "name": "ipython",
    "version": 3
   },
   "file_extension": ".py",
   "mimetype": "text/x-python",
   "name": "python",
   "nbconvert_exporter": "python",
   "pygments_lexer": "ipython3",
   "version": "3.7.3"
  }
 },
 "nbformat": 4,
 "nbformat_minor": 1
}
